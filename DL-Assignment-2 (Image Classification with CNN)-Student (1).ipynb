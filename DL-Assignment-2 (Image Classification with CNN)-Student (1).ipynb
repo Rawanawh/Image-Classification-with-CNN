{
 "cells": [
  {
   "cell_type": "markdown",
   "metadata": {},
   "source": [
    "___\n",
    "\n",
    "<p style=\"text-align: center;\"><img src=\"https://docs.google.com/uc?id=1lY0Uj5R04yMY3-ZppPWxqCr5pvBLYPnV\" class=\"img-fluid\" alt=\"CLRSWY\"></p>\n",
    "\n",
    "___"
   ]
  },
  {
   "cell_type": "markdown",
   "metadata": {},
   "source": [
    "<h1 style=\"text-align: center;\">Deep Learning<br><br>Assignment-2 (CNN)<br><br>Image Classification with CNN<br><h1>"
   ]
  },
  {
   "cell_type": "markdown",
   "metadata": {},
   "source": [
    "# Task and Dataset Info\n",
    "\n",
    "Welcome to second assignment of Deep learning lesson. Follow the instructions and complete the assignment.\n",
    "\n",
    "**Build an image classifier with Convolutional Neural Networks for the Fashion MNIST dataset. This data set includes 10 labels of different clothing types with 28 by 28 *grayscale* images. There is a training set of 60,000 images and 10,000 test images.**\n",
    "\n",
    "    Label\tDescription\n",
    "    0\t    T-shirt/top\n",
    "    1\t    Trouser\n",
    "    2\t    Pullover\n",
    "    3\t    Dress\n",
    "    4\t    Coat\n",
    "    5\t    Sandal\n",
    "    6\t    Shirt\n",
    "    7\t    Sneaker\n",
    "    8\t    Bag\n",
    "    9\t    Ankle boot"
   ]
  },
  {
   "cell_type": "markdown",
   "metadata": {},
   "source": [
    "# Import Libraries"
   ]
  },
  {
   "cell_type": "code",
   "execution_count": 1,
   "metadata": {},
   "outputs": [],
   "source": [
    "import matplotlib.pyplot as plt\n",
    "import seaborn as sns\n",
    "from mlxtend.plotting import plot_confusion_matrix\n",
    "#data\n",
    "import numpy as np\n",
    "import pandas as pd\n",
    "#tensorflow/keras\n",
    "import tensorflow as tf\n",
    "from tensorflow.keras.datasets import fashion_mnist\n",
    "from tensorflow.keras.models import Sequential\n",
    "from tensorflow.keras.utils import to_categorical\n",
    "from tensorflow.keras.layers import Dense, Conv2D, MaxPool2D, Flatten, Dropout, BatchNormalization\n",
    "from tensorflow.keras.callbacks import EarlyStopping\n",
    "#sklearn\n",
    "from sklearn.model_selection import train_test_split\n",
    "from sklearn.metrics import accuracy_score, confusion_matrix, classification_report, ConfusionMatrixDisplay\n",
    "from sklearn.metrics import roc_curve, auc\n",
    "from sklearn.metrics import precision_score, recall_score, accuracy_score, f1_score\n",
    "#optimization\n",
    "from tensorflow.keras.optimizers import Adam, Adadelta, RMSprop, Nadam\n",
    "import optuna\n",
    "#model saving\n",
    "import pickle\n",
    "from tensorflow.keras.models import load_model"
   ]
  },
  {
   "cell_type": "markdown",
   "metadata": {},
   "source": [
    "# Recognizing and Understanding Data\n",
    "\n",
    "**TASK 1: Run the code below to download the dataset using Keras.**"
   ]
  },
  {
   "cell_type": "code",
   "execution_count": 2,
   "metadata": {},
   "outputs": [],
   "source": [
    "(x_train, y_train), (x_test, y_test) = fashion_mnist.load_data()"
   ]
  },
  {
   "cell_type": "code",
   "execution_count": 3,
   "metadata": {},
   "outputs": [],
   "source": [
    "#valdation split\n",
    "X_train_v, X_val, y_train_v, y_val = train_test_split(x_train, y_train, test_size = 0.1, stratify = y_train)"
   ]
  },
  {
   "cell_type": "code",
   "execution_count": 4,
   "metadata": {},
   "outputs": [
    {
     "data": {
      "text/plain": [
       "255"
      ]
     },
     "execution_count": 4,
     "metadata": {},
     "output_type": "execute_result"
    }
   ],
   "source": [
    "X_train_v.max()"
   ]
  },
  {
   "cell_type": "code",
   "execution_count": 5,
   "metadata": {},
   "outputs": [
    {
     "data": {
      "text/plain": [
       "(60000, 28, 28)"
      ]
     },
     "execution_count": 5,
     "metadata": {},
     "output_type": "execute_result"
    }
   ],
   "source": [
    "x_train.shape"
   ]
  },
  {
   "cell_type": "code",
   "execution_count": 6,
   "metadata": {},
   "outputs": [
    {
     "data": {
      "text/plain": [
       "(10000, 28, 28)"
      ]
     },
     "execution_count": 6,
     "metadata": {},
     "output_type": "execute_result"
    }
   ],
   "source": [
    "x_test.shape"
   ]
  },
  {
   "cell_type": "code",
   "execution_count": 7,
   "metadata": {},
   "outputs": [
    {
     "data": {
      "text/plain": [
       "(54000, 28, 28)"
      ]
     },
     "execution_count": 7,
     "metadata": {},
     "output_type": "execute_result"
    }
   ],
   "source": [
    "X_train_v.shape"
   ]
  },
  {
   "cell_type": "code",
   "execution_count": 8,
   "metadata": {},
   "outputs": [
    {
     "data": {
      "text/plain": [
       "(60000,)"
      ]
     },
     "execution_count": 8,
     "metadata": {},
     "output_type": "execute_result"
    }
   ],
   "source": [
    "y_train.shape"
   ]
  },
  {
   "cell_type": "code",
   "execution_count": 9,
   "metadata": {},
   "outputs": [
    {
     "data": {
      "text/plain": [
       "(6000, 28, 28)"
      ]
     },
     "execution_count": 9,
     "metadata": {},
     "output_type": "execute_result"
    }
   ],
   "source": [
    "X_val.shape"
   ]
  },
  {
   "cell_type": "code",
   "execution_count": 10,
   "metadata": {},
   "outputs": [
    {
     "data": {
      "text/plain": [
       "(6000,)"
      ]
     },
     "execution_count": 10,
     "metadata": {},
     "output_type": "execute_result"
    }
   ],
   "source": [
    "y_val.shape"
   ]
  },
  {
   "cell_type": "markdown",
   "metadata": {},
   "source": [
    "**TASK 2: Use matplotlib to view an image from the data set. It can be any image from the data set.**"
   ]
  },
  {
   "cell_type": "code",
   "execution_count": 11,
   "metadata": {},
   "outputs": [],
   "source": [
    "classes=[\"T-shirt/top\", \"Trouser\",\"Pullover\",\"Dress\",\"Coat\",\"Sandal\",\"Shirt\",\"Sneaker\",\"Bag\",\"Ankle boot\"]"
   ]
  },
  {
   "cell_type": "code",
   "execution_count": 13,
   "metadata": {},
   "outputs": [
    {
     "data": {
      "image/png": "[encoded data removed]",
      "text/plain": [
       "<Figure size 640x480 with 1 Axes>"
      ]
     },
     "metadata": {},
     "output_type": "display_data"
    }
   ],
   "source": [
    "plt.imshow(X_train_v[20])\n",
    "plt.show()"
   ]
  },
  {
   "cell_type": "markdown",
   "metadata": {},
   "source": [
    "# Data Preprocessing\n",
    "\n",
    "**TASK 3: Normalize the X train and X test data by dividing by the max value of the image arrays.**"
   ]
  },
  {
   "cell_type": "code",
   "execution_count": 15,
   "metadata": {},
   "outputs": [
    {
     "data": {
      "text/plain": [
       "255"
      ]
     },
     "execution_count": 15,
     "metadata": {},
     "output_type": "execute_result"
    }
   ],
   "source": [
    "x_train.max()"
   ]
  },
  {
   "cell_type": "code",
   "execution_count": 16,
   "metadata": {},
   "outputs": [
    {
     "data": {
      "text/plain": [
       "255"
      ]
     },
     "execution_count": 16,
     "metadata": {},
     "output_type": "execute_result"
    }
   ],
   "source": [
    "X_train_v.max()"
   ]
  },
  {
   "cell_type": "code",
   "execution_count": 17,
   "metadata": {},
   "outputs": [
    {
     "data": {
      "text/plain": [
       "255"
      ]
     },
     "execution_count": 17,
     "metadata": {},
     "output_type": "execute_result"
    }
   ],
   "source": [
    "X_val.max()"
   ]
  },
  {
   "cell_type": "code",
   "execution_count": 18,
   "metadata": {},
   "outputs": [
    {
     "data": {
      "text/plain": [
       "255"
      ]
     },
     "execution_count": 18,
     "metadata": {},
     "output_type": "execute_result"
    }
   ],
   "source": [
    "x_test.max()"
   ]
  },
  {
   "cell_type": "code",
   "execution_count": 19,
   "metadata": {},
   "outputs": [],
   "source": [
    "X_train = x_train.astype(\"float32\")\n",
    "X_test = x_test.astype(\"float32\")\n",
    "X_train /= 255\n",
    "X_test /= 255"
   ]
  },
  {
   "cell_type": "code",
   "execution_count": 20,
   "metadata": {},
   "outputs": [],
   "source": [
    "X_train_v = X_train_v.astype(\"float32\")\n",
    "X_val = X_val.astype(\"float32\")\n",
    "X_train_v /= 255\n",
    "X_val /= 255"
   ]
  },
  {
   "cell_type": "code",
   "execution_count": 21,
   "metadata": {},
   "outputs": [
    {
     "data": {
      "text/plain": [
       "1.0"
      ]
     },
     "execution_count": 21,
     "metadata": {},
     "output_type": "execute_result"
    }
   ],
   "source": [
    "X_train_v.max()"
   ]
  },
  {
   "cell_type": "code",
   "execution_count": 22,
   "metadata": {},
   "outputs": [
    {
     "data": {
      "text/plain": [
       "1.0"
      ]
     },
     "execution_count": 22,
     "metadata": {},
     "output_type": "execute_result"
    }
   ],
   "source": [
    "X_train.max()"
   ]
  },
  {
   "cell_type": "code",
   "execution_count": 23,
   "metadata": {},
   "outputs": [
    {
     "data": {
      "text/plain": [
       "1.0"
      ]
     },
     "execution_count": 23,
     "metadata": {},
     "output_type": "execute_result"
    }
   ],
   "source": [
    "X_val.max()"
   ]
  },
  {
   "cell_type": "code",
   "execution_count": 24,
   "metadata": {},
   "outputs": [
    {
     "data": {
      "text/plain": [
       "1.0"
      ]
     },
     "execution_count": 24,
     "metadata": {},
     "output_type": "execute_result"
    }
   ],
   "source": [
    "X_test.max()"
   ]
  },
  {
   "cell_type": "markdown",
   "metadata": {},
   "source": [
    "**Task 4: Reshape the X arrays to include a 4 dimension of the single channel. Similar to what we did for the numbers MNIST data set.**"
   ]
  },
  {
   "cell_type": "code",
   "execution_count": 25,
   "metadata": {},
   "outputs": [],
   "source": [
    "X_train_vs = np.expand_dims(X_train_v, -1)\n",
    "X_val_s = np.expand_dims(X_val, -1)"
   ]
  },
  {
   "cell_type": "code",
   "execution_count": 26,
   "metadata": {},
   "outputs": [],
   "source": [
    "X_train_s = np.expand_dims(X_train, -1)\n",
    "X_test_s = np.expand_dims(X_test, -1)"
   ]
  },
  {
   "cell_type": "code",
   "execution_count": 27,
   "metadata": {},
   "outputs": [
    {
     "data": {
      "text/plain": [
       "(60000, 28, 28, 1)"
      ]
     },
     "execution_count": 27,
     "metadata": {},
     "output_type": "execute_result"
    }
   ],
   "source": [
    "X_train_s.shape"
   ]
  },
  {
   "cell_type": "code",
   "execution_count": 28,
   "metadata": {},
   "outputs": [
    {
     "data": {
      "text/plain": [
       "(6000, 28, 28, 1)"
      ]
     },
     "execution_count": 28,
     "metadata": {},
     "output_type": "execute_result"
    }
   ],
   "source": [
    "X_val_s.shape"
   ]
  },
  {
   "cell_type": "code",
   "execution_count": 29,
   "metadata": {},
   "outputs": [
    {
     "data": {
      "text/plain": [
       "(54000, 28, 28, 1)"
      ]
     },
     "execution_count": 29,
     "metadata": {},
     "output_type": "execute_result"
    }
   ],
   "source": [
    "X_train_vs.shape"
   ]
  },
  {
   "cell_type": "code",
   "execution_count": 30,
   "metadata": {},
   "outputs": [
    {
     "data": {
      "text/plain": [
       "(10000, 28, 28, 1)"
      ]
     },
     "execution_count": 30,
     "metadata": {},
     "output_type": "execute_result"
    }
   ],
   "source": [
    "X_test_s.shape"
   ]
  },
  {
   "cell_type": "markdown",
   "metadata": {},
   "source": [
    "**TASK 5: Convert the y_train and y_test values to be one-hot encoded for categorical analysis by Keras.**"
   ]
  },
  {
   "cell_type": "code",
   "execution_count": 31,
   "metadata": {},
   "outputs": [],
   "source": [
    "y_train_vc = to_categorical(y_train_v)\n",
    "y_val_vc = to_categorical(y_val)"
   ]
  },
  {
   "cell_type": "code",
   "execution_count": 32,
   "metadata": {},
   "outputs": [],
   "source": [
    "y_train_c = to_categorical(y_train)\n",
    "y_test_c = to_categorical(y_test)"
   ]
  },
  {
   "cell_type": "code",
   "execution_count": 33,
   "metadata": {},
   "outputs": [
    {
     "data": {
      "text/plain": [
       "1.0"
      ]
     },
     "execution_count": 33,
     "metadata": {},
     "output_type": "execute_result"
    }
   ],
   "source": [
    "y_train_vc.max()"
   ]
  },
  {
   "cell_type": "code",
   "execution_count": 34,
   "metadata": {},
   "outputs": [
    {
     "data": {
      "text/plain": [
       "1.0"
      ]
     },
     "execution_count": 34,
     "metadata": {},
     "output_type": "execute_result"
    }
   ],
   "source": [
    "y_val_vc.max()"
   ]
  },
  {
   "cell_type": "code",
   "execution_count": 35,
   "metadata": {},
   "outputs": [
    {
     "data": {
      "text/plain": [
       "1.0"
      ]
     },
     "execution_count": 35,
     "metadata": {},
     "output_type": "execute_result"
    }
   ],
   "source": [
    "y_train_c.max()"
   ]
  },
  {
   "cell_type": "code",
   "execution_count": 36,
   "metadata": {},
   "outputs": [
    {
     "data": {
      "text/plain": [
       "1.0"
      ]
     },
     "execution_count": 36,
     "metadata": {},
     "output_type": "execute_result"
    }
   ],
   "source": [
    "y_test_c.max()"
   ]
  },
  {
   "cell_type": "markdown",
   "metadata": {},
   "source": [
    "# Modeling"
   ]
  },
  {
   "cell_type": "markdown",
   "metadata": {},
   "source": [
    "## Create the model \n",
    "\n",
    "**TASK 5: Use Keras to create a model consisting of at least the following layers (but feel free to experiment):**\n",
    "\n",
    "* 2D Convolutional Layer, filters=28 and kernel_size=(3,3)\n",
    "* Pooling Layer where pool_size = (2,2) strides=(1,1)\n",
    "\n",
    "* Flatten Layer\n",
    "* Dense Layer (128 Neurons, but feel free to play around with this value), RELU activation\n",
    "\n",
    "* Final Dense Layer of 10 Neurons with a softmax activation\n",
    "\n",
    "**Then compile the model with these parameters: loss='categorical_crossentropy', optimizer='rmsprop', metrics=['accuracy']**"
   ]
  },
  {
   "cell_type": "code",
   "execution_count": 37,
   "metadata": {},
   "outputs": [],
   "source": [
    "model = Sequential()\n",
    "\n",
    "model.add(Conv2D(filters=32, kernel_size=(3, 3), input_shape=(28, 28, 1), activation=\"relu\",padding=\"same\"))\n",
    "model.add(MaxPool2D(pool_size=(2, 2), strides = (1, 1)))\n",
    "\n",
    "\n",
    "model.add(Flatten())\n",
    "model.add(Dense(128, activation=\"relu\"))\n",
    "model.add(Dense(10, activation=\"softmax\"))\n",
    "\n",
    "model.compile(loss=\"categorical_crossentropy\", optimizer=\"rmsprop\", metrics=[\"accuracy\"])"
   ]
  },
  {
   "cell_type": "code",
   "execution_count": 38,
   "metadata": {},
   "outputs": [
    {
     "name": "stdout",
     "output_type": "stream",
     "text": [
      "Model: \"sequential\"\n",
      "_________________________________________________________________\n",
      " Layer (type)                Output Shape              Param #   \n",
      "=================================================================\n",
      " conv2d (Conv2D)             (None, 28, 28, 32)        320       \n",
      "                                                                 \n",
      " max_pooling2d (MaxPooling2D  (None, 27, 27, 32)       0         \n",
      " )                                                               \n",
      "                                                                 \n",
      " flatten (Flatten)           (None, 23328)             0         \n",
      "                                                                 \n",
      " dense (Dense)               (None, 128)               2986112   \n",
      "                                                                 \n",
      " dense_1 (Dense)             (None, 10)                1290      \n",
      "                                                                 \n",
      "=================================================================\n",
      "Total params: 2,987,722\n",
      "Trainable params: 2,987,722\n",
      "Non-trainable params: 0\n",
      "_________________________________________________________________\n"
     ]
    }
   ],
   "source": [
    "model.summary()"
   ]
  },
  {
   "cell_type": "markdown",
   "metadata": {},
   "source": [
    "##  Model Training \n",
    "\n",
    "**TASK 6: Train/Fit the model to the x_train set by using EarlyStop. Amount of epochs is up to you.**"
   ]
  },
  {
   "cell_type": "code",
   "execution_count": 39,
   "metadata": {},
   "outputs": [],
   "source": [
    "early_stop = tf.keras.callbacks.EarlyStopping(monitor=\"val_loss\", mode=\"min\", verbose=1, patience=5,\n",
    "                                           restore_best_weights=True)"
   ]
  },
  {
   "cell_type": "code",
   "execution_count": 40,
   "metadata": {},
   "outputs": [
    {
     "name": "stdout",
     "output_type": "stream",
     "text": [
      "Epoch 1/30\n"
     ]
    },
    {
     "name": "stderr",
     "output_type": "stream",
     "text": [
      "2023-11-02 01:41:48.488330: W tensorflow/tsl/platform/profile_utils/cpu_utils.cc:128] Failed to get CPU frequency: 0 Hz\n"
     ]
    },
    {
     "name": "stdout",
     "output_type": "stream",
     "text": [
      "  91/1688 [>.............................] - ETA: 21s - loss: 0.9303 - accuracy: 0.6848"
     ]
    },
    {
     "name": "stdout",
     "output_type": "stream",
     "text": [
      "1688/1688 [==============================] - 20s 12ms/step - loss: 0.3927 - accuracy: 0.8608 - val_loss: 0.3323 - val_accuracy: 0.8822\n",
      "Epoch 2/30\n",
      "1688/1688 [==============================] - 19s 11ms/step - loss: 0.2574 - accuracy: 0.9066 - val_loss: 0.2837 - val_accuracy: 0.9045\n",
      "Epoch 3/30\n",
      "1688/1688 [==============================] - 19s 11ms/step - loss: 0.2106 - accuracy: 0.9221 - val_loss: 0.2554 - val_accuracy: 0.9118\n",
      "Epoch 4/30\n",
      "1688/1688 [==============================] - 19s 12ms/step - loss: 0.1782 - accuracy: 0.9351 - val_loss: 0.2391 - val_accuracy: 0.9203\n",
      "Epoch 5/30\n",
      "1688/1688 [==============================] - 20s 12ms/step - loss: 0.1529 - accuracy: 0.9439 - val_loss: 0.2504 - val_accuracy: 0.9167\n",
      "Epoch 6/30\n",
      "1688/1688 [==============================] - 20s 12ms/step - loss: 0.1324 - accuracy: 0.9522 - val_loss: 0.2640 - val_accuracy: 0.9228\n",
      "Epoch 7/30\n",
      "1688/1688 [==============================] - 20s 12ms/step - loss: 0.1128 - accuracy: 0.9600 - val_loss: 0.2774 - val_accuracy: 0.9207\n",
      "Epoch 8/30\n",
      "1688/1688 [==============================] - 20s 12ms/step - loss: 0.0981 - accuracy: 0.9647 - val_loss: 0.3091 - val_accuracy: 0.9153\n",
      "Epoch 9/30\n",
      "1685/1688 [============================>.] - ETA: 0s - loss: 0.0843 - accuracy: 0.9700Restoring model weights from the end of the best epoch: 4.\n",
      "1688/1688 [==============================] - 20s 12ms/step - loss: 0.0843 - accuracy: 0.9700 - val_loss: 0.3259 - val_accuracy: 0.9213\n",
      "Epoch 9: early stopping\n"
     ]
    }
   ],
   "source": [
    "model_history = model.fit(X_train_vs, y_train_vc, batch_size=32, epochs=30, callbacks=[early_stop], validation_data = (X_val_s, y_val_vc))"
   ]
  },
  {
   "cell_type": "code",
   "execution_count": 41,
   "metadata": {},
   "outputs": [
    {
     "data": {
      "text/html": [
       "<div>\n",
       "<style scoped>\n",
       "    .dataframe tbody tr th:only-of-type {\n",
       "        vertical-align: middle;\n",
       "    }\n",
       "\n",
       "    .dataframe tbody tr th {\n",
       "        vertical-align: top;\n",
       "    }\n",
       "\n",
       "    .dataframe thead th {\n",
       "        text-align: right;\n",
       "    }\n",
       "</style>\n",
       "<table border=\"1\" class=\"dataframe\">\n",
       "  <thead>\n",
       "    <tr style=\"text-align: right;\">\n",
       "      <th></th>\n",
       "      <th>0</th>\n",
       "    </tr>\n",
       "  </thead>\n",
       "  <tbody>\n",
       "    <tr>\n",
       "      <th>loss</th>\n",
       "      <td>0.179931</td>\n",
       "    </tr>\n",
       "    <tr>\n",
       "      <th>accuracy</th>\n",
       "      <td>0.935056</td>\n",
       "    </tr>\n",
       "    <tr>\n",
       "      <th>val_loss</th>\n",
       "      <td>0.281902</td>\n",
       "    </tr>\n",
       "    <tr>\n",
       "      <th>val_accuracy</th>\n",
       "      <td>0.912852</td>\n",
       "    </tr>\n",
       "  </tbody>\n",
       "</table>\n",
       "</div>"
      ],
      "text/plain": [
       "                     0\n",
       "loss          0.179931\n",
       "accuracy      0.935056\n",
       "val_loss      0.281902\n",
       "val_accuracy  0.912852"
      ]
     },
     "execution_count": 41,
     "metadata": {},
     "output_type": "execute_result"
    }
   ],
   "source": [
    "summary_model = pd.DataFrame(model.history.history)\n",
    "summary_model= summary_model.mean().values\n",
    "\n",
    "summary_model= pd.DataFrame(summary_model)\n",
    "summary_model= summary_model.rename(index={0: 'loss', 1: 'accuracy', 2: 'val_loss', 3:'val_accuracy'})\n",
    "summary_model\n"
   ]
  },
  {
   "cell_type": "code",
   "execution_count": 42,
   "metadata": {},
   "outputs": [
    {
     "name": "stdout",
     "output_type": "stream",
     "text": [
      "loss:  0.26836925745010376\n",
      "accuracy 0.911300003528595\n"
     ]
    }
   ],
   "source": [
    "loss, accuracy  = model.evaluate(X_test_s, y_test_c, verbose=0)\n",
    "loss_model= print(\"loss: \", loss)\n",
    "accuracy_model= print('accuracy',accuracy) \n"
   ]
  },
  {
   "cell_type": "markdown",
   "metadata": {},
   "source": [
    "**TASK 7: Plot values of metrics you used in your model.**"
   ]
  },
  {
   "cell_type": "code",
   "execution_count": 43,
   "metadata": {},
   "outputs": [
    {
     "data": {
      "image/png": "[encoded data removed]",
      "text/plain": [
       "<Figure size 640x480 with 1 Axes>"
      ]
     },
     "metadata": {},
     "output_type": "display_data"
    }
   ],
   "source": [
    "loss_df_model = pd.DataFrame(model_history.history)\n",
    "loss_df_model.plot();"
   ]
  },
  {
   "cell_type": "markdown",
   "metadata": {},
   "source": [
    "## Model L1:"
   ]
  },
  {
   "cell_type": "code",
   "execution_count": 44,
   "metadata": {},
   "outputs": [],
   "source": [
    "model_l1 = Sequential(\n",
    "    [\n",
    "        Conv2D(filters=28, kernel_size=(3, 3), input_shape=(28, 28, 1), activation=\"relu\", padding=\"same\"), \n",
    "\n",
    "        MaxPool2D(pool_size=(2, 2), strides = (1, 1)),\n",
    "\n",
    "        Flatten(),\n",
    "       \n",
    "\n",
    "        Dense(128,activation='relu', kernel_regularizer=tf.keras.regularizers.l1(0.01)),\n",
    "        Dense(10,activation='softmax')\n",
    "\n",
    "        \n",
    "\n",
    "        \n",
    "       \n",
    "    ]\n",
    ")\n",
    "model_l1.compile(loss=\"binary_crossentropy\", optimizer=\"rmsprop\", metrics=[\"accuracy\"]\n",
    ")"
   ]
  },
  {
   "cell_type": "code",
   "execution_count": 45,
   "metadata": {},
   "outputs": [
    {
     "name": "stdout",
     "output_type": "stream",
     "text": [
      "Model: \"sequential_1\"\n",
      "_________________________________________________________________\n",
      " Layer (type)                Output Shape              Param #   \n",
      "=================================================================\n",
      " conv2d_1 (Conv2D)           (None, 28, 28, 28)        280       \n",
      "                                                                 \n",
      " max_pooling2d_1 (MaxPooling  (None, 27, 27, 28)       0         \n",
      " 2D)                                                             \n",
      "                                                                 \n",
      " flatten_1 (Flatten)         (None, 20412)             0         \n",
      "                                                                 \n",
      " dense_2 (Dense)             (None, 128)               2612864   \n",
      "                                                                 \n",
      " dense_3 (Dense)             (None, 10)                1290      \n",
      "                                                                 \n",
      "=================================================================\n",
      "Total params: 2,614,434\n",
      "Trainable params: 2,614,434\n",
      "Non-trainable params: 0\n",
      "_________________________________________________________________\n"
     ]
    }
   ],
   "source": [
    "model_l1.summary()"
   ]
  },
  {
   "cell_type": "markdown",
   "metadata": {},
   "source": [
    "##  Model L1 Training "
   ]
  },
  {
   "cell_type": "code",
   "execution_count": 46,
   "metadata": {},
   "outputs": [],
   "source": [
    "early_stop = tf.keras.callbacks.EarlyStopping(monitor=\"val_loss\", mode=\"min\", verbose=1, patience=5,\n",
    "                                           restore_best_weights=True)"
   ]
  },
  {
   "cell_type": "code",
   "execution_count": 47,
   "metadata": {},
   "outputs": [
    {
     "name": "stdout",
     "output_type": "stream",
     "text": [
      "Epoch 1/30\n"
     ]
    },
    {
     "name": "stdout",
     "output_type": "stream",
     "text": [
      "1688/1688 [==============================] - 21s 12ms/step - loss: 12.9729 - accuracy: 0.2204 - val_loss: 12.4698 - val_accuracy: 0.2688\n",
      "Epoch 2/30\n",
      "1688/1688 [==============================] - 21s 13ms/step - loss: 12.5363 - accuracy: 0.2726 - val_loss: 12.4931 - val_accuracy: 0.2222\n",
      "Epoch 3/30\n",
      "1688/1688 [==============================] - 21s 13ms/step - loss: 12.5294 - accuracy: 0.3112 - val_loss: 12.4514 - val_accuracy: 0.3478\n",
      "Epoch 4/30\n",
      "1688/1688 [==============================] - 21s 12ms/step - loss: 12.5112 - accuracy: 0.3984 - val_loss: 12.4721 - val_accuracy: 0.2830\n",
      "Epoch 5/30\n",
      "1688/1688 [==============================] - 21s 13ms/step - loss: 12.5038 - accuracy: 0.4214 - val_loss: 12.4370 - val_accuracy: 0.4317\n",
      "Epoch 6/30\n",
      "1688/1688 [==============================] - 21s 13ms/step - loss: 12.5002 - accuracy: 0.4437 - val_loss: 12.4470 - val_accuracy: 0.4538\n",
      "Epoch 7/30\n",
      "1688/1688 [==============================] - 21s 13ms/step - loss: 12.4978 - accuracy: 0.4529 - val_loss: 12.4206 - val_accuracy: 0.5533\n",
      "Epoch 8/30\n",
      "1688/1688 [==============================] - 21s 13ms/step - loss: 12.4968 - accuracy: 0.4575 - val_loss: 12.4316 - val_accuracy: 0.4623\n",
      "Epoch 9/30\n",
      "1688/1688 [==============================] - 23s 13ms/step - loss: 12.4956 - accuracy: 0.4683 - val_loss: 12.4519 - val_accuracy: 0.4467\n",
      "Epoch 10/30\n",
      "1688/1688 [==============================] - 21s 13ms/step - loss: 12.4947 - accuracy: 0.4689 - val_loss: 12.4487 - val_accuracy: 0.4510\n",
      "Epoch 11/30\n",
      "1688/1688 [==============================] - 21s 13ms/step - loss: 12.4937 - accuracy: 0.4768 - val_loss: 12.4647 - val_accuracy: 0.3422\n",
      "Epoch 12/30\n",
      "1687/1688 [============================>.] - ETA: 0s - loss: 12.4928 - accuracy: 0.4828Restoring model weights from the end of the best epoch: 7.\n",
      "1688/1688 [==============================] - 21s 13ms/step - loss: 12.4928 - accuracy: 0.4828 - val_loss: 12.4402 - val_accuracy: 0.4732\n",
      "Epoch 12: early stopping\n"
     ]
    }
   ],
   "source": [
    "model_l1_history = model_l1.fit(X_train_vs, y_train_vc, batch_size=32, epochs=30, callbacks=[early_stop], validation_data = (X_val_s, y_val_vc))#32 or less batch size"
   ]
  },
  {
   "cell_type": "code",
   "execution_count": 48,
   "metadata": {},
   "outputs": [
    {
     "data": {
      "text/html": [
       "<div>\n",
       "<style scoped>\n",
       "    .dataframe tbody tr th:only-of-type {\n",
       "        vertical-align: middle;\n",
       "    }\n",
       "\n",
       "    .dataframe tbody tr th {\n",
       "        vertical-align: top;\n",
       "    }\n",
       "\n",
       "    .dataframe thead th {\n",
       "        text-align: right;\n",
       "    }\n",
       "</style>\n",
       "<table border=\"1\" class=\"dataframe\">\n",
       "  <thead>\n",
       "    <tr style=\"text-align: right;\">\n",
       "      <th></th>\n",
       "      <th>0</th>\n",
       "    </tr>\n",
       "  </thead>\n",
       "  <tbody>\n",
       "    <tr>\n",
       "      <th>loss</th>\n",
       "      <td>12.543772</td>\n",
       "    </tr>\n",
       "    <tr>\n",
       "      <th>accuracy</th>\n",
       "      <td>0.406258</td>\n",
       "    </tr>\n",
       "    <tr>\n",
       "      <th>val_loss</th>\n",
       "      <td>12.452332</td>\n",
       "    </tr>\n",
       "    <tr>\n",
       "      <th>val_accuracy</th>\n",
       "      <td>0.394667</td>\n",
       "    </tr>\n",
       "  </tbody>\n",
       "</table>\n",
       "</div>"
      ],
      "text/plain": [
       "                      0\n",
       "loss          12.543772\n",
       "accuracy       0.406258\n",
       "val_loss      12.452332\n",
       "val_accuracy   0.394667"
      ]
     },
     "execution_count": 48,
     "metadata": {},
     "output_type": "execute_result"
    }
   ],
   "source": [
    "summary_model_l1 = pd.DataFrame(model_l1.history.history)\n",
    "summary_model_l1= summary_model_l1.mean().values\n",
    "\n",
    "summary_model_l1= pd.DataFrame(summary_model_l1)\n",
    "summary_model_l1= summary_model_l1.rename(index={0: 'loss', 1: 'accuracy', 2: 'val_loss', 3:'val_accuracy'})\n",
    "summary_model_l1"
   ]
  },
  {
   "cell_type": "code",
   "execution_count": 49,
   "metadata": {},
   "outputs": [
    {
     "name": "stdout",
     "output_type": "stream",
     "text": [
      "loss:  12.420792579650879\n",
      "accuracy 0.558899998664856\n"
     ]
    }
   ],
   "source": [
    "loss, accuracy  = model_l1.evaluate(X_test_s, y_test_c, verbose=0)\n",
    "loss_l1= print(\"loss: \", loss)\n",
    "accuracy_l1= print('accuracy',accuracy) \n"
   ]
  },
  {
   "cell_type": "markdown",
   "metadata": {},
   "source": [
    "**TASK 7: Plot values of metrics you used in your model.**"
   ]
  },
  {
   "cell_type": "code",
   "execution_count": 50,
   "metadata": {},
   "outputs": [
    {
     "data": {
      "image/png": "[encoded data removed]",
      "text/plain": [
       "<Figure size 640x480 with 1 Axes>"
      ]
     },
     "metadata": {},
     "output_type": "display_data"
    }
   ],
   "source": [
    "loss_df_model_l1 = pd.DataFrame(model_l1_history.history)\n",
    "loss_df_model_l1.plot();"
   ]
  },
  {
   "cell_type": "markdown",
   "metadata": {},
   "source": [
    "## Model L2"
   ]
  },
  {
   "cell_type": "code",
   "execution_count": 51,
   "metadata": {},
   "outputs": [],
   "source": [
    "model_l2= Sequential(\n",
    "    [\n",
    "        Conv2D(filters=28, kernel_size=(3, 3), input_shape=(28, 28, 1), activation=\"relu\", padding=\"same\"), \n",
    "\n",
    "        MaxPool2D(pool_size=(2, 2), strides = (1, 1)),\n",
    "\n",
    "        Flatten(),\n",
    "        \n",
    "\n",
    "        Dense(128,activation='relu', kernel_regularizer=tf.keras.regularizers.l2(0.001)),\n",
    "        \n",
    "        Dense(10,activation='softmax')       \n",
    "    ]\n",
    ")\n",
    "model_l2.compile(loss=\"binary_crossentropy\", optimizer=\"rmsprop\", metrics=[\"accuracy\"]\n",
    ")"
   ]
  },
  {
   "cell_type": "code",
   "execution_count": 52,
   "metadata": {},
   "outputs": [
    {
     "name": "stdout",
     "output_type": "stream",
     "text": [
      "Model: \"sequential_2\"\n",
      "_________________________________________________________________\n",
      " Layer (type)                Output Shape              Param #   \n",
      "=================================================================\n",
      " conv2d_2 (Conv2D)           (None, 28, 28, 28)        280       \n",
      "                                                                 \n",
      " max_pooling2d_2 (MaxPooling  (None, 27, 27, 28)       0         \n",
      " 2D)                                                             \n",
      "                                                                 \n",
      " flatten_2 (Flatten)         (None, 20412)             0         \n",
      "                                                                 \n",
      " dense_4 (Dense)             (None, 128)               2612864   \n",
      "                                                                 \n",
      " dense_5 (Dense)             (None, 10)                1290      \n",
      "                                                                 \n",
      "=================================================================\n",
      "Total params: 2,614,434\n",
      "Trainable params: 2,614,434\n",
      "Non-trainable params: 0\n",
      "_________________________________________________________________\n"
     ]
    }
   ],
   "source": [
    "model_l2.summary()"
   ]
  },
  {
   "cell_type": "markdown",
   "metadata": {},
   "source": [
    "##  Model L2 Training "
   ]
  },
  {
   "cell_type": "code",
   "execution_count": 53,
   "metadata": {},
   "outputs": [],
   "source": [
    "early_stop = tf.keras.callbacks.EarlyStopping(monitor=\"val_loss\", mode=\"min\", verbose=1, patience=5,\n",
    "                                           restore_best_weights=True)"
   ]
  },
  {
   "cell_type": "code",
   "execution_count": 54,
   "metadata": {},
   "outputs": [
    {
     "name": "stdout",
     "output_type": "stream",
     "text": [
      "Epoch 1/30\n"
     ]
    },
    {
     "name": "stdout",
     "output_type": "stream",
     "text": [
      "1688/1688 [==============================] - 21s 12ms/step - loss: 0.1302 - accuracy: 0.8101 - val_loss: 0.1000 - val_accuracy: 0.8462\n",
      "Epoch 2/30\n",
      "1688/1688 [==============================] - 20s 12ms/step - loss: 0.0967 - accuracy: 0.8469 - val_loss: 0.1065 - val_accuracy: 0.8217\n",
      "Epoch 3/30\n",
      "1688/1688 [==============================] - 20s 12ms/step - loss: 0.0909 - accuracy: 0.8579 - val_loss: 0.0853 - val_accuracy: 0.8692\n",
      "Epoch 4/30\n",
      "1688/1688 [==============================] - 20s 12ms/step - loss: 0.0864 - accuracy: 0.8663 - val_loss: 0.0903 - val_accuracy: 0.8542\n",
      "Epoch 5/30\n",
      "1688/1688 [==============================] - 20s 12ms/step - loss: 0.0841 - accuracy: 0.8698 - val_loss: 0.1036 - val_accuracy: 0.8217\n",
      "Epoch 6/30\n",
      "1688/1688 [==============================] - 20s 12ms/step - loss: 0.0828 - accuracy: 0.8728 - val_loss: 0.0848 - val_accuracy: 0.8627\n",
      "Epoch 7/30\n",
      "1688/1688 [==============================] - 20s 12ms/step - loss: 0.0809 - accuracy: 0.8766 - val_loss: 0.0862 - val_accuracy: 0.8610\n",
      "Epoch 8/30\n",
      "1688/1688 [==============================] - 20s 12ms/step - loss: 0.0802 - accuracy: 0.8766 - val_loss: 0.0782 - val_accuracy: 0.8835\n",
      "Epoch 9/30\n",
      "1688/1688 [==============================] - 20s 12ms/step - loss: 0.0795 - accuracy: 0.8790 - val_loss: 0.0800 - val_accuracy: 0.8840\n",
      "Epoch 10/30\n",
      "1688/1688 [==============================] - 20s 12ms/step - loss: 0.0785 - accuracy: 0.8812 - val_loss: 0.0834 - val_accuracy: 0.8668\n",
      "Epoch 11/30\n",
      "1688/1688 [==============================] - 20s 12ms/step - loss: 0.0779 - accuracy: 0.8815 - val_loss: 0.0810 - val_accuracy: 0.8740\n",
      "Epoch 12/30\n",
      "1688/1688 [==============================] - 20s 12ms/step - loss: 0.0774 - accuracy: 0.8824 - val_loss: 0.0751 - val_accuracy: 0.8850\n",
      "Epoch 13/30\n",
      "1688/1688 [==============================] - 20s 12ms/step - loss: 0.0769 - accuracy: 0.8837 - val_loss: 0.0810 - val_accuracy: 0.8680\n",
      "Epoch 14/30\n",
      "1688/1688 [==============================] - 20s 12ms/step - loss: 0.0768 - accuracy: 0.8834 - val_loss: 0.0757 - val_accuracy: 0.8895\n",
      "Epoch 15/30\n",
      "1688/1688 [==============================] - 20s 12ms/step - loss: 0.0762 - accuracy: 0.8850 - val_loss: 0.0807 - val_accuracy: 0.8782\n",
      "Epoch 16/30\n",
      "1688/1688 [==============================] - 20s 12ms/step - loss: 0.0759 - accuracy: 0.8838 - val_loss: 0.0764 - val_accuracy: 0.8890\n",
      "Epoch 17/30\n",
      "1685/1688 [============================>.] - ETA: 0s - loss: 0.0755 - accuracy: 0.8855Restoring model weights from the end of the best epoch: 12.\n",
      "1688/1688 [==============================] - 20s 12ms/step - loss: 0.0755 - accuracy: 0.8855 - val_loss: 0.0768 - val_accuracy: 0.8805\n",
      "Epoch 17: early stopping\n"
     ]
    }
   ],
   "source": [
    "model_l2_history = model_l2.fit(X_train_vs, y_train_vc, batch_size=32, epochs=30, callbacks=[early_stop], validation_data = (X_val_s, y_val_vc))"
   ]
  },
  {
   "cell_type": "code",
   "execution_count": 55,
   "metadata": {},
   "outputs": [
    {
     "data": {
      "text/html": [
       "<div>\n",
       "<style scoped>\n",
       "    .dataframe tbody tr th:only-of-type {\n",
       "        vertical-align: middle;\n",
       "    }\n",
       "\n",
       "    .dataframe tbody tr th {\n",
       "        vertical-align: top;\n",
       "    }\n",
       "\n",
       "    .dataframe thead th {\n",
       "        text-align: right;\n",
       "    }\n",
       "</style>\n",
       "<table border=\"1\" class=\"dataframe\">\n",
       "  <thead>\n",
       "    <tr style=\"text-align: right;\">\n",
       "      <th></th>\n",
       "      <th>0</th>\n",
       "    </tr>\n",
       "  </thead>\n",
       "  <tbody>\n",
       "    <tr>\n",
       "      <th>loss</th>\n",
       "      <td>0.083926</td>\n",
       "    </tr>\n",
       "    <tr>\n",
       "      <th>accuracy</th>\n",
       "      <td>0.871919</td>\n",
       "    </tr>\n",
       "    <tr>\n",
       "      <th>val_loss</th>\n",
       "      <td>0.084994</td>\n",
       "    </tr>\n",
       "    <tr>\n",
       "      <th>val_accuracy</th>\n",
       "      <td>0.866765</td>\n",
       "    </tr>\n",
       "  </tbody>\n",
       "</table>\n",
       "</div>"
      ],
      "text/plain": [
       "                     0\n",
       "loss          0.083926\n",
       "accuracy      0.871919\n",
       "val_loss      0.084994\n",
       "val_accuracy  0.866765"
      ]
     },
     "execution_count": 55,
     "metadata": {},
     "output_type": "execute_result"
    }
   ],
   "source": [
    "summary_model_l2 = pd.DataFrame(model_l2.history.history)\n",
    "summary_model_l2= summary_model_l2.mean().values\n",
    "\n",
    "summary_model_l2= pd.DataFrame(summary_model_l2)\n",
    "summary_model_l2= summary_model_l2.rename(index={0: 'loss', 1: 'accuracy', 2: 'val_loss', 3:'val_accuracy'})\n",
    "summary_model_l2"
   ]
  },
  {
   "cell_type": "code",
   "execution_count": 56,
   "metadata": {},
   "outputs": [
    {
     "name": "stdout",
     "output_type": "stream",
     "text": [
      "loss:  0.0793294683098793\n",
      "accuracy 0.8779000043869019\n"
     ]
    }
   ],
   "source": [
    "loss, accuracy = model_l2.evaluate(X_test_s, y_test_c, verbose=0)\n",
    "loss_l2= print(\"loss: \", loss)\n",
    "accuracy_l2= print('accuracy',accuracy) \n"
   ]
  },
  {
   "cell_type": "markdown",
   "metadata": {},
   "source": [
    "**TASK 7: Plot values of metrics you used in your model.**"
   ]
  },
  {
   "cell_type": "code",
   "execution_count": 57,
   "metadata": {},
   "outputs": [
    {
     "data": {
      "image/png": "[encoded data removed]",
      "text/plain": [
       "<Figure size 640x480 with 1 Axes>"
      ]
     },
     "metadata": {},
     "output_type": "display_data"
    }
   ],
   "source": [
    "loss_df_model_l2 = pd.DataFrame(model_l1_history.history)\n",
    "loss_df_model_l2.plot();"
   ]
  },
  {
   "cell_type": "markdown",
   "metadata": {},
   "source": [
    "## Model droupout"
   ]
  },
  {
   "cell_type": "code",
   "execution_count": 58,
   "metadata": {},
   "outputs": [],
   "source": [
    "model_dropout = Sequential(\n",
    "    [\n",
    "        Conv2D(filters=28, kernel_size=(3, 3), input_shape=(28, 28, 1), activation=\"relu\", padding=\"same\"), \n",
    "        MaxPool2D(pool_size=(2, 2), strides = (1, 1)),\n",
    "\n",
    "        Flatten(),\n",
    "        Dropout(0.5),\n",
    "\n",
    "        Dense(128,activation='relu'),\n",
    "        Dense(10,activation='softmax')\n",
    "       \n",
    "    ]\n",
    ")\n",
    "model_dropout.compile(loss=\"binary_crossentropy\", optimizer=\"rmsprop\", metrics=[\"accuracy\"]\n",
    ")"
   ]
  },
  {
   "cell_type": "code",
   "execution_count": 59,
   "metadata": {},
   "outputs": [
    {
     "name": "stdout",
     "output_type": "stream",
     "text": [
      "Model: \"sequential_3\"\n",
      "_________________________________________________________________\n",
      " Layer (type)                Output Shape              Param #   \n",
      "=================================================================\n",
      " conv2d_3 (Conv2D)           (None, 28, 28, 28)        280       \n",
      "                                                                 \n",
      " max_pooling2d_3 (MaxPooling  (None, 27, 27, 28)       0         \n",
      " 2D)                                                             \n",
      "                                                                 \n",
      " flatten_3 (Flatten)         (None, 20412)             0         \n",
      "                                                                 \n",
      " dropout (Dropout)           (None, 20412)             0         \n",
      "                                                                 \n",
      " dense_6 (Dense)             (None, 128)               2612864   \n",
      "                                                                 \n",
      " dense_7 (Dense)             (None, 10)                1290      \n",
      "                                                                 \n",
      "=================================================================\n",
      "Total params: 2,614,434\n",
      "Trainable params: 2,614,434\n",
      "Non-trainable params: 0\n",
      "_________________________________________________________________\n"
     ]
    }
   ],
   "source": [
    "model_dropout.summary()"
   ]
  },
  {
   "cell_type": "markdown",
   "metadata": {},
   "source": [
    "##  Model dropout Training "
   ]
  },
  {
   "cell_type": "code",
   "execution_count": 60,
   "metadata": {},
   "outputs": [],
   "source": [
    "early_stop = tf.keras.callbacks.EarlyStopping(monitor=\"val_loss\", mode=\"min\", verbose=1, patience=5,\n",
    "                                           restore_best_weights=True)"
   ]
  },
  {
   "cell_type": "code",
   "execution_count": 61,
   "metadata": {},
   "outputs": [
    {
     "name": "stdout",
     "output_type": "stream",
     "text": [
      "Epoch 1/30\n"
     ]
    },
    {
     "name": "stdout",
     "output_type": "stream",
     "text": [
      "1688/1688 [==============================] - 24s 14ms/step - loss: 0.0781 - accuracy: 0.8463 - val_loss: 0.0611 - val_accuracy: 0.8777\n",
      "Epoch 2/30\n",
      "1688/1688 [==============================] - 24s 14ms/step - loss: 0.0548 - accuracy: 0.8922 - val_loss: 0.0528 - val_accuracy: 0.8947\n",
      "Epoch 3/30\n",
      "1688/1688 [==============================] - 24s 14ms/step - loss: 0.0483 - accuracy: 0.9052 - val_loss: 0.0484 - val_accuracy: 0.9052\n",
      "Epoch 4/30\n",
      "1688/1688 [==============================] - 23s 14ms/step - loss: 0.0442 - accuracy: 0.9134 - val_loss: 0.0450 - val_accuracy: 0.9145\n",
      "Epoch 5/30\n",
      "1688/1688 [==============================] - 24s 14ms/step - loss: 0.0414 - accuracy: 0.9196 - val_loss: 0.0437 - val_accuracy: 0.9163\n",
      "Epoch 6/30\n",
      "1688/1688 [==============================] - 24s 14ms/step - loss: 0.0389 - accuracy: 0.9240 - val_loss: 0.0451 - val_accuracy: 0.9125\n",
      "Epoch 7/30\n",
      "1688/1688 [==============================] - 24s 14ms/step - loss: 0.0373 - accuracy: 0.9280 - val_loss: 0.0467 - val_accuracy: 0.9127\n",
      "Epoch 8/30\n",
      "1688/1688 [==============================] - 24s 14ms/step - loss: 0.0354 - accuracy: 0.9333 - val_loss: 0.0501 - val_accuracy: 0.9133\n",
      "Epoch 9/30\n",
      "1688/1688 [==============================] - 24s 14ms/step - loss: 0.0340 - accuracy: 0.9364 - val_loss: 0.0426 - val_accuracy: 0.9200\n",
      "Epoch 10/30\n",
      "1688/1688 [==============================] - 24s 14ms/step - loss: 0.0328 - accuracy: 0.9394 - val_loss: 0.0417 - val_accuracy: 0.9245\n",
      "Epoch 11/30\n",
      "1688/1688 [==============================] - 24s 14ms/step - loss: 0.0316 - accuracy: 0.9418 - val_loss: 0.0439 - val_accuracy: 0.9238\n",
      "Epoch 12/30\n",
      "1688/1688 [==============================] - 24s 14ms/step - loss: 0.0303 - accuracy: 0.9458 - val_loss: 0.0446 - val_accuracy: 0.9180\n",
      "Epoch 13/30\n",
      "1688/1688 [==============================] - 25s 15ms/step - loss: 0.0292 - accuracy: 0.9467 - val_loss: 0.0464 - val_accuracy: 0.9207\n",
      "Epoch 14/30\n",
      "1688/1688 [==============================] - 25s 15ms/step - loss: 0.0286 - accuracy: 0.9489 - val_loss: 0.0443 - val_accuracy: 0.9182\n",
      "Epoch 15/30\n",
      "1685/1688 [============================>.] - ETA: 0s - loss: 0.0276 - accuracy: 0.9510Restoring model weights from the end of the best epoch: 10.\n",
      "1688/1688 [==============================] - 25s 15ms/step - loss: 0.0276 - accuracy: 0.9510 - val_loss: 0.0463 - val_accuracy: 0.9202\n",
      "Epoch 15: early stopping\n"
     ]
    }
   ],
   "source": [
    "model_dropout_history = model_dropout.fit(X_train_vs, y_train_vc, batch_size=32, epochs=30, callbacks=[early_stop], validation_data = (X_val_s, y_val_vc))"
   ]
  },
  {
   "cell_type": "code",
   "execution_count": 62,
   "metadata": {},
   "outputs": [
    {
     "data": {
      "text/html": [
       "<div>\n",
       "<style scoped>\n",
       "    .dataframe tbody tr th:only-of-type {\n",
       "        vertical-align: middle;\n",
       "    }\n",
       "\n",
       "    .dataframe tbody tr th {\n",
       "        vertical-align: top;\n",
       "    }\n",
       "\n",
       "    .dataframe thead th {\n",
       "        text-align: right;\n",
       "    }\n",
       "</style>\n",
       "<table border=\"1\" class=\"dataframe\">\n",
       "  <thead>\n",
       "    <tr style=\"text-align: right;\">\n",
       "      <th></th>\n",
       "      <th>0</th>\n",
       "    </tr>\n",
       "  </thead>\n",
       "  <tbody>\n",
       "    <tr>\n",
       "      <th>loss</th>\n",
       "      <td>0.039500</td>\n",
       "    </tr>\n",
       "    <tr>\n",
       "      <th>accuracy</th>\n",
       "      <td>0.924805</td>\n",
       "    </tr>\n",
       "    <tr>\n",
       "      <th>val_loss</th>\n",
       "      <td>0.046863</td>\n",
       "    </tr>\n",
       "    <tr>\n",
       "      <th>val_accuracy</th>\n",
       "      <td>0.912811</td>\n",
       "    </tr>\n",
       "  </tbody>\n",
       "</table>\n",
       "</div>"
      ],
      "text/plain": [
       "                     0\n",
       "loss          0.039500\n",
       "accuracy      0.924805\n",
       "val_loss      0.046863\n",
       "val_accuracy  0.912811"
      ]
     },
     "execution_count": 62,
     "metadata": {},
     "output_type": "execute_result"
    }
   ],
   "source": [
    "summary_model_dropout = pd.DataFrame(model_dropout.history.history)\n",
    "summary_model_dropout= summary_model_dropout.mean().values\n",
    "\n",
    "summary_model_dropout= pd.DataFrame(summary_model_dropout)\n",
    "summary_model_dropout= summary_model_dropout.rename(index={0: 'loss', 1: 'accuracy', 2: 'val_loss', 3:'val_accuracy'})\n",
    "summary_model_dropout"
   ]
  },
  {
   "cell_type": "code",
   "execution_count": 63,
   "metadata": {},
   "outputs": [
    {
     "name": "stdout",
     "output_type": "stream",
     "text": [
      "loss:  0.04611595347523689\n",
      "accuracy 0.9172999858856201\n"
     ]
    }
   ],
   "source": [
    "loss, accuracy = model_dropout.evaluate(X_test_s, y_test_c, verbose=0)\n",
    "loss_drout= print(\"loss: \", loss)\n",
    "accuracy_dropout= print('accuracy',accuracy) \n"
   ]
  },
  {
   "cell_type": "markdown",
   "metadata": {},
   "source": [
    "**.TASK 7: Plot values of metrics you used in your model.**"
   ]
  },
  {
   "cell_type": "code",
   "execution_count": 64,
   "metadata": {},
   "outputs": [
    {
     "data": {
      "image/png": "[encoded data removed]",
      "text/plain": [
       "<Figure size 640x480 with 1 Axes>"
      ]
     },
     "metadata": {},
     "output_type": "display_data"
    }
   ],
   "source": [
    "loss_df_model_dropout = pd.DataFrame(model_dropout_history.history)\n",
    "loss_df_model_dropout.plot();"
   ]
  },
  {
   "cell_type": "markdown",
   "metadata": {},
   "source": [
    "## Model layer"
   ]
  },
  {
   "cell_type": "code",
   "execution_count": 65,
   "metadata": {},
   "outputs": [],
   "source": [
    "model_layer = Sequential(\n",
    "    [\n",
    "        Conv2D(filters=28, kernel_size=(3, 3), input_shape=(28, 28, 1), activation=\"relu\", padding=\"same\"), \n",
    "\n",
    "        MaxPool2D(pool_size=(2, 2), strides = (1, 1)),\n",
    "\n",
    "        Flatten(),\n",
    "\n",
    "        Dense(128,activation='relu'),\n",
    "\n",
    "        Dense(64,activation='relu'),\n",
    "        \n",
    "        Dense(10,activation='softmax')\n",
    "\n",
    "    ]\n",
    ")\n",
    "model_layer.compile(loss=\"binary_crossentropy\", optimizer=\"rmsprop\", metrics=[\"accuracy\"]\n",
    ")"
   ]
  },
  {
   "cell_type": "code",
   "execution_count": 66,
   "metadata": {},
   "outputs": [
    {
     "name": "stdout",
     "output_type": "stream",
     "text": [
      "Model: \"sequential_4\"\n",
      "_________________________________________________________________\n",
      " Layer (type)                Output Shape              Param #   \n",
      "=================================================================\n",
      " conv2d_4 (Conv2D)           (None, 28, 28, 28)        280       \n",
      "                                                                 \n",
      " max_pooling2d_4 (MaxPooling  (None, 27, 27, 28)       0         \n",
      " 2D)                                                             \n",
      "                                                                 \n",
      " flatten_4 (Flatten)         (None, 20412)             0         \n",
      "                                                                 \n",
      " dense_8 (Dense)             (None, 128)               2612864   \n",
      "                                                                 \n",
      " dense_9 (Dense)             (None, 64)                8256      \n",
      "                                                                 \n",
      " dense_10 (Dense)            (None, 10)                650       \n",
      "                                                                 \n",
      "=================================================================\n",
      "Total params: 2,622,050\n",
      "Trainable params: 2,622,050\n",
      "Non-trainable params: 0\n",
      "_________________________________________________________________\n"
     ]
    }
   ],
   "source": [
    "model_layer.summary()\n"
   ]
  },
  {
   "cell_type": "markdown",
   "metadata": {},
   "source": [
    "##  Model layer Training "
   ]
  },
  {
   "cell_type": "code",
   "execution_count": 67,
   "metadata": {},
   "outputs": [],
   "source": [
    "early_stop = tf.keras.callbacks.EarlyStopping(monitor=\"val_loss\", mode=\"min\", verbose=1, patience=5,\n",
    "                                           restore_best_weights=True)"
   ]
  },
  {
   "cell_type": "code",
   "execution_count": 68,
   "metadata": {},
   "outputs": [
    {
     "name": "stdout",
     "output_type": "stream",
     "text": [
      "Epoch 1/30\n"
     ]
    },
    {
     "name": "stdout",
     "output_type": "stream",
     "text": [
      "1688/1688 [==============================] - 22s 13ms/step - loss: 0.0859 - accuracy: 0.8278 - val_loss: 0.0691 - val_accuracy: 0.8587\n",
      "Epoch 2/30\n",
      "1688/1688 [==============================] - 21s 13ms/step - loss: 0.0538 - accuracy: 0.8932 - val_loss: 0.0518 - val_accuracy: 0.8925\n",
      "Epoch 3/30\n",
      "1688/1688 [==============================] - 21s 13ms/step - loss: 0.0460 - accuracy: 0.9090 - val_loss: 0.0511 - val_accuracy: 0.8998\n",
      "Epoch 4/30\n",
      "1688/1688 [==============================] - 22s 13ms/step - loss: 0.0410 - accuracy: 0.9183 - val_loss: 0.0465 - val_accuracy: 0.9105\n",
      "Epoch 5/30\n",
      "1688/1688 [==============================] - 22s 13ms/step - loss: 0.0366 - accuracy: 0.9274 - val_loss: 0.0462 - val_accuracy: 0.9110\n",
      "Epoch 6/30\n",
      "1688/1688 [==============================] - 23s 13ms/step - loss: 0.0329 - accuracy: 0.9358 - val_loss: 0.0563 - val_accuracy: 0.9018\n",
      "Epoch 7/30\n",
      "1688/1688 [==============================] - 23s 13ms/step - loss: 0.0296 - accuracy: 0.9428 - val_loss: 0.0447 - val_accuracy: 0.9128\n",
      "Epoch 8/30\n",
      "1688/1688 [==============================] - 22s 13ms/step - loss: 0.0268 - accuracy: 0.9487 - val_loss: 0.0457 - val_accuracy: 0.9197\n",
      "Epoch 9/30\n",
      "1688/1688 [==============================] - 22s 13ms/step - loss: 0.0242 - accuracy: 0.9537 - val_loss: 0.0566 - val_accuracy: 0.9112\n",
      "Epoch 10/30\n",
      "1688/1688 [==============================] - 22s 13ms/step - loss: 0.0221 - accuracy: 0.9583 - val_loss: 0.0453 - val_accuracy: 0.9222\n",
      "Epoch 11/30\n",
      "1688/1688 [==============================] - 22s 13ms/step - loss: 0.0202 - accuracy: 0.9624 - val_loss: 0.0537 - val_accuracy: 0.9223\n",
      "Epoch 12/30\n",
      "1684/1688 [============================>.] - ETA: 0s - loss: 0.0185 - accuracy: 0.9659Restoring model weights from the end of the best epoch: 7.\n",
      "1688/1688 [==============================] - 22s 13ms/step - loss: 0.0185 - accuracy: 0.9658 - val_loss: 0.0521 - val_accuracy: 0.9208\n",
      "Epoch 12: early stopping\n"
     ]
    }
   ],
   "source": [
    "model_layer_history = model_layer.fit(X_train_vs, y_train_vc, batch_size=32, epochs=30, callbacks=[early_stop], validation_data = (X_val_s, y_val_vc))"
   ]
  },
  {
   "cell_type": "code",
   "execution_count": 69,
   "metadata": {},
   "outputs": [
    {
     "data": {
      "text/html": [
       "<div>\n",
       "<style scoped>\n",
       "    .dataframe tbody tr th:only-of-type {\n",
       "        vertical-align: middle;\n",
       "    }\n",
       "\n",
       "    .dataframe tbody tr th {\n",
       "        vertical-align: top;\n",
       "    }\n",
       "\n",
       "    .dataframe thead th {\n",
       "        text-align: right;\n",
       "    }\n",
       "</style>\n",
       "<table border=\"1\" class=\"dataframe\">\n",
       "  <thead>\n",
       "    <tr style=\"text-align: right;\">\n",
       "      <th></th>\n",
       "      <th>0</th>\n",
       "    </tr>\n",
       "  </thead>\n",
       "  <tbody>\n",
       "    <tr>\n",
       "      <th>loss</th>\n",
       "      <td>0.036454</td>\n",
       "    </tr>\n",
       "    <tr>\n",
       "      <th>accuracy</th>\n",
       "      <td>0.928597</td>\n",
       "    </tr>\n",
       "    <tr>\n",
       "      <th>val_loss</th>\n",
       "      <td>0.051601</td>\n",
       "    </tr>\n",
       "    <tr>\n",
       "      <th>val_accuracy</th>\n",
       "      <td>0.906944</td>\n",
       "    </tr>\n",
       "  </tbody>\n",
       "</table>\n",
       "</div>"
      ],
      "text/plain": [
       "                     0\n",
       "loss          0.036454\n",
       "accuracy      0.928597\n",
       "val_loss      0.051601\n",
       "val_accuracy  0.906944"
      ]
     },
     "execution_count": 69,
     "metadata": {},
     "output_type": "execute_result"
    }
   ],
   "source": [
    "summary_model_layer = pd.DataFrame(model_layer.history.history)\n",
    "summary_model_layer= summary_model_layer.mean().values\n",
    "\n",
    "summary_model_layer= pd.DataFrame(summary_model_layer)\n",
    "summary_model_layer= summary_model_layer.rename(index={0: 'loss', 1: 'accuracy', 2: 'val_loss', 3:'val_accuracy'})\n",
    "summary_model_layer"
   ]
  },
  {
   "cell_type": "code",
   "execution_count": 70,
   "metadata": {},
   "outputs": [
    {
     "name": "stdout",
     "output_type": "stream",
     "text": [
      "loss:  0.051886554807424545\n",
      "accuracy 0.9028000235557556\n"
     ]
    }
   ],
   "source": [
    "loss, accuracy = model_layer.evaluate(X_test_s, y_test_c, verbose=0)\n",
    "loss_layer= print(\"loss: \", loss)\n",
    "accuracy_layer= print('accuracy',accuracy) \n",
    "\n"
   ]
  },
  {
   "cell_type": "markdown",
   "metadata": {},
   "source": [
    "**TASK 7: Plot values of metrics you used in your model.**"
   ]
  },
  {
   "cell_type": "code",
   "execution_count": 71,
   "metadata": {},
   "outputs": [
    {
     "data": {
      "image/png": "[encoded data removed]",
      "text/plain": [
       "<Figure size 640x480 with 1 Axes>"
      ]
     },
     "metadata": {},
     "output_type": "display_data"
    }
   ],
   "source": [
    "loss_df_model_layer = pd.DataFrame(model_layer_history.history)\n",
    "loss_df_model_layer.plot();"
   ]
  },
  {
   "cell_type": "markdown",
   "metadata": {},
   "source": [
    "Final model"
   ]
  },
  {
   "cell_type": "code",
   "execution_count": 72,
   "metadata": {},
   "outputs": [],
   "source": [
    "model_final = Sequential(\n",
    "    [\n",
    "        Conv2D(filters=28, kernel_size=(3, 3), input_shape=(28, 28, 1), activation=\"relu\", padding=\"same\"), \n",
    "\n",
    "        MaxPool2D(pool_size=(2, 2), strides = (1, 1)),\n",
    "\n",
    "        Flatten(),\n",
    "        Dropout(0.5),\n",
    "\n",
    "        Dense(128,activation='relu', kernel_regularizer=tf.keras.regularizers.l2(0.001)),\n",
    "\n",
    "        Dense(64,activation='relu', kernel_regularizer=tf.keras.regularizers.l2(0.001)),\n",
    "        \n",
    "        Dense(10,activation='softmax')\n",
    "        \n",
    "    ]\n",
    ")\n",
    "model_final.compile(loss=\"binary_crossentropy\", optimizer=\"rmsprop\", metrics=[\"accuracy\"]\n",
    ")"
   ]
  },
  {
   "cell_type": "code",
   "execution_count": 73,
   "metadata": {},
   "outputs": [
    {
     "name": "stdout",
     "output_type": "stream",
     "text": [
      "Model: \"sequential_5\"\n",
      "_________________________________________________________________\n",
      " Layer (type)                Output Shape              Param #   \n",
      "=================================================================\n",
      " conv2d_5 (Conv2D)           (None, 28, 28, 28)        280       \n",
      "                                                                 \n",
      " max_pooling2d_5 (MaxPooling  (None, 27, 27, 28)       0         \n",
      " 2D)                                                             \n",
      "                                                                 \n",
      " flatten_5 (Flatten)         (None, 20412)             0         \n",
      "                                                                 \n",
      " dropout_1 (Dropout)         (None, 20412)             0         \n",
      "                                                                 \n",
      " dense_11 (Dense)            (None, 128)               2612864   \n",
      "                                                                 \n",
      " dense_12 (Dense)            (None, 64)                8256      \n",
      "                                                                 \n",
      " dense_13 (Dense)            (None, 10)                650       \n",
      "                                                                 \n",
      "=================================================================\n",
      "Total params: 2,622,050\n",
      "Trainable params: 2,622,050\n",
      "Non-trainable params: 0\n",
      "_________________________________________________________________\n"
     ]
    }
   ],
   "source": [
    "model_final.summary()\n"
   ]
  },
  {
   "cell_type": "markdown",
   "metadata": {},
   "source": [
    "##  Model final Training "
   ]
  },
  {
   "cell_type": "code",
   "execution_count": 74,
   "metadata": {},
   "outputs": [],
   "source": [
    "early_stop = tf.keras.callbacks.EarlyStopping(monitor=\"val_loss\", mode=\"min\", verbose=1, patience=5,\n",
    "                                           restore_best_weights=True)"
   ]
  },
  {
   "cell_type": "code",
   "execution_count": 75,
   "metadata": {},
   "outputs": [
    {
     "name": "stdout",
     "output_type": "stream",
     "text": [
      "Epoch 1/30\n"
     ]
    },
    {
     "name": "stdout",
     "output_type": "stream",
     "text": [
      "1688/1688 [==============================] - 318s 188ms/step - loss: 0.1571 - accuracy: 0.7986 - val_loss: 0.1311 - val_accuracy: 0.7968\n",
      "Epoch 2/30\n",
      "1688/1688 [==============================] - 54s 32ms/step - loss: 0.1098 - accuracy: 0.8472 - val_loss: 0.1043 - val_accuracy: 0.8567\n",
      "Epoch 3/30\n",
      "1688/1688 [==============================] - 23s 14ms/step - loss: 0.1009 - accuracy: 0.8546 - val_loss: 0.0997 - val_accuracy: 0.8583\n",
      "Epoch 4/30\n",
      "1688/1688 [==============================] - 23s 14ms/step - loss: 0.0957 - accuracy: 0.8619 - val_loss: 0.0925 - val_accuracy: 0.8632\n",
      "Epoch 5/30\n",
      "1688/1688 [==============================] - 24s 14ms/step - loss: 0.0923 - accuracy: 0.8651 - val_loss: 0.0895 - val_accuracy: 0.8733\n",
      "Epoch 6/30\n",
      "1688/1688 [==============================] - 24s 14ms/step - loss: 0.0908 - accuracy: 0.8674 - val_loss: 0.0890 - val_accuracy: 0.8717\n",
      "Epoch 7/30\n",
      "1688/1688 [==============================] - 24s 14ms/step - loss: 0.0894 - accuracy: 0.8682 - val_loss: 0.0851 - val_accuracy: 0.8802\n",
      "Epoch 8/30\n",
      "1688/1688 [==============================] - 24s 14ms/step - loss: 0.0882 - accuracy: 0.8692 - val_loss: 0.0858 - val_accuracy: 0.8797\n",
      "Epoch 9/30\n",
      "1688/1688 [==============================] - 24s 14ms/step - loss: 0.0873 - accuracy: 0.8723 - val_loss: 0.0948 - val_accuracy: 0.8585\n",
      "Epoch 10/30\n",
      "1688/1688 [==============================] - 25s 15ms/step - loss: 0.0863 - accuracy: 0.8740 - val_loss: 0.0855 - val_accuracy: 0.8768\n",
      "Epoch 11/30\n",
      "1688/1688 [==============================] - 25s 15ms/step - loss: 0.0858 - accuracy: 0.8733 - val_loss: 0.0844 - val_accuracy: 0.8752\n",
      "Epoch 12/30\n",
      "1688/1688 [==============================] - 24s 14ms/step - loss: 0.0856 - accuracy: 0.8742 - val_loss: 0.0970 - val_accuracy: 0.8478\n",
      "Epoch 13/30\n",
      "1688/1688 [==============================] - 25s 15ms/step - loss: 0.0851 - accuracy: 0.8743 - val_loss: 0.0840 - val_accuracy: 0.8798\n",
      "Epoch 14/30\n",
      "1688/1688 [==============================] - 25s 15ms/step - loss: 0.0845 - accuracy: 0.8747 - val_loss: 0.0911 - val_accuracy: 0.8550\n",
      "Epoch 15/30\n",
      "1688/1688 [==============================] - 25s 15ms/step - loss: 0.0839 - accuracy: 0.8774 - val_loss: 0.0803 - val_accuracy: 0.8873\n",
      "Epoch 16/30\n",
      "1688/1688 [==============================] - 25s 15ms/step - loss: 0.0831 - accuracy: 0.8772 - val_loss: 0.0829 - val_accuracy: 0.8795\n",
      "Epoch 17/30\n",
      "1688/1688 [==============================] - 25s 15ms/step - loss: 0.0834 - accuracy: 0.8771 - val_loss: 0.0831 - val_accuracy: 0.8798\n",
      "Epoch 18/30\n",
      "1688/1688 [==============================] - 24s 14ms/step - loss: 0.0829 - accuracy: 0.8778 - val_loss: 0.0820 - val_accuracy: 0.8808\n",
      "Epoch 19/30\n",
      "1688/1688 [==============================] - 25s 15ms/step - loss: 0.0827 - accuracy: 0.8779 - val_loss: 0.0797 - val_accuracy: 0.8883\n",
      "Epoch 20/30\n",
      "1688/1688 [==============================] - 25s 15ms/step - loss: 0.0824 - accuracy: 0.8789 - val_loss: 0.0781 - val_accuracy: 0.8873\n",
      "Epoch 21/30\n",
      "1688/1688 [==============================] - 25s 15ms/step - loss: 0.0823 - accuracy: 0.8777 - val_loss: 0.0810 - val_accuracy: 0.8800\n",
      "Epoch 22/30\n",
      "1688/1688 [==============================] - 25s 15ms/step - loss: 0.0819 - accuracy: 0.8774 - val_loss: 0.0833 - val_accuracy: 0.8783\n",
      "Epoch 23/30\n",
      "1688/1688 [==============================] - 25s 15ms/step - loss: 0.0817 - accuracy: 0.8798 - val_loss: 0.0770 - val_accuracy: 0.8915\n",
      "Epoch 24/30\n",
      "1688/1688 [==============================] - 25s 15ms/step - loss: 0.0813 - accuracy: 0.8794 - val_loss: 0.0799 - val_accuracy: 0.8828\n",
      "Epoch 25/30\n",
      "1688/1688 [==============================] - 25s 15ms/step - loss: 0.0807 - accuracy: 0.8814 - val_loss: 0.0771 - val_accuracy: 0.8948\n",
      "Epoch 26/30\n",
      "1688/1688 [==============================] - 25s 15ms/step - loss: 0.0806 - accuracy: 0.8794 - val_loss: 0.0773 - val_accuracy: 0.8857\n",
      "Epoch 27/30\n",
      "1688/1688 [==============================] - 25s 15ms/step - loss: 0.0804 - accuracy: 0.8799 - val_loss: 0.0753 - val_accuracy: 0.8932\n",
      "Epoch 28/30\n",
      "1688/1688 [==============================] - 25s 15ms/step - loss: 0.0804 - accuracy: 0.8805 - val_loss: 0.0765 - val_accuracy: 0.8913\n",
      "Epoch 29/30\n",
      "1688/1688 [==============================] - 25s 15ms/step - loss: 0.0801 - accuracy: 0.8809 - val_loss: 0.0755 - val_accuracy: 0.8910\n",
      "Epoch 30/30\n",
      "1688/1688 [==============================] - 25s 15ms/step - loss: 0.0802 - accuracy: 0.8799 - val_loss: 0.0765 - val_accuracy: 0.8913\n"
     ]
    }
   ],
   "source": [
    "model_final_history = model_final.fit(X_train_vs, y_train_vc, batch_size=32, epochs=30, callbacks=[early_stop], validation_data = (X_val_s, y_val_vc))"
   ]
  },
  {
   "cell_type": "code",
   "execution_count": 76,
   "metadata": {},
   "outputs": [
    {
     "data": {
      "text/html": [
       "<div>\n",
       "<style scoped>\n",
       "    .dataframe tbody tr th:only-of-type {\n",
       "        vertical-align: middle;\n",
       "    }\n",
       "\n",
       "    .dataframe tbody tr th {\n",
       "        vertical-align: top;\n",
       "    }\n",
       "\n",
       "    .dataframe thead th {\n",
       "        text-align: right;\n",
       "    }\n",
       "</style>\n",
       "<table border=\"1\" class=\"dataframe\">\n",
       "  <thead>\n",
       "    <tr style=\"text-align: right;\">\n",
       "      <th></th>\n",
       "      <th>0</th>\n",
       "    </tr>\n",
       "  </thead>\n",
       "  <tbody>\n",
       "    <tr>\n",
       "      <th>loss</th>\n",
       "      <td>0.088226</td>\n",
       "    </tr>\n",
       "    <tr>\n",
       "      <th>accuracy</th>\n",
       "      <td>0.871250</td>\n",
       "    </tr>\n",
       "    <tr>\n",
       "      <th>val_loss</th>\n",
       "      <td>0.085984</td>\n",
       "    </tr>\n",
       "    <tr>\n",
       "      <th>val_accuracy</th>\n",
       "      <td>0.875206</td>\n",
       "    </tr>\n",
       "  </tbody>\n",
       "</table>\n",
       "</div>"
      ],
      "text/plain": [
       "                     0\n",
       "loss          0.088226\n",
       "accuracy      0.871250\n",
       "val_loss      0.085984\n",
       "val_accuracy  0.875206"
      ]
     },
     "execution_count": 76,
     "metadata": {},
     "output_type": "execute_result"
    }
   ],
   "source": [
    "summary_model_final = pd.DataFrame(model_final.history.history)\n",
    "summary_model_final= summary_model_final.mean().values\n",
    "\n",
    "summary_model_final= pd.DataFrame(summary_model_final)\n",
    "summary_model_final= summary_model_final.rename(index={0: 'loss', 1: 'accuracy', 2: 'val_loss', 3:'val_accuracy'})\n",
    "summary_model_final"
   ]
  },
  {
   "cell_type": "code",
   "execution_count": 77,
   "metadata": {},
   "outputs": [
    {
     "name": "stdout",
     "output_type": "stream",
     "text": [
      "loss:  0.0803447738289833\n",
      "accuracy 0.8783000111579895\n"
     ]
    }
   ],
   "source": [
    "loss, accuracy = model_final.evaluate(X_test_s, y_test_c, verbose=0)\n",
    "loss_final= print(\"loss: \", loss)\n",
    "accuracy_final = print('accuracy',accuracy) \n"
   ]
  },
  {
   "cell_type": "markdown",
   "metadata": {},
   "source": [
    "**TASK 7: Plot values of metrics you used in your model.**"
   ]
  },
  {
   "cell_type": "code",
   "execution_count": 78,
   "metadata": {},
   "outputs": [
    {
     "data": {
      "image/png": "[encoded data removed]",
      "text/plain": [
       "<Figure size 640x480 with 1 Axes>"
      ]
     },
     "metadata": {},
     "output_type": "display_data"
    }
   ],
   "source": [
    "loss_df_model_final = pd.DataFrame(model_final_history.history)\n",
    "loss_df_model_final.plot();"
   ]
  },
  {
   "cell_type": "code",
   "execution_count": 79,
   "metadata": {},
   "outputs": [
    {
     "data": {
      "text/plain": [
       "0    0.281902\n",
       "Name: val_loss, dtype: float64"
      ]
     },
     "execution_count": 79,
     "metadata": {},
     "output_type": "execute_result"
    }
   ],
   "source": [
    "summary_model.iloc[2]\n"
   ]
  },
  {
   "cell_type": "markdown",
   "metadata": {},
   "source": [
    "## compare models "
   ]
  },
  {
   "cell_type": "code",
   "execution_count": 80,
   "metadata": {},
   "outputs": [
    {
     "name": "stderr",
     "output_type": "stream",
     "text": [
      "/opt/homebrew/Caskroom/miniconda/base/envs/project-ml-2/lib/python3.10/site-packages/seaborn/_oldcore.py:1498: FutureWarning: is_categorical_dtype is deprecated and will be removed in a future version. Use isinstance(dtype, CategoricalDtype) instead\n",
      "  if pd.api.types.is_categorical_dtype(vector):\n",
      "/opt/homebrew/Caskroom/miniconda/base/envs/project-ml-2/lib/python3.10/site-packages/seaborn/_oldcore.py:1498: FutureWarning: is_categorical_dtype is deprecated and will be removed in a future version. Use isinstance(dtype, CategoricalDtype) instead\n",
      "  if pd.api.types.is_categorical_dtype(vector):\n"
     ]
    },
    {
     "data": {
      "text/plain": [
       "[Text(0, 0, ''),\n",
       " Text(0, 0, ''),\n",
       " Text(0, 0, ''),\n",
       " Text(0, 0, ''),\n",
       " Text(0, 0, ''),\n",
       " Text(0, 0, '')]"
      ]
     },
     "execution_count": 80,
     "metadata": {},
     "output_type": "execute_result"
    },
    {
     "data": {
      "image/png": "[encoded data removed]",
      "text/plain": [
       "<Figure size 1400x1000 with 1 Axes>"
      ]
     },
     "metadata": {},
     "output_type": "display_data"
    }
   ],
   "source": [
    "\n",
    "# compare models \n",
    "\n",
    "compare = pd.DataFrame(\n",
    "    {\n",
    "        \"Model\": ['model', 'model_l1', 'model_l2', 'model_dropout', 'model_layer', 'model_final'],\n",
    "    \n",
    "        'accuracy': [ accuracy_model, accuracy_l1, accuracy_l2, accuracy_dropout, accuracy_layer,accuracy_final]\n",
    "    }    \n",
    ")\n",
    "\n",
    "\n",
    "plt.figure(figsize=(14, 10))\n",
    "plt.plot()\n",
    "compare = compare.sort_values(by=\"accuracy\", ascending=False)\n",
    "ax = sns.barplot(x=\"accuracy\", y=\"Model\", data=compare, palette=\"Blues_d\")\n",
    "ax.bar_label(ax.containers[0], fmt=\"%.3f\")\n"
   ]
  },
  {
   "cell_type": "markdown",
   "metadata": {},
   "source": [
    "## Model Evaluation\n",
    "\n",
    "**TASK 8: Show the accuracy,precision,recall,f1-score the model achieved on the x_test data set. Keep in mind, there are quite a few ways to do this, but we recommend following the same procedure we showed in the MNIST lecture.**"
   ]
  },
  {
   "cell_type": "markdown",
   "metadata": {},
   "source": [
    "all models preformence was good \n",
    "without overfitting!\n",
    "\n",
    "highest accuracy first model with accuracy 0.911 and droupout model with 0.917 accuracy \n",
    "\n",
    "so we will use dropout model\n",
    "\n"
   ]
  },
  {
   "cell_type": "code",
   "execution_count": 81,
   "metadata": {},
   "outputs": [
    {
     "name": "stdout",
     "output_type": "stream",
     "text": [
      "313/313 [==============================] - 1s 3ms/step\n",
      "              precision    recall  f1-score   support\n",
      "\n",
      "           0       0.87      0.89      0.88      1000\n",
      "           1       0.99      0.98      0.99      1000\n",
      "           2       0.84      0.87      0.86      1000\n",
      "           3       0.92      0.93      0.92      1000\n",
      "           4       0.85      0.87      0.86      1000\n",
      "           5       0.99      0.98      0.98      1000\n",
      "           6       0.79      0.73      0.76      1000\n",
      "           7       0.95      0.98      0.97      1000\n",
      "           8       0.99      0.98      0.98      1000\n",
      "           9       0.98      0.96      0.97      1000\n",
      "\n",
      "    accuracy                           0.92     10000\n",
      "   macro avg       0.92      0.92      0.92     10000\n",
      "weighted avg       0.92      0.92      0.92     10000\n",
      "\n",
      "-------------------------------------------------------------\n"
     ]
    },
    {
     "data": {
      "image/png": "[encoded data removed]",
      "text/plain": [
       "<Figure size 900x500 with 2 Axes>"
      ]
     },
     "metadata": {},
     "output_type": "display_data"
    },
    {
     "name": "stdout",
     "output_type": "stream",
     "text": [
      "\n",
      "\n"
     ]
    },
    {
     "data": {
      "image/png": "[encoded data removed]",
      "text/plain": [
       "<Figure size 640x480 with 1 Axes>"
      ]
     },
     "metadata": {},
     "output_type": "display_data"
    }
   ],
   "source": [
    "pred_prob = model_dropout.predict(X_test_s)\n",
    "y_pred = np.argmax(pred_prob, axis=1)\n",
    "print(classification_report(y_test, y_pred))\n",
    "print(\"-------------------------------------------------------------\")\n",
    "plt.figure(figsize=(9, 5))\n",
    "sns.heatmap(\n",
    "        confusion_matrix(y_test, y_pred),\n",
    "        annot=True,\n",
    "        cmap=\"Blues\",\n",
    "        linewidths=0.5,\n",
    "        linecolor=\"black\",\n",
    "        fmt=\"g\",\n",
    "        annot_kws={\"size\": 15},)\n",
    "plt.title(\"prediction\")\n",
    "plt.show();\n",
    "print(\"\\n\")\n",
    "equal = np.equal(y_test, y_pred).sum()\n",
    "not_equal= np.not_equal(y_test, y_pred).sum()\n",
    "plt.bar(['equal','not_equal'] , [equal,not_equal] )\n",
    "plt.title(\"Correct prediction VS wrong prediction\")\n",
    "plt.show();"
   ]
  },
  {
   "cell_type": "code",
   "execution_count": 115,
   "metadata": {},
   "outputs": [
    {
     "data": {
      "text/plain": [
       "827"
      ]
     },
     "execution_count": 115,
     "metadata": {},
     "output_type": "execute_result"
    }
   ],
   "source": [
    "#about 8.27% of the test set was miss classified\n",
    "not_equal"
   ]
  },
  {
   "cell_type": "markdown",
   "metadata": {},
   "source": [
    "## Prediction"
   ]
  },
  {
   "cell_type": "code",
   "execution_count": 108,
   "metadata": {},
   "outputs": [
    {
     "data": {
      "image/png": "[encoded data removed]",
      "text/plain": [
       "<Figure size 640x480 with 1 Axes>"
      ]
     },
     "metadata": {},
     "output_type": "display_data"
    }
   ],
   "source": [
    "plt.imshow(X_test_s[6])\n",
    "plt.show()"
   ]
  },
  {
   "cell_type": "code",
   "execution_count": 109,
   "metadata": {},
   "outputs": [
    {
     "data": {
      "text/plain": [
       "'Coat'"
      ]
     },
     "execution_count": 109,
     "metadata": {},
     "output_type": "execute_result"
    }
   ],
   "source": [
    "classes[y_test[6]]"
   ]
  },
  {
   "cell_type": "code",
   "execution_count": 111,
   "metadata": {},
   "outputs": [
    {
     "name": "stdout",
     "output_type": "stream",
     "text": [
      "1/1 [==============================] - 0s 21ms/step\n"
     ]
    },
    {
     "data": {
      "text/plain": [
       "array([[5.3380802e-09, 9.1711821e-10, 1.2802704e-04, 6.8575414e-12,\n",
       "        9.9987137e-01, 6.0906640e-13, 6.2005017e-07, 3.8013758e-14,\n",
       "        3.4027884e-15, 1.7790774e-11]], dtype=float32)"
      ]
     },
     "execution_count": 111,
     "metadata": {},
     "output_type": "execute_result"
    }
   ],
   "source": [
    "predicted_value = model_dropout.predict(np.expand_dims(X_test_s[6], 0))\n",
    "predicted_value"
   ]
  },
  {
   "cell_type": "code",
   "execution_count": 112,
   "metadata": {},
   "outputs": [
    {
     "name": "stdout",
     "output_type": "stream",
     "text": [
      "Predicted value:  Coat \n",
      "Real value : Coat\n"
     ]
    },
    {
     "data": {
      "image/png": "[encoded data removed]",
      "text/plain": [
       "<Figure size 640x480 with 1 Axes>"
      ]
     },
     "metadata": {},
     "output_type": "display_data"
    }
   ],
   "source": [
    "\n",
    "print('Predicted value: ', classes[np.argmax(predicted_value)],\n",
    "      '\\nReal value :', classes[y_test[6]])\n",
    "plt.imshow(X_test_s[6]);"
   ]
  },
  {
   "cell_type": "markdown",
   "metadata": {},
   "source": [
    "predection was correct even on the class that had the lowest accuracy!"
   ]
  },
  {
   "cell_type": "markdown",
   "metadata": {},
   "source": [
    "References:\n",
    "- https://machinelearningmastery.com/how-to-develop-a-cnn-from-scratch-for-fashion-mnist-clothing-classification/"
   ]
  },
  {
   "cell_type": "markdown",
   "metadata": {},
   "source": [
    "# End of Assignment"
   ]
  },
  {
   "cell_type": "markdown",
   "metadata": {},
   "source": [
    "___\n",
    "\n",
    "<p style=\"text-align: center;\"><img src=\"https://docs.google.com/uc?id=1lY0Uj5R04yMY3-ZppPWxqCr5pvBLYPnV\" class=\"img-fluid\" alt=\"CLRSWY\"></p>\n",
    "\n",
    "___"
   ]
  }
 ],
 "metadata": {
  "kernelspec": {
   "display_name": "Python 3 (ipykernel)",
   "language": "python",
   "name": "python3"
  },
  "language_info": {
   "codemirror_mode": {
    "name": "ipython",
    "version": 3
   },
   "file_extension": ".py",
   "mimetype": "text/x-python",
   "name": "python",
   "nbconvert_exporter": "python",
   "pygments_lexer": "ipython3",
   "version": "3.10.12"
  },
  "toc": {
   "base_numbering": 1,
   "nav_menu": {},
   "number_sections": false,
   "sideBar": true,
   "skip_h1_title": false,
   "title_cell": "Table of Contents",
   "title_sidebar": "Contents",
   "toc_cell": false,
   "toc_position": {},
   "toc_section_display": true,
   "toc_window_display": true
  }
 },
 "nbformat": 4,
 "nbformat_minor": 2
}
