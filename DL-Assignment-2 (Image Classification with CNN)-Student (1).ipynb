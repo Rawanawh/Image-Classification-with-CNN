{
 "cells": [
  {
   "cell_type": "markdown",
   "metadata": {},
   "source": [
    "___\n",
    "\n",
    "<p style=\"text-align: center;\"><img src=\"https://docs.google.com/uc?id=1lY0Uj5R04yMY3-ZppPWxqCr5pvBLYPnV\" class=\"img-fluid\" alt=\"CLRSWY\"></p>\n",
    "\n",
    "___"
   ]
  },
  {
   "cell_type": "markdown",
   "metadata": {},
   "source": [
    "<h1 style=\"text-align: center;\">Deep Learning<br><br>Assignment-2 (CNN)<br><br>Image Classification with CNN<br><h1>"
   ]
  },
  {
   "cell_type": "markdown",
   "metadata": {},
   "source": [
    "# Task and Dataset Info\n",
    "\n",
    "Welcome to second assignment of Deep learning lesson. Follow the instructions and complete the assignment.\n",
    "\n",
    "**Build an image classifier with Convolutional Neural Networks for the Fashion MNIST dataset. This data set includes 10 labels of different clothing types with 28 by 28 *grayscale* images. There is a training set of 60,000 images and 10,000 test images.**\n",
    "\n",
    "    Label\tDescription\n",
    "    0\t    T-shirt/top\n",
    "    1\t    Trouser\n",
    "    2\t    Pullover\n",
    "    3\t    Dress\n",
    "    4\t    Coat\n",
    "    5\t    Sandal\n",
    "    6\t    Shirt\n",
    "    7\t    Sneaker\n",
    "    8\t    Bag\n",
    "    9\t    Ankle boot"
   ]
  },
  {
   "cell_type": "markdown",
   "metadata": {},
   "source": [
    "# Import Libraries"
   ]
  },
  {
   "cell_type": "code",
   "execution_count": 1,
   "metadata": {},
   "outputs": [],
   "source": [
    "import matplotlib.pyplot as plt\n",
    "import seaborn as sns\n",
    "from mlxtend.plotting import plot_confusion_matrix\n",
    "#data\n",
    "import numpy as np\n",
    "import pandas as pd\n",
    "#tensorflow/keras\n",
    "import tensorflow as tf\n",
    "from tensorflow.keras.datasets import fashion_mnist\n",
    "from tensorflow.keras.models import Sequential\n",
    "from tensorflow.keras.utils import to_categorical\n",
    "from tensorflow.keras.layers import Dense, Conv2D, MaxPool2D, Flatten, Dropout, BatchNormalization\n",
    "from tensorflow.keras.callbacks import EarlyStopping\n",
    "#sklearn\n",
    "from sklearn.model_selection import train_test_split\n",
    "from sklearn.metrics import accuracy_score, confusion_matrix, classification_report, ConfusionMatrixDisplay\n",
    "from sklearn.metrics import roc_curve, auc\n",
    "from sklearn.metrics import precision_score, recall_score, accuracy_score, f1_score\n",
    "#optimization\n",
    "from tensorflow.keras.optimizers import Adam, Adadelta, RMSprop, Nadam\n",
    "import optuna\n",
    "#model saving\n",
    "import pickle\n",
    "from tensorflow.keras.models import load_model"
   ]
  },
  {
   "cell_type": "markdown",
   "metadata": {},
   "source": [
    "# Recognizing and Understanding Data\n",
    "\n",
    "**TASK 1: Run the code below to download the dataset using Keras.**"
   ]
  },
  {
   "cell_type": "code",
   "execution_count": 2,
   "metadata": {},
   "outputs": [],
   "source": [
    "(x_train, y_train), (x_test, y_test) = fashion_mnist.load_data()"
   ]
  },
  {
   "cell_type": "code",
   "execution_count": 3,
   "metadata": {},
   "outputs": [],
   "source": [
    "#valdation split\n",
    "X_train_v, X_val, y_train_v, y_val = train_test_split(x_train, y_train, test_size = 0.1, stratify = y_train)"
   ]
  },
  {
   "cell_type": "code",
   "execution_count": 4,
   "metadata": {},
   "outputs": [
    {
     "data": {
      "text/plain": [
       "255"
      ]
     },
     "execution_count": 4,
     "metadata": {},
     "output_type": "execute_result"
    }
   ],
   "source": [
    "X_train_v.max()"
   ]
  },
  {
   "cell_type": "code",
   "execution_count": 5,
   "metadata": {},
   "outputs": [
    {
     "data": {
      "text/plain": [
       "(60000, 28, 28)"
      ]
     },
     "execution_count": 5,
     "metadata": {},
     "output_type": "execute_result"
    }
   ],
   "source": [
    "x_train.shape"
   ]
  },
  {
   "cell_type": "code",
   "execution_count": 6,
   "metadata": {},
   "outputs": [
    {
     "data": {
      "text/plain": [
       "(10000, 28, 28)"
      ]
     },
     "execution_count": 6,
     "metadata": {},
     "output_type": "execute_result"
    }
   ],
   "source": [
    "x_test.shape"
   ]
  },
  {
   "cell_type": "code",
   "execution_count": 7,
   "metadata": {},
   "outputs": [
    {
     "data": {
      "text/plain": [
       "(54000, 28, 28)"
      ]
     },
     "execution_count": 7,
     "metadata": {},
     "output_type": "execute_result"
    }
   ],
   "source": [
    "X_train_v.shape"
   ]
  },
  {
   "cell_type": "code",
   "execution_count": 8,
   "metadata": {},
   "outputs": [
    {
     "data": {
      "text/plain": [
       "(60000,)"
      ]
     },
     "execution_count": 8,
     "metadata": {},
     "output_type": "execute_result"
    }
   ],
   "source": [
    "y_train.shape"
   ]
  },
  {
   "cell_type": "code",
   "execution_count": 9,
   "metadata": {},
   "outputs": [
    {
     "data": {
      "text/plain": [
       "(6000, 28, 28)"
      ]
     },
     "execution_count": 9,
     "metadata": {},
     "output_type": "execute_result"
    }
   ],
   "source": [
    "X_val.shape"
   ]
  },
  {
   "cell_type": "code",
   "execution_count": 10,
   "metadata": {},
   "outputs": [
    {
     "data": {
      "text/plain": [
       "(6000,)"
      ]
     },
     "execution_count": 10,
     "metadata": {},
     "output_type": "execute_result"
    }
   ],
   "source": [
    "y_val.shape"
   ]
  },
  {
   "cell_type": "markdown",
   "metadata": {},
   "source": [
    "**TASK 2: Use matplotlib to view an image from the data set. It can be any image from the data set.**"
   ]
  },
  {
   "cell_type": "code",
   "execution_count": 11,
   "metadata": {},
   "outputs": [],
   "source": [
    "classes=[\"T-shirt/top\", \"Trouser\",\"Pullover\",\"Dress\",\"Coat\",\"Sandal\",\"Shirt\",\"Sneaker\",\"Bag\",\"Ankle boot\"]"
   ]
  },
  {
   "cell_type": "code",
   "execution_count": 12,
   "metadata": {},
   "outputs": [
    {
     "data": {
      "image/png": "[encoded data removed]",
      "text/plain": [
       "<Figure size 640x480 with 1 Axes>"
      ]
     },
     "metadata": {},
     "output_type": "display_data"
    }
   ],
   "source": [
    "plt.imshow(X_train_v[1])\n",
    "plt.show()"
   ]
  },
  {
   "cell_type": "code",
   "execution_count": 13,
   "metadata": {},
   "outputs": [
    {
     "data": {
      "image/png": "[encoded data removed]",
      "text/plain": [
       "<Figure size 640x480 with 1 Axes>"
      ]
     },
     "metadata": {},
     "output_type": "display_data"
    }
   ],
   "source": [
    "plt.imshow(X_train_v[20])\n",
    "plt.show()"
   ]
  },
  {
   "cell_type": "code",
   "execution_count": 14,
   "metadata": {},
   "outputs": [
    {
     "data": {
      "image/png": "[encoded data removed]",
      "text/plain": [
       "<Figure size 640x480 with 1 Axes>"
      ]
     },
     "metadata": {},
     "output_type": "display_data"
    }
   ],
   "source": [
    "plt.imshow(X_train_v[11])  \n",
    "plt.show()"
   ]
  },
  {
   "cell_type": "markdown",
   "metadata": {},
   "source": [
    "# Data Preprocessing\n",
    "\n",
    "**TASK 3: Normalize the X train and X test data by dividing by the max value of the image arrays.**"
   ]
  },
  {
   "cell_type": "code",
   "execution_count": 15,
   "metadata": {},
   "outputs": [
    {
     "data": {
      "text/plain": [
       "255"
      ]
     },
     "execution_count": 15,
     "metadata": {},
     "output_type": "execute_result"
    }
   ],
   "source": [
    "x_train.max()"
   ]
  },
  {
   "cell_type": "code",
   "execution_count": 16,
   "metadata": {},
   "outputs": [
    {
     "data": {
      "text/plain": [
       "255"
      ]
     },
     "execution_count": 16,
     "metadata": {},
     "output_type": "execute_result"
    }
   ],
   "source": [
    "X_train_v.max()"
   ]
  },
  {
   "cell_type": "code",
   "execution_count": 17,
   "metadata": {},
   "outputs": [
    {
     "data": {
      "text/plain": [
       "255"
      ]
     },
     "execution_count": 17,
     "metadata": {},
     "output_type": "execute_result"
    }
   ],
   "source": [
    "X_val.max()"
   ]
  },
  {
   "cell_type": "code",
   "execution_count": 18,
   "metadata": {},
   "outputs": [
    {
     "data": {
      "text/plain": [
       "255"
      ]
     },
     "execution_count": 18,
     "metadata": {},
     "output_type": "execute_result"
    }
   ],
   "source": [
    "x_test.max()"
   ]
  },
  {
   "cell_type": "code",
   "execution_count": 19,
   "metadata": {},
   "outputs": [],
   "source": [
    "X_train = x_train.astype(\"float32\")\n",
    "X_test = x_test.astype(\"float32\")\n",
    "X_train /= 255\n",
    "X_test /= 255"
   ]
  },
  {
   "cell_type": "code",
   "execution_count": 20,
   "metadata": {},
   "outputs": [],
   "source": [
    "X_train_v = X_train_v.astype(\"float32\")\n",
    "X_val = X_val.astype(\"float32\")\n",
    "X_train_v /= 255\n",
    "X_val /= 255"
   ]
  },
  {
   "cell_type": "code",
   "execution_count": 21,
   "metadata": {},
   "outputs": [
    {
     "data": {
      "text/plain": [
       "1.0"
      ]
     },
     "execution_count": 21,
     "metadata": {},
     "output_type": "execute_result"
    }
   ],
   "source": [
    "X_train_v.max()"
   ]
  },
  {
   "cell_type": "code",
   "execution_count": 22,
   "metadata": {},
   "outputs": [
    {
     "data": {
      "text/plain": [
       "1.0"
      ]
     },
     "execution_count": 22,
     "metadata": {},
     "output_type": "execute_result"
    }
   ],
   "source": [
    "X_train.max()"
   ]
  },
  {
   "cell_type": "code",
   "execution_count": 23,
   "metadata": {},
   "outputs": [
    {
     "data": {
      "text/plain": [
       "1.0"
      ]
     },
     "execution_count": 23,
     "metadata": {},
     "output_type": "execute_result"
    }
   ],
   "source": [
    "X_val.max()"
   ]
  },
  {
   "cell_type": "code",
   "execution_count": 24,
   "metadata": {},
   "outputs": [
    {
     "data": {
      "text/plain": [
       "1.0"
      ]
     },
     "execution_count": 24,
     "metadata": {},
     "output_type": "execute_result"
    }
   ],
   "source": [
    "X_test.max()"
   ]
  },
  {
   "cell_type": "markdown",
   "metadata": {},
   "source": [
    "**Task 4: Reshape the X arrays to include a 4 dimension of the single channel. Similar to what we did for the numbers MNIST data set.**"
   ]
  },
  {
   "cell_type": "code",
   "execution_count": 25,
   "metadata": {},
   "outputs": [],
   "source": [
    "X_train_vs = np.expand_dims(X_train_v, -1)\n",
    "X_val_s = np.expand_dims(X_val, -1)"
   ]
  },
  {
   "cell_type": "code",
   "execution_count": 26,
   "metadata": {},
   "outputs": [],
   "source": [
    "X_train_s = np.expand_dims(X_train, -1)\n",
    "X_test_s = np.expand_dims(X_test, -1)"
   ]
  },
  {
   "cell_type": "code",
   "execution_count": 27,
   "metadata": {},
   "outputs": [
    {
     "data": {
      "text/plain": [
       "(60000, 28, 28, 1)"
      ]
     },
     "execution_count": 27,
     "metadata": {},
     "output_type": "execute_result"
    }
   ],
   "source": [
    "X_train_s.shape"
   ]
  },
  {
   "cell_type": "code",
   "execution_count": 28,
   "metadata": {},
   "outputs": [
    {
     "data": {
      "text/plain": [
       "(6000, 28, 28, 1)"
      ]
     },
     "execution_count": 28,
     "metadata": {},
     "output_type": "execute_result"
    }
   ],
   "source": [
    "X_val_s.shape"
   ]
  },
  {
   "cell_type": "code",
   "execution_count": 29,
   "metadata": {},
   "outputs": [
    {
     "data": {
      "text/plain": [
       "(54000, 28, 28, 1)"
      ]
     },
     "execution_count": 29,
     "metadata": {},
     "output_type": "execute_result"
    }
   ],
   "source": [
    "X_train_vs.shape"
   ]
  },
  {
   "cell_type": "code",
   "execution_count": 30,
   "metadata": {},
   "outputs": [
    {
     "data": {
      "text/plain": [
       "(10000, 28, 28, 1)"
      ]
     },
     "execution_count": 30,
     "metadata": {},
     "output_type": "execute_result"
    }
   ],
   "source": [
    "X_test_s.shape"
   ]
  },
  {
   "cell_type": "markdown",
   "metadata": {},
   "source": [
    "**TASK 5: Convert the y_train and y_test values to be one-hot encoded for categorical analysis by Keras.**"
   ]
  },
  {
   "cell_type": "code",
   "execution_count": 31,
   "metadata": {},
   "outputs": [],
   "source": [
    "y_train_vc = to_categorical(y_train_v)\n",
    "y_val_vc = to_categorical(y_val)"
   ]
  },
  {
   "cell_type": "code",
   "execution_count": 32,
   "metadata": {},
   "outputs": [],
   "source": [
    "y_train_c = to_categorical(y_train)\n",
    "y_test_c = to_categorical(y_test)"
   ]
  },
  {
   "cell_type": "code",
   "execution_count": 33,
   "metadata": {},
   "outputs": [
    {
     "data": {
      "text/plain": [
       "1.0"
      ]
     },
     "execution_count": 33,
     "metadata": {},
     "output_type": "execute_result"
    }
   ],
   "source": [
    "y_train_vc.max()"
   ]
  },
  {
   "cell_type": "code",
   "execution_count": 34,
   "metadata": {},
   "outputs": [
    {
     "data": {
      "text/plain": [
       "1.0"
      ]
     },
     "execution_count": 34,
     "metadata": {},
     "output_type": "execute_result"
    }
   ],
   "source": [
    "y_val_vc.max()"
   ]
  },
  {
   "cell_type": "code",
   "execution_count": 35,
   "metadata": {},
   "outputs": [
    {
     "data": {
      "text/plain": [
       "1.0"
      ]
     },
     "execution_count": 35,
     "metadata": {},
     "output_type": "execute_result"
    }
   ],
   "source": [
    "y_train_c.max()"
   ]
  },
  {
   "cell_type": "code",
   "execution_count": 36,
   "metadata": {},
   "outputs": [
    {
     "data": {
      "text/plain": [
       "1.0"
      ]
     },
     "execution_count": 36,
     "metadata": {},
     "output_type": "execute_result"
    }
   ],
   "source": [
    "y_test_c.max()"
   ]
  },
  {
   "cell_type": "markdown",
   "metadata": {},
   "source": [
    "# Modeling"
   ]
  },
  {
   "cell_type": "markdown",
   "metadata": {},
   "source": [
    "## Create the model \n",
    "\n",
    "**TASK 5: Use Keras to create a model consisting of at least the following layers (but feel free to experiment):**\n",
    "\n",
    "* 2D Convolutional Layer, filters=28 and kernel_size=(3,3)\n",
    "* Pooling Layer where pool_size = (2,2) strides=(1,1)\n",
    "\n",
    "* Flatten Layer\n",
    "* Dense Layer (128 Neurons, but feel free to play around with this value), RELU activation\n",
    "\n",
    "* Final Dense Layer of 10 Neurons with a softmax activation\n",
    "\n",
    "**Then compile the model with these parameters: loss='categorical_crossentropy', optimizer='rmsprop', metrics=['accuracy']**"
   ]
  },
  {
   "cell_type": "code",
   "execution_count": 37,
   "metadata": {},
   "outputs": [],
   "source": [
    "model = Sequential()\n",
    "\n",
    "model.add(Conv2D(filters=32, kernel_size=(3, 3), input_shape=(28, 28, 1), activation=\"relu\",padding=\"same\"))\n",
    "model.add(MaxPool2D(pool_size=(2, 2), strides = (1, 1)))\n",
    "\n",
    "\n",
    "model.add(Flatten())\n",
    "model.add(Dense(128, activation=\"relu\"))\n",
    "model.add(Dense(10, activation=\"softmax\"))\n",
    "\n",
    "model.compile(loss=\"categorical_crossentropy\", optimizer=\"rmsprop\", metrics=[\"accuracy\"])"
   ]
  },
  {
   "cell_type": "code",
   "execution_count": 38,
   "metadata": {},
   "outputs": [
    {
     "name": "stdout",
     "output_type": "stream",
     "text": [
      "Model: \"sequential\"\n",
      "_________________________________________________________________\n",
      " Layer (type)                Output Shape              Param #   \n",
      "=================================================================\n",
      " conv2d (Conv2D)             (None, 28, 28, 32)        320       \n",
      "                                                                 \n",
      " max_pooling2d (MaxPooling2D  (None, 27, 27, 32)       0         \n",
      " )                                                               \n",
      "                                                                 \n",
      " flatten (Flatten)           (None, 23328)             0         \n",
      "                                                                 \n",
      " dense (Dense)               (None, 128)               2986112   \n",
      "                                                                 \n",
      " dense_1 (Dense)             (None, 10)                1290      \n",
      "                                                                 \n",
      "=================================================================\n",
      "Total params: 2,987,722\n",
      "Trainable params: 2,987,722\n",
      "Non-trainable params: 0\n",
      "_________________________________________________________________\n"
     ]
    }
   ],
   "source": [
    "model.summary()"
   ]
  },
  {
   "cell_type": "markdown",
   "metadata": {},
   "source": [
    "##  Model Training \n",
    "\n",
    "**TASK 6: Train/Fit the model to the x_train set by using EarlyStop. Amount of epochs is up to you.**"
   ]
  },
  {
   "cell_type": "code",
   "execution_count": 39,
   "metadata": {},
   "outputs": [],
   "source": [
    "early_stop = tf.keras.callbacks.EarlyStopping(monitor=\"val_loss\", mode=\"min\", verbose=1, patience=5,\n",
    "                                           restore_best_weights=True)"
   ]
  },
  {
   "cell_type": "code",
   "execution_count": 40,
   "metadata": {},
   "outputs": [
    {
     "name": "stdout",
     "output_type": "stream",
     "text": [
      "Epoch 1/30\n"
     ]
    },
    {
     "name": "stderr",
     "output_type": "stream",
     "text": [
      "2023-11-01 22:27:06.752343: W tensorflow/tsl/platform/profile_utils/cpu_utils.cc:128] Failed to get CPU frequency: 0 Hz\n"
     ]
    },
    {
     "name": "stdout",
     "output_type": "stream",
     "text": [
      " 152/1688 [=>............................] - ETA: 33s - loss: 0.7422 - accuracy: 0.7463"
     ]
    },
    {
     "name": "stdout",
     "output_type": "stream",
     "text": [
      "1688/1688 [==============================] - 26s 15ms/step - loss: 0.3795 - accuracy: 0.8654 - val_loss: 0.3195 - val_accuracy: 0.8828\n",
      "Epoch 2/30\n",
      "1688/1688 [==============================] - 19s 11ms/step - loss: 0.2502 - accuracy: 0.9092 - val_loss: 0.2617 - val_accuracy: 0.9052\n",
      "Epoch 3/30\n",
      "1688/1688 [==============================] - 19s 11ms/step - loss: 0.2073 - accuracy: 0.9246 - val_loss: 0.2409 - val_accuracy: 0.9120\n",
      "Epoch 4/30\n",
      "1688/1688 [==============================] - 19s 11ms/step - loss: 0.1764 - accuracy: 0.9355 - val_loss: 0.2429 - val_accuracy: 0.9175\n",
      "Epoch 5/30\n",
      "1688/1688 [==============================] - 19s 11ms/step - loss: 0.1515 - accuracy: 0.9456 - val_loss: 0.2704 - val_accuracy: 0.9085\n",
      "Epoch 6/30\n",
      "1688/1688 [==============================] - 20s 12ms/step - loss: 0.1321 - accuracy: 0.9516 - val_loss: 0.3138 - val_accuracy: 0.9055\n",
      "Epoch 7/30\n",
      "1688/1688 [==============================] - 20s 12ms/step - loss: 0.1161 - accuracy: 0.9582 - val_loss: 0.2650 - val_accuracy: 0.9142\n",
      "Epoch 8/30\n",
      "1686/1688 [============================>.] - ETA: 0s - loss: 0.1018 - accuracy: 0.9634Restoring model weights from the end of the best epoch: 3.\n",
      "1688/1688 [==============================] - 20s 12ms/step - loss: 0.1017 - accuracy: 0.9634 - val_loss: 0.3441 - val_accuracy: 0.9012\n",
      "Epoch 8: early stopping\n"
     ]
    }
   ],
   "source": [
    "model_history = model.fit(X_train_vs, y_train_vc, batch_size=32, epochs=30, callbacks=[early_stop], validation_data = (X_val_s, y_val_vc))"
   ]
  },
  {
   "cell_type": "code",
   "execution_count": 41,
   "metadata": {},
   "outputs": [
    {
     "data": {
      "text/html": [
       "<div>\n",
       "<style scoped>\n",
       "    .dataframe tbody tr th:only-of-type {\n",
       "        vertical-align: middle;\n",
       "    }\n",
       "\n",
       "    .dataframe tbody tr th {\n",
       "        vertical-align: top;\n",
       "    }\n",
       "\n",
       "    .dataframe thead th {\n",
       "        text-align: right;\n",
       "    }\n",
       "</style>\n",
       "<table border=\"1\" class=\"dataframe\">\n",
       "  <thead>\n",
       "    <tr style=\"text-align: right;\">\n",
       "      <th></th>\n",
       "      <th>loss</th>\n",
       "      <th>accuracy</th>\n",
       "      <th>val_loss</th>\n",
       "      <th>val_accuracy</th>\n",
       "    </tr>\n",
       "  </thead>\n",
       "  <tbody>\n",
       "    <tr>\n",
       "      <th>0</th>\n",
       "      <td>0.379548</td>\n",
       "      <td>0.865407</td>\n",
       "      <td>0.319502</td>\n",
       "      <td>0.882833</td>\n",
       "    </tr>\n",
       "    <tr>\n",
       "      <th>1</th>\n",
       "      <td>0.250182</td>\n",
       "      <td>0.909204</td>\n",
       "      <td>0.261696</td>\n",
       "      <td>0.905167</td>\n",
       "    </tr>\n",
       "    <tr>\n",
       "      <th>2</th>\n",
       "      <td>0.207271</td>\n",
       "      <td>0.924556</td>\n",
       "      <td>0.240941</td>\n",
       "      <td>0.912000</td>\n",
       "    </tr>\n",
       "    <tr>\n",
       "      <th>3</th>\n",
       "      <td>0.176426</td>\n",
       "      <td>0.935537</td>\n",
       "      <td>0.242852</td>\n",
       "      <td>0.917500</td>\n",
       "    </tr>\n",
       "    <tr>\n",
       "      <th>4</th>\n",
       "      <td>0.151543</td>\n",
       "      <td>0.945630</td>\n",
       "      <td>0.270354</td>\n",
       "      <td>0.908500</td>\n",
       "    </tr>\n",
       "  </tbody>\n",
       "</table>\n",
       "</div>"
      ],
      "text/plain": [
       "       loss  accuracy  val_loss  val_accuracy\n",
       "0  0.379548  0.865407  0.319502      0.882833\n",
       "1  0.250182  0.909204  0.261696      0.905167\n",
       "2  0.207271  0.924556  0.240941      0.912000\n",
       "3  0.176426  0.935537  0.242852      0.917500\n",
       "4  0.151543  0.945630  0.270354      0.908500"
      ]
     },
     "execution_count": 41,
     "metadata": {},
     "output_type": "execute_result"
    }
   ],
   "source": [
    "summary_model = pd.DataFrame(model.history.history)\n",
    "summary_model.head()"
   ]
  },
  {
   "cell_type": "code",
   "execution_count": 42,
   "metadata": {},
   "outputs": [
    {
     "name": "stdout",
     "output_type": "stream",
     "text": [
      "loss:  0.2579350769519806\n",
      "accuracy 0.9078999757766724\n"
     ]
    }
   ],
   "source": [
    "loss, accuracy  = model.evaluate(X_test_s, y_test_c, verbose=0)\n",
    "loss_model= print(\"loss: \", loss)\n",
    "accuracy_model= print('accuracy',accuracy) \n"
   ]
  },
  {
   "cell_type": "markdown",
   "metadata": {},
   "source": [
    "**TASK 7: Plot values of metrics you used in your model.**"
   ]
  },
  {
   "cell_type": "code",
   "execution_count": 43,
   "metadata": {},
   "outputs": [
    {
     "data": {
      "image/png": "[encoded data removed]",
      "text/plain": [
       "<Figure size 640x480 with 1 Axes>"
      ]
     },
     "metadata": {},
     "output_type": "display_data"
    }
   ],
   "source": [
    "loss_df_model = pd.DataFrame(model_history.history)\n",
    "loss_df_model.plot();"
   ]
  },
  {
   "cell_type": "markdown",
   "metadata": {},
   "source": [
    "## Model L1:\n",
    "\n",
    "Dropout (0.5) \n",
    "\n",
    "L2 Regularization \n",
    "\n",
    "hidden layer with 40 neurons\n",
    "\n"
   ]
  },
  {
   "cell_type": "code",
   "execution_count": 44,
   "metadata": {},
   "outputs": [],
   "source": [
    "model_l1 = Sequential(\n",
    "    [\n",
    "        Conv2D(filters=28, kernel_size=(3, 3), input_shape=(28, 28, 1), activation=\"relu\", padding=\"same\"), \n",
    "\n",
    "        MaxPool2D(pool_size=(2, 2), strides = (1, 1)),\n",
    "\n",
    "        Flatten(),\n",
    "       \n",
    "\n",
    "        Dense(128,activation='relu', kernel_regularizer=tf.keras.regularizers.l1(0.01)),\n",
    "        Dense(10,activation='softmax')\n",
    "\n",
    "        \n",
    "\n",
    "        \n",
    "       \n",
    "    ]\n",
    ")\n",
    "model_l1.compile(loss=\"binary_crossentropy\", optimizer=\"rmsprop\", metrics=[\"accuracy\"]\n",
    ")"
   ]
  },
  {
   "cell_type": "code",
   "execution_count": 45,
   "metadata": {},
   "outputs": [
    {
     "name": "stdout",
     "output_type": "stream",
     "text": [
      "Model: \"sequential_1\"\n",
      "_________________________________________________________________\n",
      " Layer (type)                Output Shape              Param #   \n",
      "=================================================================\n",
      " conv2d_1 (Conv2D)           (None, 28, 28, 28)        280       \n",
      "                                                                 \n",
      " max_pooling2d_1 (MaxPooling  (None, 27, 27, 28)       0         \n",
      " 2D)                                                             \n",
      "                                                                 \n",
      " flatten_1 (Flatten)         (None, 20412)             0         \n",
      "                                                                 \n",
      " dense_2 (Dense)             (None, 128)               2612864   \n",
      "                                                                 \n",
      " dense_3 (Dense)             (None, 10)                1290      \n",
      "                                                                 \n",
      "=================================================================\n",
      "Total params: 2,614,434\n",
      "Trainable params: 2,614,434\n",
      "Non-trainable params: 0\n",
      "_________________________________________________________________\n"
     ]
    }
   ],
   "source": [
    "model_l1.summary()"
   ]
  },
  {
   "cell_type": "markdown",
   "metadata": {},
   "source": [
    "##  Model L1 Training "
   ]
  },
  {
   "cell_type": "code",
   "execution_count": 46,
   "metadata": {},
   "outputs": [],
   "source": [
    "early_stop = tf.keras.callbacks.EarlyStopping(monitor=\"val_loss\", mode=\"min\", verbose=1, patience=5,\n",
    "                                           restore_best_weights=True)"
   ]
  },
  {
   "cell_type": "code",
   "execution_count": 47,
   "metadata": {},
   "outputs": [
    {
     "name": "stdout",
     "output_type": "stream",
     "text": [
      "Epoch 1/30\n"
     ]
    },
    {
     "name": "stdout",
     "output_type": "stream",
     "text": [
      "1688/1688 [==============================] - 26s 15ms/step - loss: 12.5545 - accuracy: 0.1711 - val_loss: 12.1283 - val_accuracy: 0.1000\n",
      "Epoch 2/30\n",
      "1688/1688 [==============================] - 22s 13ms/step - loss: 12.1558 - accuracy: 0.2166 - val_loss: 12.1258 - val_accuracy: 0.2113\n",
      "Epoch 3/30\n",
      "1688/1688 [==============================] - 22s 13ms/step - loss: 12.1403 - accuracy: 0.2701 - val_loss: 12.0677 - val_accuracy: 0.2908\n",
      "Epoch 4/30\n",
      "1688/1688 [==============================] - 23s 13ms/step - loss: 12.1328 - accuracy: 0.2840 - val_loss: 12.0461 - val_accuracy: 0.4090\n",
      "Epoch 5/30\n",
      "1688/1688 [==============================] - 23s 13ms/step - loss: 12.1219 - accuracy: 0.3558 - val_loss: 12.0633 - val_accuracy: 0.3802\n",
      "Epoch 6/30\n",
      "1688/1688 [==============================] - 23s 13ms/step - loss: 12.1108 - accuracy: 0.3996 - val_loss: 12.0577 - val_accuracy: 0.3270\n",
      "Epoch 7/30\n",
      "1688/1688 [==============================] - 22s 13ms/step - loss: 12.1071 - accuracy: 0.4115 - val_loss: 12.0512 - val_accuracy: 0.3577\n",
      "Epoch 8/30\n",
      "1688/1688 [==============================] - 22s 13ms/step - loss: 12.1044 - accuracy: 0.4304 - val_loss: 12.0445 - val_accuracy: 0.4257\n",
      "Epoch 9/30\n",
      "1688/1688 [==============================] - 23s 13ms/step - loss: 12.1018 - accuracy: 0.4455 - val_loss: 12.0447 - val_accuracy: 0.3795\n",
      "Epoch 10/30\n",
      "1688/1688 [==============================] - 23s 13ms/step - loss: 12.0985 - accuracy: 0.4704 - val_loss: 12.0373 - val_accuracy: 0.4393\n",
      "Epoch 11/30\n",
      "1688/1688 [==============================] - 23s 13ms/step - loss: 12.0947 - accuracy: 0.4905 - val_loss: 12.0843 - val_accuracy: 0.3730\n",
      "Epoch 12/30\n",
      "1688/1688 [==============================] - 23s 13ms/step - loss: 12.0897 - accuracy: 0.5159 - val_loss: 12.0297 - val_accuracy: 0.4813\n",
      "Epoch 13/30\n",
      "1688/1688 [==============================] - 23s 14ms/step - loss: 12.0843 - accuracy: 0.5447 - val_loss: 12.0617 - val_accuracy: 0.4673\n",
      "Epoch 14/30\n",
      "1688/1688 [==============================] - 23s 14ms/step - loss: 12.0800 - accuracy: 0.5649 - val_loss: 12.0137 - val_accuracy: 0.6187\n",
      "Epoch 15/30\n",
      "1688/1688 [==============================] - 23s 14ms/step - loss: 12.0754 - accuracy: 0.5807 - val_loss: 12.0076 - val_accuracy: 0.6015\n",
      "Epoch 16/30\n",
      "1688/1688 [==============================] - 23s 14ms/step - loss: 12.0716 - accuracy: 0.5940 - val_loss: 12.0102 - val_accuracy: 0.5337\n",
      "Epoch 17/30\n",
      "1688/1688 [==============================] - 23s 14ms/step - loss: 12.0691 - accuracy: 0.6103 - val_loss: 11.9987 - val_accuracy: 0.6108\n",
      "Epoch 18/30\n",
      "1688/1688 [==============================] - 23s 14ms/step - loss: 12.0678 - accuracy: 0.6152 - val_loss: 12.0222 - val_accuracy: 0.5717\n",
      "Epoch 19/30\n",
      "1688/1688 [==============================] - 23s 14ms/step - loss: 12.0675 - accuracy: 0.6205 - val_loss: 12.0051 - val_accuracy: 0.6490\n",
      "Epoch 20/30\n",
      "1688/1688 [==============================] - 23s 14ms/step - loss: 12.0671 - accuracy: 0.6272 - val_loss: 11.9952 - val_accuracy: 0.6517\n",
      "Epoch 21/30\n",
      "1688/1688 [==============================] - 23s 14ms/step - loss: 12.0666 - accuracy: 0.6315 - val_loss: 12.0075 - val_accuracy: 0.5823\n",
      "Epoch 22/30\n",
      "1688/1688 [==============================] - 23s 14ms/step - loss: 12.0640 - accuracy: 0.6394 - val_loss: 12.0065 - val_accuracy: 0.6202\n",
      "Epoch 23/30\n",
      "1688/1688 [==============================] - 23s 14ms/step - loss: 12.0617 - accuracy: 0.6464 - val_loss: 11.9973 - val_accuracy: 0.6583\n",
      "Epoch 24/30\n",
      "1688/1688 [==============================] - 23s 14ms/step - loss: 12.0593 - accuracy: 0.6502 - val_loss: 12.0037 - val_accuracy: 0.6088\n",
      "Epoch 25/30\n",
      "1687/1688 [============================>.] - ETA: 0s - loss: 12.0558 - accuracy: 0.6603Restoring model weights from the end of the best epoch: 20.\n",
      "1688/1688 [==============================] - 23s 14ms/step - loss: 12.0558 - accuracy: 0.6602 - val_loss: 12.0128 - val_accuracy: 0.6432\n",
      "Epoch 25: early stopping\n"
     ]
    }
   ],
   "source": [
    "model_l1_history = model_l1.fit(X_train_vs, y_train_vc, batch_size=32, epochs=30, callbacks=[early_stop], validation_data = (X_val_s, y_val_vc))#32 or less batch size"
   ]
  },
  {
   "cell_type": "code",
   "execution_count": 48,
   "metadata": {},
   "outputs": [
    {
     "data": {
      "text/html": [
       "<div>\n",
       "<style scoped>\n",
       "    .dataframe tbody tr th:only-of-type {\n",
       "        vertical-align: middle;\n",
       "    }\n",
       "\n",
       "    .dataframe tbody tr th {\n",
       "        vertical-align: top;\n",
       "    }\n",
       "\n",
       "    .dataframe thead th {\n",
       "        text-align: right;\n",
       "    }\n",
       "</style>\n",
       "<table border=\"1\" class=\"dataframe\">\n",
       "  <thead>\n",
       "    <tr style=\"text-align: right;\">\n",
       "      <th></th>\n",
       "      <th>loss</th>\n",
       "      <th>accuracy</th>\n",
       "      <th>val_loss</th>\n",
       "      <th>val_accuracy</th>\n",
       "    </tr>\n",
       "  </thead>\n",
       "  <tbody>\n",
       "    <tr>\n",
       "      <th>0</th>\n",
       "      <td>12.554542</td>\n",
       "      <td>0.171074</td>\n",
       "      <td>12.128340</td>\n",
       "      <td>0.100000</td>\n",
       "    </tr>\n",
       "    <tr>\n",
       "      <th>1</th>\n",
       "      <td>12.155807</td>\n",
       "      <td>0.216630</td>\n",
       "      <td>12.125792</td>\n",
       "      <td>0.211333</td>\n",
       "    </tr>\n",
       "    <tr>\n",
       "      <th>2</th>\n",
       "      <td>12.140280</td>\n",
       "      <td>0.270056</td>\n",
       "      <td>12.067726</td>\n",
       "      <td>0.290833</td>\n",
       "    </tr>\n",
       "    <tr>\n",
       "      <th>3</th>\n",
       "      <td>12.132835</td>\n",
       "      <td>0.284000</td>\n",
       "      <td>12.046055</td>\n",
       "      <td>0.409000</td>\n",
       "    </tr>\n",
       "    <tr>\n",
       "      <th>4</th>\n",
       "      <td>12.121885</td>\n",
       "      <td>0.355815</td>\n",
       "      <td>12.063320</td>\n",
       "      <td>0.380167</td>\n",
       "    </tr>\n",
       "  </tbody>\n",
       "</table>\n",
       "</div>"
      ],
      "text/plain": [
       "        loss  accuracy   val_loss  val_accuracy\n",
       "0  12.554542  0.171074  12.128340      0.100000\n",
       "1  12.155807  0.216630  12.125792      0.211333\n",
       "2  12.140280  0.270056  12.067726      0.290833\n",
       "3  12.132835  0.284000  12.046055      0.409000\n",
       "4  12.121885  0.355815  12.063320      0.380167"
      ]
     },
     "execution_count": 48,
     "metadata": {},
     "output_type": "execute_result"
    }
   ],
   "source": [
    "summary_model_l1 = pd.DataFrame(model_l1.history.history)\n",
    "summary_model_l1.head()"
   ]
  },
  {
   "cell_type": "code",
   "execution_count": 49,
   "metadata": {},
   "outputs": [
    {
     "name": "stdout",
     "output_type": "stream",
     "text": [
      "loss:  11.995551109313965\n",
      "accuracy 0.6513000130653381\n"
     ]
    }
   ],
   "source": [
    "loss, accuracy  = model_l1.evaluate(X_test_s, y_test_c, verbose=0)\n",
    "loss_l1= print(\"loss: \", loss)\n",
    "accuracy_l1= print('accuracy',accuracy) \n"
   ]
  },
  {
   "cell_type": "markdown",
   "metadata": {},
   "source": [
    "**TASK 7: Plot values of metrics you used in your model.**"
   ]
  },
  {
   "cell_type": "code",
   "execution_count": 50,
   "metadata": {},
   "outputs": [
    {
     "data": {
      "image/png": "[encoded data removed]",
      "text/plain": [
       "<Figure size 640x480 with 1 Axes>"
      ]
     },
     "metadata": {},
     "output_type": "display_data"
    }
   ],
   "source": [
    "loss_df_model_l1 = pd.DataFrame(model_l1_history.history)\n",
    "loss_df_model_l1.plot();"
   ]
  },
  {
   "cell_type": "markdown",
   "metadata": {},
   "source": [
    "## Model L2"
   ]
  },
  {
   "cell_type": "code",
   "execution_count": 51,
   "metadata": {},
   "outputs": [],
   "source": [
    "model_l2= Sequential(\n",
    "    [\n",
    "        Conv2D(filters=28, kernel_size=(3, 3), input_shape=(28, 28, 1), activation=\"relu\", padding=\"same\"), \n",
    "\n",
    "        MaxPool2D(pool_size=(2, 2), strides = (1, 1)),\n",
    "\n",
    "        Flatten(),\n",
    "        \n",
    "\n",
    "        Dense(128,activation='relu', kernel_regularizer=tf.keras.regularizers.l2(0.001)),\n",
    "        \n",
    "        Dense(10,activation='softmax')       \n",
    "    ]\n",
    ")\n",
    "model_l2.compile(loss=\"binary_crossentropy\", optimizer=\"rmsprop\", metrics=[\"accuracy\"]\n",
    ")"
   ]
  },
  {
   "cell_type": "code",
   "execution_count": 52,
   "metadata": {},
   "outputs": [
    {
     "name": "stdout",
     "output_type": "stream",
     "text": [
      "Model: \"sequential_2\"\n",
      "_________________________________________________________________\n",
      " Layer (type)                Output Shape              Param #   \n",
      "=================================================================\n",
      " conv2d_2 (Conv2D)           (None, 28, 28, 28)        280       \n",
      "                                                                 \n",
      " max_pooling2d_2 (MaxPooling  (None, 27, 27, 28)       0         \n",
      " 2D)                                                             \n",
      "                                                                 \n",
      " flatten_2 (Flatten)         (None, 20412)             0         \n",
      "                                                                 \n",
      " dense_4 (Dense)             (None, 128)               2612864   \n",
      "                                                                 \n",
      " dense_5 (Dense)             (None, 10)                1290      \n",
      "                                                                 \n",
      "=================================================================\n",
      "Total params: 2,614,434\n",
      "Trainable params: 2,614,434\n",
      "Non-trainable params: 0\n",
      "_________________________________________________________________\n"
     ]
    }
   ],
   "source": [
    "model_l2.summary()"
   ]
  },
  {
   "cell_type": "markdown",
   "metadata": {},
   "source": [
    "##  Model L2 Training "
   ]
  },
  {
   "cell_type": "code",
   "execution_count": 53,
   "metadata": {},
   "outputs": [],
   "source": [
    "early_stop = tf.keras.callbacks.EarlyStopping(monitor=\"val_loss\", mode=\"min\", verbose=1, patience=5,\n",
    "                                           restore_best_weights=True)"
   ]
  },
  {
   "cell_type": "code",
   "execution_count": 54,
   "metadata": {},
   "outputs": [
    {
     "name": "stdout",
     "output_type": "stream",
     "text": [
      "Epoch 1/30\n",
      "   8/1688 [..............................] - ETA: 27s - loss: 12.0599 - accuracy: 0.6211"
     ]
    },
    {
     "name": "stdout",
     "output_type": "stream",
     "text": [
      "1688/1688 [==============================] - 25s 15ms/step - loss: 12.0666 - accuracy: 0.6318 - val_loss: 12.0126 - val_accuracy: 0.6327\n",
      "Epoch 2/30\n",
      "1688/1688 [==============================] - 24s 14ms/step - loss: 12.0642 - accuracy: 0.6409 - val_loss: 11.9925 - val_accuracy: 0.6550\n",
      "Epoch 3/30\n",
      "1688/1688 [==============================] - 25s 15ms/step - loss: 12.0616 - accuracy: 0.6446 - val_loss: 12.0021 - val_accuracy: 0.6322\n",
      "Epoch 4/30\n",
      "1688/1688 [==============================] - 25s 15ms/step - loss: 12.0599 - accuracy: 0.6504 - val_loss: 11.9989 - val_accuracy: 0.6628\n",
      "Epoch 5/30\n",
      "1688/1688 [==============================] - 26s 15ms/step - loss: 12.0576 - accuracy: 0.6549 - val_loss: 11.9901 - val_accuracy: 0.6655\n",
      "Epoch 6/30\n",
      "1688/1688 [==============================] - 25s 15ms/step - loss: 12.0538 - accuracy: 0.6606 - val_loss: 11.9873 - val_accuracy: 0.6698\n",
      "Epoch 7/30\n",
      "1688/1688 [==============================] - 25s 15ms/step - loss: 12.0519 - accuracy: 0.6641 - val_loss: 11.9938 - val_accuracy: 0.6893\n",
      "Epoch 8/30\n",
      "1688/1688 [==============================] - 25s 15ms/step - loss: 12.0501 - accuracy: 0.6678 - val_loss: 11.9811 - val_accuracy: 0.6632\n",
      "Epoch 9/30\n",
      "1688/1688 [==============================] - 26s 15ms/step - loss: 12.0491 - accuracy: 0.6668 - val_loss: 12.0003 - val_accuracy: 0.6338\n",
      "Epoch 10/30\n",
      "1688/1688 [==============================] - 26s 16ms/step - loss: 12.0488 - accuracy: 0.6701 - val_loss: 12.0103 - val_accuracy: 0.6245\n",
      "Epoch 11/30\n",
      "1688/1688 [==============================] - 27s 16ms/step - loss: 12.0478 - accuracy: 0.6724 - val_loss: 12.0022 - val_accuracy: 0.6480\n",
      "Epoch 12/30\n",
      "1688/1688 [==============================] - 27s 16ms/step - loss: 12.0474 - accuracy: 0.6738 - val_loss: 12.0073 - val_accuracy: 0.6365\n",
      "Epoch 13/30\n",
      "1688/1688 [==============================] - 28s 17ms/step - loss: 12.0465 - accuracy: 0.6744 - val_loss: 11.9725 - val_accuracy: 0.6930\n",
      "Epoch 14/30\n",
      "1688/1688 [==============================] - 28s 17ms/step - loss: 12.0465 - accuracy: 0.6728 - val_loss: 11.9918 - val_accuracy: 0.6445\n",
      "Epoch 15/30\n",
      "1688/1688 [==============================] - 30s 17ms/step - loss: 12.0466 - accuracy: 0.6740 - val_loss: 12.0085 - val_accuracy: 0.6237\n",
      "Epoch 16/30\n",
      "1688/1688 [==============================] - 27s 16ms/step - loss: 12.0460 - accuracy: 0.6766 - val_loss: 11.9869 - val_accuracy: 0.6498\n",
      "Epoch 17/30\n",
      "1688/1688 [==============================] - 27s 16ms/step - loss: 12.0461 - accuracy: 0.6774 - val_loss: 11.9771 - val_accuracy: 0.6930\n",
      "Epoch 18/30\n",
      "1688/1688 [==============================] - ETA: 0s - loss: 12.0455 - accuracy: 0.6813Restoring model weights from the end of the best epoch: 13.\n",
      "1688/1688 [==============================] - 29s 17ms/step - loss: 12.0455 - accuracy: 0.6813 - val_loss: 11.9804 - val_accuracy: 0.6885\n",
      "Epoch 18: early stopping\n"
     ]
    }
   ],
   "source": [
    "model_l2_history = model_l1.fit(X_train_vs, y_train_vc, batch_size=32, epochs=30, callbacks=[early_stop], validation_data = (X_val_s, y_val_vc))"
   ]
  },
  {
   "cell_type": "code",
   "execution_count": 56,
   "metadata": {},
   "outputs": [
    {
     "data": {
      "text/html": [
       "<div>\n",
       "<style scoped>\n",
       "    .dataframe tbody tr th:only-of-type {\n",
       "        vertical-align: middle;\n",
       "    }\n",
       "\n",
       "    .dataframe tbody tr th {\n",
       "        vertical-align: top;\n",
       "    }\n",
       "\n",
       "    .dataframe thead th {\n",
       "        text-align: right;\n",
       "    }\n",
       "</style>\n",
       "<table border=\"1\" class=\"dataframe\">\n",
       "  <thead>\n",
       "    <tr style=\"text-align: right;\">\n",
       "      <th></th>\n",
       "      <th>loss</th>\n",
       "      <th>accuracy</th>\n",
       "      <th>val_loss</th>\n",
       "      <th>val_accuracy</th>\n",
       "    </tr>\n",
       "  </thead>\n",
       "  <tbody>\n",
       "    <tr>\n",
       "      <th>0</th>\n",
       "      <td>12.066643</td>\n",
       "      <td>0.631833</td>\n",
       "      <td>12.012641</td>\n",
       "      <td>0.632667</td>\n",
       "    </tr>\n",
       "    <tr>\n",
       "      <th>1</th>\n",
       "      <td>12.064165</td>\n",
       "      <td>0.640944</td>\n",
       "      <td>11.992537</td>\n",
       "      <td>0.655000</td>\n",
       "    </tr>\n",
       "    <tr>\n",
       "      <th>2</th>\n",
       "      <td>12.061591</td>\n",
       "      <td>0.644648</td>\n",
       "      <td>12.002132</td>\n",
       "      <td>0.632167</td>\n",
       "    </tr>\n",
       "    <tr>\n",
       "      <th>3</th>\n",
       "      <td>12.059912</td>\n",
       "      <td>0.650370</td>\n",
       "      <td>11.998899</td>\n",
       "      <td>0.662833</td>\n",
       "    </tr>\n",
       "    <tr>\n",
       "      <th>4</th>\n",
       "      <td>12.057601</td>\n",
       "      <td>0.654907</td>\n",
       "      <td>11.990128</td>\n",
       "      <td>0.665500</td>\n",
       "    </tr>\n",
       "  </tbody>\n",
       "</table>\n",
       "</div>"
      ],
      "text/plain": [
       "        loss  accuracy   val_loss  val_accuracy\n",
       "0  12.066643  0.631833  12.012641      0.632667\n",
       "1  12.064165  0.640944  11.992537      0.655000\n",
       "2  12.061591  0.644648  12.002132      0.632167\n",
       "3  12.059912  0.650370  11.998899      0.662833\n",
       "4  12.057601  0.654907  11.990128      0.665500"
      ]
     },
     "execution_count": 56,
     "metadata": {},
     "output_type": "execute_result"
    }
   ],
   "source": [
    "summary_model_l2 = pd.DataFrame(model_l2_history.history)\n",
    "summary_model_l2.head()"
   ]
  },
  {
   "cell_type": "code",
   "execution_count": 57,
   "metadata": {},
   "outputs": [
    {
     "name": "stdout",
     "output_type": "stream",
     "text": [
      "loss:  0.9768497943878174\n",
      "accuracy 0.1834000051021576\n"
     ]
    }
   ],
   "source": [
    "loss, accuracy = model_l2.evaluate(X_test_s, y_test_c, verbose=0)\n",
    "loss_l2= print(\"loss: \", loss)\n",
    "accuracy_l2= print('accuracy',accuracy) \n"
   ]
  },
  {
   "cell_type": "markdown",
   "metadata": {},
   "source": [
    "**TASK 7: Plot values of metrics you used in your model.**"
   ]
  },
  {
   "cell_type": "code",
   "execution_count": 58,
   "metadata": {},
   "outputs": [
    {
     "data": {
      "image/png": "[encoded data removed]",
      "text/plain": [
       "<Figure size 640x480 with 1 Axes>"
      ]
     },
     "metadata": {},
     "output_type": "display_data"
    }
   ],
   "source": [
    "loss_df_model_l2 = pd.DataFrame(model_l1_history.history)\n",
    "loss_df_model_l2.plot();"
   ]
  },
  {
   "cell_type": "markdown",
   "metadata": {},
   "source": [
    "## Model droupout"
   ]
  },
  {
   "cell_type": "code",
   "execution_count": 59,
   "metadata": {},
   "outputs": [],
   "source": [
    "model_dropout = Sequential(\n",
    "    [\n",
    "        Conv2D(filters=28, kernel_size=(3, 3), input_shape=(28, 28, 1), activation=\"relu\", padding=\"same\"), \n",
    "        MaxPool2D(pool_size=(2, 2), strides = (1, 1)),\n",
    "\n",
    "        Flatten(),\n",
    "        Dropout(0.5),\n",
    "\n",
    "        Dense(128,activation='relu'),\n",
    "        Dense(10,activation='softmax')\n",
    "       \n",
    "    ]\n",
    ")\n",
    "model_dropout.compile(loss=\"binary_crossentropy\", optimizer=\"rmsprop\", metrics=[\"accuracy\"]\n",
    ")"
   ]
  },
  {
   "cell_type": "code",
   "execution_count": 60,
   "metadata": {},
   "outputs": [
    {
     "name": "stdout",
     "output_type": "stream",
     "text": [
      "Model: \"sequential_3\"\n",
      "_________________________________________________________________\n",
      " Layer (type)                Output Shape              Param #   \n",
      "=================================================================\n",
      " conv2d_3 (Conv2D)           (None, 28, 28, 28)        280       \n",
      "                                                                 \n",
      " max_pooling2d_3 (MaxPooling  (None, 27, 27, 28)       0         \n",
      " 2D)                                                             \n",
      "                                                                 \n",
      " flatten_3 (Flatten)         (None, 20412)             0         \n",
      "                                                                 \n",
      " dropout (Dropout)           (None, 20412)             0         \n",
      "                                                                 \n",
      " dense_6 (Dense)             (None, 128)               2612864   \n",
      "                                                                 \n",
      " dense_7 (Dense)             (None, 10)                1290      \n",
      "                                                                 \n",
      "=================================================================\n",
      "Total params: 2,614,434\n",
      "Trainable params: 2,614,434\n",
      "Non-trainable params: 0\n",
      "_________________________________________________________________\n"
     ]
    }
   ],
   "source": [
    "model_dropout.summary()"
   ]
  },
  {
   "cell_type": "markdown",
   "metadata": {},
   "source": [
    "##  Model dropout Training "
   ]
  },
  {
   "cell_type": "code",
   "execution_count": 61,
   "metadata": {},
   "outputs": [],
   "source": [
    "early_stop = tf.keras.callbacks.EarlyStopping(monitor=\"val_loss\", mode=\"min\", verbose=1, patience=5,\n",
    "                                           restore_best_weights=True)"
   ]
  },
  {
   "cell_type": "code",
   "execution_count": 62,
   "metadata": {},
   "outputs": [
    {
     "name": "stdout",
     "output_type": "stream",
     "text": [
      "Epoch 1/30\n"
     ]
    },
    {
     "name": "stdout",
     "output_type": "stream",
     "text": [
      "1688/1688 [==============================] - 24s 14ms/step - loss: 0.0792 - accuracy: 0.8453 - val_loss: 0.0596 - val_accuracy: 0.8818\n",
      "Epoch 2/30\n",
      "1688/1688 [==============================] - 22s 13ms/step - loss: 0.0551 - accuracy: 0.8924 - val_loss: 0.0495 - val_accuracy: 0.8995\n",
      "Epoch 3/30\n",
      "1688/1688 [==============================] - 22s 13ms/step - loss: 0.0486 - accuracy: 0.9042 - val_loss: 0.0468 - val_accuracy: 0.9060\n",
      "Epoch 4/30\n",
      "1688/1688 [==============================] - 24s 14ms/step - loss: 0.0444 - accuracy: 0.9129 - val_loss: 0.0481 - val_accuracy: 0.9042\n",
      "Epoch 5/30\n",
      "1688/1688 [==============================] - 26s 15ms/step - loss: 0.0418 - accuracy: 0.9189 - val_loss: 0.0456 - val_accuracy: 0.9113\n",
      "Epoch 6/30\n",
      "1688/1688 [==============================] - 29s 17ms/step - loss: 0.0392 - accuracy: 0.9239 - val_loss: 0.0473 - val_accuracy: 0.9075\n",
      "Epoch 7/30\n",
      "1688/1688 [==============================] - 32s 19ms/step - loss: 0.0374 - accuracy: 0.9286 - val_loss: 0.0461 - val_accuracy: 0.9105\n",
      "Epoch 8/30\n",
      "1688/1688 [==============================] - 34s 20ms/step - loss: 0.0356 - accuracy: 0.9324 - val_loss: 0.0446 - val_accuracy: 0.9137\n",
      "Epoch 9/30\n",
      "1688/1688 [==============================] - 34s 20ms/step - loss: 0.0338 - accuracy: 0.9365 - val_loss: 0.0471 - val_accuracy: 0.9130\n",
      "Epoch 10/30\n",
      "1688/1688 [==============================] - 34s 20ms/step - loss: 0.0328 - accuracy: 0.9398 - val_loss: 0.0438 - val_accuracy: 0.9147\n",
      "Epoch 11/30\n",
      "1688/1688 [==============================] - 33s 20ms/step - loss: 0.0317 - accuracy: 0.9417 - val_loss: 0.0456 - val_accuracy: 0.9112\n",
      "Epoch 12/30\n",
      "1688/1688 [==============================] - 33s 20ms/step - loss: 0.0304 - accuracy: 0.9447 - val_loss: 0.0449 - val_accuracy: 0.9140\n",
      "Epoch 13/30\n",
      "1688/1688 [==============================] - 34s 20ms/step - loss: 0.0289 - accuracy: 0.9486 - val_loss: 0.0461 - val_accuracy: 0.9173\n",
      "Epoch 14/30\n",
      "1688/1688 [==============================] - 35s 21ms/step - loss: 0.0280 - accuracy: 0.9506 - val_loss: 0.0449 - val_accuracy: 0.9182\n",
      "Epoch 15/30\n",
      "1687/1688 [============================>.] - ETA: 0s - loss: 0.0272 - accuracy: 0.9526Restoring model weights from the end of the best epoch: 10.\n",
      "1688/1688 [==============================] - 35s 21ms/step - loss: 0.0272 - accuracy: 0.9526 - val_loss: 0.0474 - val_accuracy: 0.9177\n",
      "Epoch 15: early stopping\n"
     ]
    }
   ],
   "source": [
    "model_dropout_history = model_dropout.fit(X_train_vs, y_train_vc, batch_size=32, epochs=30, callbacks=[early_stop], validation_data = (X_val_s, y_val_vc))"
   ]
  },
  {
   "cell_type": "code",
   "execution_count": 63,
   "metadata": {},
   "outputs": [
    {
     "data": {
      "text/html": [
       "<div>\n",
       "<style scoped>\n",
       "    .dataframe tbody tr th:only-of-type {\n",
       "        vertical-align: middle;\n",
       "    }\n",
       "\n",
       "    .dataframe tbody tr th {\n",
       "        vertical-align: top;\n",
       "    }\n",
       "\n",
       "    .dataframe thead th {\n",
       "        text-align: right;\n",
       "    }\n",
       "</style>\n",
       "<table border=\"1\" class=\"dataframe\">\n",
       "  <thead>\n",
       "    <tr style=\"text-align: right;\">\n",
       "      <th></th>\n",
       "      <th>loss</th>\n",
       "      <th>accuracy</th>\n",
       "      <th>val_loss</th>\n",
       "      <th>val_accuracy</th>\n",
       "    </tr>\n",
       "  </thead>\n",
       "  <tbody>\n",
       "    <tr>\n",
       "      <th>0</th>\n",
       "      <td>0.079174</td>\n",
       "      <td>0.845315</td>\n",
       "      <td>0.059584</td>\n",
       "      <td>0.881833</td>\n",
       "    </tr>\n",
       "    <tr>\n",
       "      <th>1</th>\n",
       "      <td>0.055119</td>\n",
       "      <td>0.892370</td>\n",
       "      <td>0.049473</td>\n",
       "      <td>0.899500</td>\n",
       "    </tr>\n",
       "    <tr>\n",
       "      <th>2</th>\n",
       "      <td>0.048614</td>\n",
       "      <td>0.904222</td>\n",
       "      <td>0.046757</td>\n",
       "      <td>0.906000</td>\n",
       "    </tr>\n",
       "    <tr>\n",
       "      <th>3</th>\n",
       "      <td>0.044448</td>\n",
       "      <td>0.912870</td>\n",
       "      <td>0.048060</td>\n",
       "      <td>0.904167</td>\n",
       "    </tr>\n",
       "    <tr>\n",
       "      <th>4</th>\n",
       "      <td>0.041767</td>\n",
       "      <td>0.918870</td>\n",
       "      <td>0.045632</td>\n",
       "      <td>0.911333</td>\n",
       "    </tr>\n",
       "  </tbody>\n",
       "</table>\n",
       "</div>"
      ],
      "text/plain": [
       "       loss  accuracy  val_loss  val_accuracy\n",
       "0  0.079174  0.845315  0.059584      0.881833\n",
       "1  0.055119  0.892370  0.049473      0.899500\n",
       "2  0.048614  0.904222  0.046757      0.906000\n",
       "3  0.044448  0.912870  0.048060      0.904167\n",
       "4  0.041767  0.918870  0.045632      0.911333"
      ]
     },
     "execution_count": 63,
     "metadata": {},
     "output_type": "execute_result"
    }
   ],
   "source": [
    "summary_model_dropout = pd.DataFrame(model_dropout_history.history)\n",
    "summary_model_dropout.head()"
   ]
  },
  {
   "cell_type": "code",
   "execution_count": 64,
   "metadata": {},
   "outputs": [
    {
     "name": "stdout",
     "output_type": "stream",
     "text": [
      "loss:  0.046753302216529846\n",
      "accuracy 0.9129999876022339\n"
     ]
    }
   ],
   "source": [
    "loss, accuracy = model_dropout.evaluate(X_test_s, y_test_c, verbose=0)\n",
    "loss_drout= print(\"loss: \", loss)\n",
    "accuracy_dropout= print('accuracy',accuracy) \n"
   ]
  },
  {
   "cell_type": "markdown",
   "metadata": {},
   "source": [
    "**.TASK 7: Plot values of metrics you used in your model.**"
   ]
  },
  {
   "cell_type": "code",
   "execution_count": 65,
   "metadata": {},
   "outputs": [
    {
     "data": {
      "image/png": "[encoded data removed]",
      "text/plain": [
       "<Figure size 640x480 with 1 Axes>"
      ]
     },
     "metadata": {},
     "output_type": "display_data"
    }
   ],
   "source": [
    "loss_df_model_dropout = pd.DataFrame(model_dropout_history.history)\n",
    "loss_df_model_dropout.plot();"
   ]
  },
  {
   "cell_type": "markdown",
   "metadata": {},
   "source": [
    "## Model layer"
   ]
  },
  {
   "cell_type": "code",
   "execution_count": 66,
   "metadata": {},
   "outputs": [],
   "source": [
    "model_layer = Sequential(\n",
    "    [\n",
    "        Conv2D(filters=28, kernel_size=(3, 3), input_shape=(28, 28, 1), activation=\"relu\", padding=\"same\"), \n",
    "\n",
    "        MaxPool2D(pool_size=(2, 2), strides = (1, 1)),\n",
    "\n",
    "        Flatten(),\n",
    "\n",
    "        Dense(128,activation='relu'),\n",
    "\n",
    "        Dense(64,activation='relu'),\n",
    "        \n",
    "        Dense(10,activation='softmax')\n",
    "\n",
    "    ]\n",
    ")\n",
    "model_layer.compile(loss=\"binary_crossentropy\", optimizer=\"rmsprop\", metrics=[\"accuracy\"]\n",
    ")"
   ]
  },
  {
   "cell_type": "code",
   "execution_count": 67,
   "metadata": {},
   "outputs": [
    {
     "name": "stdout",
     "output_type": "stream",
     "text": [
      "Model: \"sequential_4\"\n",
      "_________________________________________________________________\n",
      " Layer (type)                Output Shape              Param #   \n",
      "=================================================================\n",
      " conv2d_4 (Conv2D)           (None, 28, 28, 28)        280       \n",
      "                                                                 \n",
      " max_pooling2d_4 (MaxPooling  (None, 27, 27, 28)       0         \n",
      " 2D)                                                             \n",
      "                                                                 \n",
      " flatten_4 (Flatten)         (None, 20412)             0         \n",
      "                                                                 \n",
      " dense_8 (Dense)             (None, 128)               2612864   \n",
      "                                                                 \n",
      " dense_9 (Dense)             (None, 64)                8256      \n",
      "                                                                 \n",
      " dense_10 (Dense)            (None, 10)                650       \n",
      "                                                                 \n",
      "=================================================================\n",
      "Total params: 2,622,050\n",
      "Trainable params: 2,622,050\n",
      "Non-trainable params: 0\n",
      "_________________________________________________________________\n"
     ]
    }
   ],
   "source": [
    "model_layer.summary()\n"
   ]
  },
  {
   "cell_type": "markdown",
   "metadata": {},
   "source": [
    "##  Model layer Training "
   ]
  },
  {
   "cell_type": "code",
   "execution_count": 68,
   "metadata": {},
   "outputs": [],
   "source": [
    "early_stop = tf.keras.callbacks.EarlyStopping(monitor=\"val_loss\", mode=\"min\", verbose=1, patience=5,\n",
    "                                           restore_best_weights=True)"
   ]
  },
  {
   "cell_type": "code",
   "execution_count": 69,
   "metadata": {},
   "outputs": [
    {
     "name": "stdout",
     "output_type": "stream",
     "text": [
      "Epoch 1/30\n"
     ]
    },
    {
     "name": "stdout",
     "output_type": "stream",
     "text": [
      "1688/1688 [==============================] - 22s 13ms/step - loss: 0.0812 - accuracy: 0.8376 - val_loss: 0.0612 - val_accuracy: 0.8757\n",
      "Epoch 2/30\n",
      "1688/1688 [==============================] - 23s 14ms/step - loss: 0.0522 - accuracy: 0.8959 - val_loss: 0.0489 - val_accuracy: 0.8992\n",
      "Epoch 3/30\n",
      "1688/1688 [==============================] - 24s 14ms/step - loss: 0.0443 - accuracy: 0.9114 - val_loss: 0.0544 - val_accuracy: 0.8873\n",
      "Epoch 4/30\n",
      "1688/1688 [==============================] - 26s 15ms/step - loss: 0.0395 - accuracy: 0.9211 - val_loss: 0.0427 - val_accuracy: 0.9125\n",
      "Epoch 5/30\n",
      "1688/1688 [==============================] - 28s 17ms/step - loss: 0.0349 - accuracy: 0.9313 - val_loss: 0.0481 - val_accuracy: 0.9088\n",
      "Epoch 6/30\n",
      "1688/1688 [==============================] - 33s 19ms/step - loss: 0.0317 - accuracy: 0.9381 - val_loss: 0.0473 - val_accuracy: 0.9065\n",
      "Epoch 7/30\n",
      "1688/1688 [==============================] - 32s 19ms/step - loss: 0.0284 - accuracy: 0.9460 - val_loss: 0.0554 - val_accuracy: 0.8955\n",
      "Epoch 8/30\n",
      "1688/1688 [==============================] - 32s 19ms/step - loss: 0.0254 - accuracy: 0.9529 - val_loss: 0.0568 - val_accuracy: 0.9095\n",
      "Epoch 9/30\n",
      "1688/1688 [==============================] - ETA: 0s - loss: 0.0234 - accuracy: 0.9555Restoring model weights from the end of the best epoch: 4.\n",
      "1688/1688 [==============================] - 33s 19ms/step - loss: 0.0234 - accuracy: 0.9555 - val_loss: 0.0477 - val_accuracy: 0.9092\n",
      "Epoch 9: early stopping\n"
     ]
    }
   ],
   "source": [
    "model_layer_history = model_layer.fit(X_train_vs, y_train_vc, batch_size=32, epochs=30, callbacks=[early_stop], validation_data = (X_val_s, y_val_vc))"
   ]
  },
  {
   "cell_type": "code",
   "execution_count": 70,
   "metadata": {},
   "outputs": [
    {
     "data": {
      "text/html": [
       "<div>\n",
       "<style scoped>\n",
       "    .dataframe tbody tr th:only-of-type {\n",
       "        vertical-align: middle;\n",
       "    }\n",
       "\n",
       "    .dataframe tbody tr th {\n",
       "        vertical-align: top;\n",
       "    }\n",
       "\n",
       "    .dataframe thead th {\n",
       "        text-align: right;\n",
       "    }\n",
       "</style>\n",
       "<table border=\"1\" class=\"dataframe\">\n",
       "  <thead>\n",
       "    <tr style=\"text-align: right;\">\n",
       "      <th></th>\n",
       "      <th>loss</th>\n",
       "      <th>accuracy</th>\n",
       "      <th>val_loss</th>\n",
       "      <th>val_accuracy</th>\n",
       "    </tr>\n",
       "  </thead>\n",
       "  <tbody>\n",
       "    <tr>\n",
       "      <th>0</th>\n",
       "      <td>0.081207</td>\n",
       "      <td>0.837611</td>\n",
       "      <td>0.061153</td>\n",
       "      <td>0.875667</td>\n",
       "    </tr>\n",
       "    <tr>\n",
       "      <th>1</th>\n",
       "      <td>0.052234</td>\n",
       "      <td>0.895870</td>\n",
       "      <td>0.048922</td>\n",
       "      <td>0.899167</td>\n",
       "    </tr>\n",
       "    <tr>\n",
       "      <th>2</th>\n",
       "      <td>0.044303</td>\n",
       "      <td>0.911352</td>\n",
       "      <td>0.054415</td>\n",
       "      <td>0.887333</td>\n",
       "    </tr>\n",
       "    <tr>\n",
       "      <th>3</th>\n",
       "      <td>0.039476</td>\n",
       "      <td>0.921093</td>\n",
       "      <td>0.042662</td>\n",
       "      <td>0.912500</td>\n",
       "    </tr>\n",
       "    <tr>\n",
       "      <th>4</th>\n",
       "      <td>0.034876</td>\n",
       "      <td>0.931278</td>\n",
       "      <td>0.048083</td>\n",
       "      <td>0.908833</td>\n",
       "    </tr>\n",
       "  </tbody>\n",
       "</table>\n",
       "</div>"
      ],
      "text/plain": [
       "       loss  accuracy  val_loss  val_accuracy\n",
       "0  0.081207  0.837611  0.061153      0.875667\n",
       "1  0.052234  0.895870  0.048922      0.899167\n",
       "2  0.044303  0.911352  0.054415      0.887333\n",
       "3  0.039476  0.921093  0.042662      0.912500\n",
       "4  0.034876  0.931278  0.048083      0.908833"
      ]
     },
     "execution_count": 70,
     "metadata": {},
     "output_type": "execute_result"
    }
   ],
   "source": [
    "summary_model_layer = pd.DataFrame(model_layer.history.history)\n",
    "summary_model_layer.head()"
   ]
  },
  {
   "cell_type": "code",
   "execution_count": 71,
   "metadata": {},
   "outputs": [
    {
     "name": "stdout",
     "output_type": "stream",
     "text": [
      "loss:  0.04617813229560852\n",
      "accuracy 0.9067999720573425\n"
     ]
    }
   ],
   "source": [
    "loss, accuracy = model_layer.evaluate(X_test_s, y_test_c, verbose=0)\n",
    "loss_layer= print(\"loss: \", loss)\n",
    "accuracy_layer= print('accuracy',accuracy) \n",
    "\n"
   ]
  },
  {
   "cell_type": "markdown",
   "metadata": {},
   "source": [
    "**TASK 7: Plot values of metrics you used in your model.**"
   ]
  },
  {
   "cell_type": "code",
   "execution_count": 72,
   "metadata": {},
   "outputs": [
    {
     "data": {
      "image/png": "[encoded data removed]",
      "text/plain": [
       "<Figure size 640x480 with 1 Axes>"
      ]
     },
     "metadata": {},
     "output_type": "display_data"
    }
   ],
   "source": [
    "loss_df_model_layer = pd.DataFrame(model_layer_history.history)\n",
    "loss_df_model_layer.plot();"
   ]
  },
  {
   "cell_type": "markdown",
   "metadata": {},
   "source": [
    "Final model"
   ]
  },
  {
   "cell_type": "code",
   "execution_count": 73,
   "metadata": {},
   "outputs": [],
   "source": [
    "model_final = Sequential(\n",
    "    [\n",
    "        Conv2D(filters=28, kernel_size=(3, 3), input_shape=(28, 28, 1), activation=\"relu\", padding=\"same\"), \n",
    "\n",
    "        MaxPool2D(pool_size=(2, 2), strides = (1, 1)),\n",
    "\n",
    "        Flatten(),\n",
    "        Dropout(0.5),\n",
    "\n",
    "        Dense(128,activation='relu', kernel_regularizer=tf.keras.regularizers.l2(0.001)),\n",
    "\n",
    "        Dense(64,activation='relu', kernel_regularizer=tf.keras.regularizers.l2(0.001)),\n",
    "        \n",
    "        Dense(10,activation='softmax')\n",
    "        \n",
    "    ]\n",
    ")\n",
    "model_final.compile(loss=\"binary_crossentropy\", optimizer=\"rmsprop\", metrics=[\"accuracy\"]\n",
    ")"
   ]
  },
  {
   "cell_type": "code",
   "execution_count": 74,
   "metadata": {},
   "outputs": [
    {
     "name": "stdout",
     "output_type": "stream",
     "text": [
      "Model: \"sequential_5\"\n",
      "_________________________________________________________________\n",
      " Layer (type)                Output Shape              Param #   \n",
      "=================================================================\n",
      " conv2d_5 (Conv2D)           (None, 28, 28, 28)        280       \n",
      "                                                                 \n",
      " max_pooling2d_5 (MaxPooling  (None, 27, 27, 28)       0         \n",
      " 2D)                                                             \n",
      "                                                                 \n",
      " flatten_5 (Flatten)         (None, 20412)             0         \n",
      "                                                                 \n",
      " dropout_1 (Dropout)         (None, 20412)             0         \n",
      "                                                                 \n",
      " dense_11 (Dense)            (None, 128)               2612864   \n",
      "                                                                 \n",
      " dense_12 (Dense)            (None, 64)                8256      \n",
      "                                                                 \n",
      " dense_13 (Dense)            (None, 10)                650       \n",
      "                                                                 \n",
      "=================================================================\n",
      "Total params: 2,622,050\n",
      "Trainable params: 2,622,050\n",
      "Non-trainable params: 0\n",
      "_________________________________________________________________\n"
     ]
    }
   ],
   "source": [
    "model_final.summary()\n"
   ]
  },
  {
   "cell_type": "markdown",
   "metadata": {},
   "source": [
    "##  Model final Training "
   ]
  },
  {
   "cell_type": "code",
   "execution_count": 75,
   "metadata": {},
   "outputs": [],
   "source": [
    "early_stop = tf.keras.callbacks.EarlyStopping(monitor=\"val_loss\", mode=\"min\", verbose=1, patience=5,\n",
    "                                           restore_best_weights=True)"
   ]
  },
  {
   "cell_type": "code",
   "execution_count": 76,
   "metadata": {},
   "outputs": [
    {
     "name": "stdout",
     "output_type": "stream",
     "text": [
      "Epoch 1/30\n"
     ]
    },
    {
     "name": "stdout",
     "output_type": "stream",
     "text": [
      "1688/1688 [==============================] - 41s 24ms/step - loss: 0.1605 - accuracy: 0.7901 - val_loss: 0.1233 - val_accuracy: 0.8183\n",
      "Epoch 2/30\n",
      "1688/1688 [==============================] - 40s 24ms/step - loss: 0.1121 - accuracy: 0.8443 - val_loss: 0.1113 - val_accuracy: 0.8260\n",
      "Epoch 3/30\n",
      "1688/1688 [==============================] - 40s 24ms/step - loss: 0.1020 - accuracy: 0.8553 - val_loss: 0.1045 - val_accuracy: 0.8417\n",
      "Epoch 4/30\n",
      "1688/1688 [==============================] - 41s 24ms/step - loss: 0.0969 - accuracy: 0.8616 - val_loss: 0.1031 - val_accuracy: 0.8365\n",
      "Epoch 5/30\n",
      "1688/1688 [==============================] - 41s 24ms/step - loss: 0.0938 - accuracy: 0.8627 - val_loss: 0.1201 - val_accuracy: 0.8040\n",
      "Epoch 6/30\n",
      "1688/1688 [==============================] - 41s 24ms/step - loss: 0.0919 - accuracy: 0.8656 - val_loss: 0.0970 - val_accuracy: 0.8502\n",
      "Epoch 7/30\n",
      "1688/1688 [==============================] - 42s 25ms/step - loss: 0.0903 - accuracy: 0.8686 - val_loss: 0.0843 - val_accuracy: 0.8855\n",
      "Epoch 8/30\n",
      "1688/1688 [==============================] - 41s 25ms/step - loss: 0.0893 - accuracy: 0.8694 - val_loss: 0.0853 - val_accuracy: 0.8763\n",
      "Epoch 9/30\n",
      "1688/1688 [==============================] - 41s 24ms/step - loss: 0.0881 - accuracy: 0.8706 - val_loss: 0.0835 - val_accuracy: 0.8827\n",
      "Epoch 10/30\n",
      "1688/1688 [==============================] - 41s 24ms/step - loss: 0.0871 - accuracy: 0.8725 - val_loss: 0.0843 - val_accuracy: 0.8805\n",
      "Epoch 11/30\n",
      "1688/1688 [==============================] - 40s 24ms/step - loss: 0.0865 - accuracy: 0.8728 - val_loss: 0.0869 - val_accuracy: 0.8725\n",
      "Epoch 12/30\n",
      "1688/1688 [==============================] - 42s 25ms/step - loss: 0.0859 - accuracy: 0.8746 - val_loss: 0.0922 - val_accuracy: 0.8580\n",
      "Epoch 13/30\n",
      "1688/1688 [==============================] - 710s 421ms/step - loss: 0.0855 - accuracy: 0.8752 - val_loss: 0.0876 - val_accuracy: 0.8690\n",
      "Epoch 14/30\n",
      "1688/1688 [==============================] - 40s 24ms/step - loss: 0.0853 - accuracy: 0.8742 - val_loss: 0.0821 - val_accuracy: 0.8758\n",
      "Epoch 15/30\n",
      "1688/1688 [==============================] - 40s 24ms/step - loss: 0.0849 - accuracy: 0.8752 - val_loss: 0.0830 - val_accuracy: 0.8765\n",
      "Epoch 16/30\n",
      "1688/1688 [==============================] - 40s 24ms/step - loss: 0.0844 - accuracy: 0.8766 - val_loss: 0.0815 - val_accuracy: 0.8810\n",
      "Epoch 17/30\n",
      "1688/1688 [==============================] - 40s 24ms/step - loss: 0.0848 - accuracy: 0.8761 - val_loss: 0.0917 - val_accuracy: 0.8538\n",
      "Epoch 18/30\n",
      "1688/1688 [==============================] - 40s 24ms/step - loss: 0.0841 - accuracy: 0.8775 - val_loss: 0.0947 - val_accuracy: 0.8510\n",
      "Epoch 19/30\n",
      "1688/1688 [==============================] - 40s 24ms/step - loss: 0.0836 - accuracy: 0.8782 - val_loss: 0.0807 - val_accuracy: 0.8843\n",
      "Epoch 20/30\n",
      "1688/1688 [==============================] - 41s 24ms/step - loss: 0.0831 - accuracy: 0.8779 - val_loss: 0.0780 - val_accuracy: 0.8887\n",
      "Epoch 21/30\n",
      "1688/1688 [==============================] - 41s 24ms/step - loss: 0.0829 - accuracy: 0.8785 - val_loss: 0.0810 - val_accuracy: 0.8800\n",
      "Epoch 22/30\n",
      "1688/1688 [==============================] - 40s 24ms/step - loss: 0.0829 - accuracy: 0.8789 - val_loss: 0.0815 - val_accuracy: 0.8798\n",
      "Epoch 23/30\n",
      "1688/1688 [==============================] - 41s 24ms/step - loss: 0.0828 - accuracy: 0.8788 - val_loss: 0.0829 - val_accuracy: 0.8730\n",
      "Epoch 24/30\n",
      "1688/1688 [==============================] - 62s 37ms/step - loss: 0.0827 - accuracy: 0.8795 - val_loss: 0.0873 - val_accuracy: 0.8737\n",
      "Epoch 25/30\n",
      "1687/1688 [============================>.] - ETA: 0s - loss: 0.0824 - accuracy: 0.8805Restoring model weights from the end of the best epoch: 20.\n",
      "1688/1688 [==============================] - 34s 20ms/step - loss: 0.0824 - accuracy: 0.8805 - val_loss: 0.0874 - val_accuracy: 0.8638\n",
      "Epoch 25: early stopping\n"
     ]
    }
   ],
   "source": [
    "model_final_history = model_final.fit(X_train_vs, y_train_vc, batch_size=32, epochs=30, callbacks=[early_stop], validation_data = (X_val_s, y_val_vc))"
   ]
  },
  {
   "cell_type": "code",
   "execution_count": 77,
   "metadata": {},
   "outputs": [
    {
     "data": {
      "text/html": [
       "<div>\n",
       "<style scoped>\n",
       "    .dataframe tbody tr th:only-of-type {\n",
       "        vertical-align: middle;\n",
       "    }\n",
       "\n",
       "    .dataframe tbody tr th {\n",
       "        vertical-align: top;\n",
       "    }\n",
       "\n",
       "    .dataframe thead th {\n",
       "        text-align: right;\n",
       "    }\n",
       "</style>\n",
       "<table border=\"1\" class=\"dataframe\">\n",
       "  <thead>\n",
       "    <tr style=\"text-align: right;\">\n",
       "      <th></th>\n",
       "      <th>loss</th>\n",
       "      <th>accuracy</th>\n",
       "      <th>val_loss</th>\n",
       "      <th>val_accuracy</th>\n",
       "    </tr>\n",
       "  </thead>\n",
       "  <tbody>\n",
       "    <tr>\n",
       "      <th>0</th>\n",
       "      <td>0.160518</td>\n",
       "      <td>0.790130</td>\n",
       "      <td>0.123329</td>\n",
       "      <td>0.818333</td>\n",
       "    </tr>\n",
       "    <tr>\n",
       "      <th>1</th>\n",
       "      <td>0.112086</td>\n",
       "      <td>0.844259</td>\n",
       "      <td>0.111275</td>\n",
       "      <td>0.826000</td>\n",
       "    </tr>\n",
       "    <tr>\n",
       "      <th>2</th>\n",
       "      <td>0.101975</td>\n",
       "      <td>0.855259</td>\n",
       "      <td>0.104527</td>\n",
       "      <td>0.841667</td>\n",
       "    </tr>\n",
       "    <tr>\n",
       "      <th>3</th>\n",
       "      <td>0.096850</td>\n",
       "      <td>0.861593</td>\n",
       "      <td>0.103096</td>\n",
       "      <td>0.836500</td>\n",
       "    </tr>\n",
       "    <tr>\n",
       "      <th>4</th>\n",
       "      <td>0.093844</td>\n",
       "      <td>0.862704</td>\n",
       "      <td>0.120140</td>\n",
       "      <td>0.804000</td>\n",
       "    </tr>\n",
       "  </tbody>\n",
       "</table>\n",
       "</div>"
      ],
      "text/plain": [
       "       loss  accuracy  val_loss  val_accuracy\n",
       "0  0.160518  0.790130  0.123329      0.818333\n",
       "1  0.112086  0.844259  0.111275      0.826000\n",
       "2  0.101975  0.855259  0.104527      0.841667\n",
       "3  0.096850  0.861593  0.103096      0.836500\n",
       "4  0.093844  0.862704  0.120140      0.804000"
      ]
     },
     "execution_count": 77,
     "metadata": {},
     "output_type": "execute_result"
    }
   ],
   "source": [
    "summary_model_final = pd.DataFrame(model_final.history.history)\n",
    "summary_model_final.head()"
   ]
  },
  {
   "cell_type": "code",
   "execution_count": 78,
   "metadata": {},
   "outputs": [
    {
     "name": "stdout",
     "output_type": "stream",
     "text": [
      "loss:  0.08225970715284348\n",
      "accuracy 0.8813999891281128\n"
     ]
    }
   ],
   "source": [
    "loss, accuracy = model_final.evaluate(X_test_s, y_test_c, verbose=0)\n",
    "loss_final= print(\"loss: \", loss)\n",
    "accuracy_final = print('accuracy',accuracy) \n"
   ]
  },
  {
   "cell_type": "markdown",
   "metadata": {},
   "source": [
    "**TASK 7: Plot values of metrics you used in your model.**"
   ]
  },
  {
   "cell_type": "code",
   "execution_count": 79,
   "metadata": {},
   "outputs": [
    {
     "data": {
      "image/png": "[encoded data removed]",
      "text/plain": [
       "<Figure size 640x480 with 1 Axes>"
      ]
     },
     "metadata": {},
     "output_type": "display_data"
    }
   ],
   "source": [
    "loss_df_model_final = pd.DataFrame(model_final_history.history)\n",
    "loss_df_model_final.plot();"
   ]
  },
  {
   "cell_type": "markdown",
   "metadata": {},
   "source": [
    "## compare models "
   ]
  },
  {
   "cell_type": "code",
   "execution_count": 84,
   "metadata": {},
   "outputs": [],
   "source": [
    "m1= summary_model.mean().values\n",
    "m2= summary_model_l1.mean().values\n",
    "m3= summary_model_l2.mean().values\n",
    "m4= summary_model_dropout.mean().values\n",
    "m5= summary_model_layer.mean().values\n",
    "m6= summary_model_final.mean().values\n",
    "m1.head"
   ]
  },
  {
   "cell_type": "code",
   "execution_count": 88,
   "metadata": {},
   "outputs": [
    {
     "ename": "KeyError",
     "evalue": "'accuracy'",
     "output_type": "error",
     "traceback": [
      "\u001b[0;31m---------------------------------------------------------------------------\u001b[0m",
      "\u001b[0;31mKeyError\u001b[0m                                  Traceback (most recent call last)",
      "\u001b[0;32m/var/folders/ty/83kz_ly55_s0p2z66rgkfxxr0000gp/T/ipykernel_46015/2303335141.py\u001b[0m in \u001b[0;36m?\u001b[0;34m()\u001b[0m\n\u001b[1;32m     14\u001b[0m \u001b[0;34m\u001b[0m\u001b[0m\n\u001b[1;32m     15\u001b[0m \u001b[0;34m\u001b[0m\u001b[0m\n\u001b[1;32m     16\u001b[0m \u001b[0mplt\u001b[0m\u001b[0;34m.\u001b[0m\u001b[0mfigure\u001b[0m\u001b[0;34m(\u001b[0m\u001b[0mfigsize\u001b[0m\u001b[0;34m=\u001b[0m\u001b[0;34m(\u001b[0m\u001b[0;36m14\u001b[0m\u001b[0;34m,\u001b[0m \u001b[0;36m10\u001b[0m\u001b[0;34m)\u001b[0m\u001b[0;34m)\u001b[0m\u001b[0;34m\u001b[0m\u001b[0;34m\u001b[0m\u001b[0m\n\u001b[1;32m     17\u001b[0m \u001b[0mplt\u001b[0m\u001b[0;34m.\u001b[0m\u001b[0msubplot\u001b[0m\u001b[0;34m(\u001b[0m\u001b[0;36m311\u001b[0m\u001b[0;34m)\u001b[0m\u001b[0;34m\u001b[0m\u001b[0;34m\u001b[0m\u001b[0m\n\u001b[0;32m---> 18\u001b[0;31m \u001b[0mcompare\u001b[0m \u001b[0;34m=\u001b[0m \u001b[0mcompare\u001b[0m\u001b[0;34m.\u001b[0m\u001b[0msort_values\u001b[0m\u001b[0;34m(\u001b[0m\u001b[0mby\u001b[0m\u001b[0;34m=\u001b[0m\u001b[0;34m\"accuracy\"\u001b[0m\u001b[0;34m,\u001b[0m \u001b[0mascending\u001b[0m\u001b[0;34m=\u001b[0m\u001b[0;32mFalse\u001b[0m\u001b[0;34m)\u001b[0m\u001b[0;34m\u001b[0m\u001b[0;34m\u001b[0m\u001b[0m\n\u001b[0m\u001b[1;32m     19\u001b[0m \u001b[0max\u001b[0m \u001b[0;34m=\u001b[0m \u001b[0msns\u001b[0m\u001b[0;34m.\u001b[0m\u001b[0mbarplot\u001b[0m\u001b[0;34m(\u001b[0m\u001b[0mx\u001b[0m\u001b[0;34m=\u001b[0m\u001b[0;34m\"accuracy\"\u001b[0m\u001b[0;34m,\u001b[0m \u001b[0my\u001b[0m\u001b[0;34m=\u001b[0m\u001b[0;34m\"Model\"\u001b[0m\u001b[0;34m,\u001b[0m \u001b[0mdata\u001b[0m\u001b[0;34m=\u001b[0m\u001b[0mcompare\u001b[0m\u001b[0;34m,\u001b[0m \u001b[0mpalette\u001b[0m\u001b[0;34m=\u001b[0m\u001b[0;34m\"Blues_d\"\u001b[0m\u001b[0;34m)\u001b[0m\u001b[0;34m\u001b[0m\u001b[0;34m\u001b[0m\u001b[0m\n\u001b[1;32m     20\u001b[0m \u001b[0max\u001b[0m\u001b[0;34m.\u001b[0m\u001b[0mbar_label\u001b[0m\u001b[0;34m(\u001b[0m\u001b[0max\u001b[0m\u001b[0;34m.\u001b[0m\u001b[0mcontainers\u001b[0m\u001b[0;34m[\u001b[0m\u001b[0;36m0\u001b[0m\u001b[0;34m]\u001b[0m\u001b[0;34m,\u001b[0m \u001b[0mfmt\u001b[0m\u001b[0;34m=\u001b[0m\u001b[0;34m\"%.3f\"\u001b[0m\u001b[0;34m)\u001b[0m\u001b[0;34m\u001b[0m\u001b[0;34m\u001b[0m\u001b[0m\n\u001b[1;32m     21\u001b[0m \u001b[0;34m\u001b[0m\u001b[0m\n",
      "\u001b[0;32m/opt/homebrew/Caskroom/miniconda/base/envs/project-ml-2/lib/python3.10/site-packages/pandas/core/frame.py\u001b[0m in \u001b[0;36m?\u001b[0;34m(self, by, axis, ascending, inplace, kind, na_position, ignore_index, key)\u001b[0m\n\u001b[1;32m   6943\u001b[0m             )\n\u001b[1;32m   6944\u001b[0m         \u001b[0;32melif\u001b[0m \u001b[0mlen\u001b[0m\u001b[0;34m(\u001b[0m\u001b[0mby\u001b[0m\u001b[0;34m)\u001b[0m\u001b[0;34m:\u001b[0m\u001b[0;34m\u001b[0m\u001b[0;34m\u001b[0m\u001b[0m\n\u001b[1;32m   6945\u001b[0m             \u001b[0;31m# len(by) == 1\u001b[0m\u001b[0;34m\u001b[0m\u001b[0;34m\u001b[0m\u001b[0m\n\u001b[1;32m   6946\u001b[0m \u001b[0;34m\u001b[0m\u001b[0m\n\u001b[0;32m-> 6947\u001b[0;31m             \u001b[0mk\u001b[0m \u001b[0;34m=\u001b[0m \u001b[0mself\u001b[0m\u001b[0;34m.\u001b[0m\u001b[0m_get_label_or_level_values\u001b[0m\u001b[0;34m(\u001b[0m\u001b[0mby\u001b[0m\u001b[0;34m[\u001b[0m\u001b[0;36m0\u001b[0m\u001b[0;34m]\u001b[0m\u001b[0;34m,\u001b[0m \u001b[0maxis\u001b[0m\u001b[0;34m=\u001b[0m\u001b[0maxis\u001b[0m\u001b[0;34m)\u001b[0m\u001b[0;34m\u001b[0m\u001b[0;34m\u001b[0m\u001b[0m\n\u001b[0m\u001b[1;32m   6948\u001b[0m \u001b[0;34m\u001b[0m\u001b[0m\n\u001b[1;32m   6949\u001b[0m             \u001b[0;31m# need to rewrap column in Series to apply key function\u001b[0m\u001b[0;34m\u001b[0m\u001b[0;34m\u001b[0m\u001b[0m\n\u001b[1;32m   6950\u001b[0m             \u001b[0;32mif\u001b[0m \u001b[0mkey\u001b[0m \u001b[0;32mis\u001b[0m \u001b[0;32mnot\u001b[0m \u001b[0;32mNone\u001b[0m\u001b[0;34m:\u001b[0m\u001b[0;34m\u001b[0m\u001b[0;34m\u001b[0m\u001b[0m\n",
      "\u001b[0;32m/opt/homebrew/Caskroom/miniconda/base/envs/project-ml-2/lib/python3.10/site-packages/pandas/core/generic.py\u001b[0m in \u001b[0;36m?\u001b[0;34m(self, key, axis)\u001b[0m\n\u001b[1;32m   1840\u001b[0m             \u001b[0mvalues\u001b[0m \u001b[0;34m=\u001b[0m \u001b[0mself\u001b[0m\u001b[0;34m.\u001b[0m\u001b[0mxs\u001b[0m\u001b[0;34m(\u001b[0m\u001b[0mkey\u001b[0m\u001b[0;34m,\u001b[0m \u001b[0maxis\u001b[0m\u001b[0;34m=\u001b[0m\u001b[0mother_axes\u001b[0m\u001b[0;34m[\u001b[0m\u001b[0;36m0\u001b[0m\u001b[0;34m]\u001b[0m\u001b[0;34m)\u001b[0m\u001b[0;34m.\u001b[0m\u001b[0m_values\u001b[0m\u001b[0;34m\u001b[0m\u001b[0;34m\u001b[0m\u001b[0m\n\u001b[1;32m   1841\u001b[0m         \u001b[0;32melif\u001b[0m \u001b[0mself\u001b[0m\u001b[0;34m.\u001b[0m\u001b[0m_is_level_reference\u001b[0m\u001b[0;34m(\u001b[0m\u001b[0mkey\u001b[0m\u001b[0;34m,\u001b[0m \u001b[0maxis\u001b[0m\u001b[0;34m=\u001b[0m\u001b[0maxis\u001b[0m\u001b[0;34m)\u001b[0m\u001b[0;34m:\u001b[0m\u001b[0;34m\u001b[0m\u001b[0;34m\u001b[0m\u001b[0m\n\u001b[1;32m   1842\u001b[0m             \u001b[0mvalues\u001b[0m \u001b[0;34m=\u001b[0m \u001b[0mself\u001b[0m\u001b[0;34m.\u001b[0m\u001b[0maxes\u001b[0m\u001b[0;34m[\u001b[0m\u001b[0maxis\u001b[0m\u001b[0;34m]\u001b[0m\u001b[0;34m.\u001b[0m\u001b[0mget_level_values\u001b[0m\u001b[0;34m(\u001b[0m\u001b[0mkey\u001b[0m\u001b[0;34m)\u001b[0m\u001b[0;34m.\u001b[0m\u001b[0m_values\u001b[0m\u001b[0;34m\u001b[0m\u001b[0;34m\u001b[0m\u001b[0m\n\u001b[1;32m   1843\u001b[0m         \u001b[0;32melse\u001b[0m\u001b[0;34m:\u001b[0m\u001b[0;34m\u001b[0m\u001b[0;34m\u001b[0m\u001b[0m\n\u001b[0;32m-> 1844\u001b[0;31m             \u001b[0;32mraise\u001b[0m \u001b[0mKeyError\u001b[0m\u001b[0;34m(\u001b[0m\u001b[0mkey\u001b[0m\u001b[0;34m)\u001b[0m\u001b[0;34m\u001b[0m\u001b[0;34m\u001b[0m\u001b[0m\n\u001b[0m\u001b[1;32m   1845\u001b[0m \u001b[0;34m\u001b[0m\u001b[0m\n\u001b[1;32m   1846\u001b[0m         \u001b[0;31m# Check for duplicates\u001b[0m\u001b[0;34m\u001b[0m\u001b[0;34m\u001b[0m\u001b[0m\n\u001b[1;32m   1847\u001b[0m         \u001b[0;32mif\u001b[0m \u001b[0mvalues\u001b[0m\u001b[0;34m.\u001b[0m\u001b[0mndim\u001b[0m \u001b[0;34m>\u001b[0m \u001b[0;36m1\u001b[0m\u001b[0;34m:\u001b[0m\u001b[0;34m\u001b[0m\u001b[0;34m\u001b[0m\u001b[0m\n",
      "\u001b[0;31mKeyError\u001b[0m: 'accuracy'"
     ]
    },
    {
     "data": {
      "image/png": "[encoded data removed]",
      "text/plain": [
       "<Figure size 1400x1000 with 1 Axes>"
      ]
     },
     "metadata": {},
     "output_type": "display_data"
    }
   ],
   "source": [
    "\n",
    "# compare models \n",
    "\n",
    "compare = pd.DataFrame(\n",
    "    {\n",
    "        \"Model\": ['model', 'model_l1', 'model_l2', 'model_dropout', 'model_layer', 'model_final'],\n",
    "    \n",
    "        'accuracy ' : [ m1[1], m2[1], m3[1], m4[1], m5[1], m6[1] ],\n",
    "        'val_accuracy ': [m1[3], m2[3], m3[3], m4[3], m5[3], m6[3] ],\n",
    "        'loss': [m1[0], m2[0], m3[0], m4[0], m5[0], m6[0] ],\n",
    "        'val_loss':[m1[2], m2[2], m3[2], m4[2], m5[2], m6[2] ]\n",
    "       \n",
    "    }\n",
    ")\n",
    "\n",
    "\n",
    "plt.figure(figsize=(14, 10))\n",
    "plt.subplot(311)\n",
    "compare = compare.sort_values(by=\"accuracy\", ascending=False)\n",
    "ax = sns.barplot(x=\"accuracy\", y=\"Model\", data=compare, palette=\"Blues_d\")\n",
    "ax.bar_label(ax.containers[0], fmt=\"%.3f\")\n",
    "\n",
    "plt.figure(figsize=(14, 10))\n",
    "plt.subplot(312)\n",
    "compare = compare.sort_values(by=\"val_accuracy\", ascending=False)\n",
    "ax = sns.barplot(x=\"val_accuracy\", y=\"Model\", data=compare, palette=\"Blues_d\")\n",
    "ax.bar_label(ax.containers[0], fmt=\"%.3f\")\n",
    "\n",
    "plt.figure(figsize=(14, 10))\n",
    "plt.subplot(313)\n",
    "compare = compare.sort_values(by=\"loss\", ascending=False)\n",
    "ax = sns.barplot(x=\"loss\", y=\"Model\", data=compare, palette=\"Blues_d\")\n",
    "ax.bar_label(ax.containers[0], fmt=\"%.3f\")\n",
    "\n",
    "plt.figure(figsize=(14, 10))\n",
    "plt.subplot(314)\n",
    "compare = compare.sort_values(by=\"val_loss\", ascending=False)\n",
    "ax = sns.barplot(x=\"val_loss\", y=\"Model\", data=compare, palette=\"Blues_d\")\n",
    "ax.bar_label(ax.containers[0], fmt=\"%.3f\")\n",
    "\n"
   ]
  },
  {
   "cell_type": "markdown",
   "metadata": {},
   "source": [
    "## Model Evaluation\n",
    "\n",
    "**TASK 8: Show the accuracy,precision,recall,f1-score the model achieved on the x_test data set. Keep in mind, there are quite a few ways to do this, but we recommend following the same procedure we showed in the MNIST lecture.**"
   ]
  },
  {
   "cell_type": "markdown",
   "metadata": {},
   "source": [
    "highest accuracy droupout model 0.91 "
   ]
  },
  {
   "cell_type": "code",
   "execution_count": 89,
   "metadata": {},
   "outputs": [
    {
     "name": "stdout",
     "output_type": "stream",
     "text": [
      "313/313 [==============================] - 1s 3ms/step\n",
      "              precision    recall  f1-score   support\n",
      "\n",
      "           0       0.88      0.87      0.87      1000\n",
      "           1       0.98      0.98      0.98      1000\n",
      "           2       0.83      0.88      0.85      1000\n",
      "           3       0.93      0.91      0.92      1000\n",
      "           4       0.83      0.87      0.85      1000\n",
      "           5       0.97      0.99      0.98      1000\n",
      "           6       0.78      0.72      0.75      1000\n",
      "           7       0.96      0.97      0.97      1000\n",
      "           8       0.98      0.98      0.98      1000\n",
      "           9       0.98      0.95      0.97      1000\n",
      "\n",
      "    accuracy                           0.91     10000\n",
      "   macro avg       0.91      0.91      0.91     10000\n",
      "weighted avg       0.91      0.91      0.91     10000\n",
      "\n",
      "-------------------------------------------------------------\n"
     ]
    },
    {
     "data": {
      "image/png": "[encoded data removed]",
      "text/plain": [
       "<Figure size 900x500 with 2 Axes>"
      ]
     },
     "metadata": {},
     "output_type": "display_data"
    },
    {
     "name": "stdout",
     "output_type": "stream",
     "text": [
      "\n",
      "\n"
     ]
    },
    {
     "data": {
      "image/png": "[encoded data removed]",
      "text/plain": [
       "<Figure size 640x480 with 1 Axes>"
      ]
     },
     "metadata": {},
     "output_type": "display_data"
    }
   ],
   "source": [
    "pred_prob = model_dropout.predict(X_test_s)\n",
    "y_pred = np.argmax(pred_prob, axis=1)\n",
    "print(classification_report(y_test, y_pred))\n",
    "print(\"-------------------------------------------------------------\")\n",
    "plt.figure(figsize=(9, 5))\n",
    "sns.heatmap(\n",
    "        confusion_matrix(y_test, y_pred),\n",
    "        annot=True,\n",
    "        cmap=\"Blues\",\n",
    "        linewidths=0.5,\n",
    "        linecolor=\"black\",\n",
    "        fmt=\"g\",\n",
    "        annot_kws={\"size\": 15},)\n",
    "plt.title(\"prediction\")\n",
    "plt.show();\n",
    "print(\"\\n\")\n",
    "equal = np.equal(y_test, y_pred).sum()\n",
    "not_equal= np.not_equal(y_test, y_pred).sum()\n",
    "plt.bar(['equal','not_equal'] , [equal,not_equal] )\n",
    "plt.title(\"Correct prediction VS wrong prediction\")\n",
    "plt.show();"
   ]
  },
  {
   "cell_type": "markdown",
   "metadata": {},
   "source": [
    "## Prediction"
   ]
  },
  {
   "cell_type": "code",
   "execution_count": 90,
   "metadata": {},
   "outputs": [
    {
     "data": {
      "text/plain": [
       "array([[[0.        ],\n",
       "        [0.        ],\n",
       "        [0.        ],\n",
       "        [0.        ],\n",
       "        [0.        ],\n",
       "        [0.        ],\n",
       "        [0.        ],\n",
       "        [0.        ],\n",
       "        [0.00784314],\n",
       "        [0.01176471],\n",
       "        [0.        ],\n",
       "        [0.        ],\n",
       "        [0.36862746],\n",
       "        [0.5921569 ],\n",
       "        [0.60784316],\n",
       "        [0.5411765 ],\n",
       "        [0.38431373],\n",
       "        [0.        ],\n",
       "        [0.        ],\n",
       "        [0.00392157],\n",
       "        [0.        ],\n",
       "        [0.        ],\n",
       "        [0.        ],\n",
       "        [0.00392157],\n",
       "        [0.        ],\n",
       "        [0.        ],\n",
       "        [0.        ],\n",
       "        [0.        ]],\n",
       "\n",
       "       [[0.        ],\n",
       "        [0.        ],\n",
       "        [0.        ],\n",
       "        [0.        ],\n",
       "        [0.        ],\n",
       "        [0.        ],\n",
       "        [0.        ],\n",
       "        [0.        ],\n",
       "        [0.        ],\n",
       "        [0.        ],\n",
       "        [0.        ],\n",
       "        [0.18039216],\n",
       "        [1.        ],\n",
       "        [0.77254903],\n",
       "        [0.76862746],\n",
       "        [0.7490196 ],\n",
       "        [0.9843137 ],\n",
       "        [0.01176471],\n",
       "        [0.        ],\n",
       "        [0.        ],\n",
       "        [0.00392157],\n",
       "        [0.        ],\n",
       "        [0.        ],\n",
       "        [0.        ],\n",
       "        [0.        ],\n",
       "        [0.        ],\n",
       "        [0.        ],\n",
       "        [0.        ]],\n",
       "\n",
       "       [[0.        ],\n",
       "        [0.        ],\n",
       "        [0.        ],\n",
       "        [0.        ],\n",
       "        [0.        ],\n",
       "        [0.        ],\n",
       "        [0.        ],\n",
       "        [0.        ],\n",
       "        [0.        ],\n",
       "        [0.15686275],\n",
       "        [0.24705882],\n",
       "        [0.16078432],\n",
       "        [0.21176471],\n",
       "        [0.7176471 ],\n",
       "        [0.77254903],\n",
       "        [0.70980394],\n",
       "        [0.37254903],\n",
       "        [0.25490198],\n",
       "        [0.49019608],\n",
       "        [0.02352941],\n",
       "        [0.        ],\n",
       "        [0.        ],\n",
       "        [0.        ],\n",
       "        [0.        ],\n",
       "        [0.        ],\n",
       "        [0.        ],\n",
       "        [0.        ],\n",
       "        [0.        ]],\n",
       "\n",
       "       [[0.        ],\n",
       "        [0.        ],\n",
       "        [0.        ],\n",
       "        [0.        ],\n",
       "        [0.        ],\n",
       "        [0.        ],\n",
       "        [0.        ],\n",
       "        [0.2       ],\n",
       "        [0.5137255 ],\n",
       "        [0.6117647 ],\n",
       "        [0.38431373],\n",
       "        [0.30980393],\n",
       "        [0.23921569],\n",
       "        [0.5647059 ],\n",
       "        [0.6509804 ],\n",
       "        [0.6117647 ],\n",
       "        [0.1882353 ],\n",
       "        [0.21176471],\n",
       "        [0.43529412],\n",
       "        [0.4862745 ],\n",
       "        [0.23921569],\n",
       "        [0.07843138],\n",
       "        [0.        ],\n",
       "        [0.        ],\n",
       "        [0.        ],\n",
       "        [0.        ],\n",
       "        [0.        ],\n",
       "        [0.        ]],\n",
       "\n",
       "       [[0.        ],\n",
       "        [0.        ],\n",
       "        [0.        ],\n",
       "        [0.        ],\n",
       "        [0.        ],\n",
       "        [0.        ],\n",
       "        [0.5372549 ],\n",
       "        [0.27450982],\n",
       "        [0.43529412],\n",
       "        [0.35686275],\n",
       "        [0.1882353 ],\n",
       "        [0.3137255 ],\n",
       "        [0.6039216 ],\n",
       "        [0.40392157],\n",
       "        [0.41568628],\n",
       "        [0.44313726],\n",
       "        [0.49411765],\n",
       "        [0.21568628],\n",
       "        [0.27450982],\n",
       "        [0.49411765],\n",
       "        [0.5058824 ],\n",
       "        [0.45882353],\n",
       "        [0.14509805],\n",
       "        [0.        ],\n",
       "        [0.        ],\n",
       "        [0.        ],\n",
       "        [0.        ],\n",
       "        [0.        ]],\n",
       "\n",
       "       [[0.        ],\n",
       "        [0.        ],\n",
       "        [0.        ],\n",
       "        [0.        ],\n",
       "        [0.        ],\n",
       "        [0.1764706 ],\n",
       "        [0.84313726],\n",
       "        [0.        ],\n",
       "        [0.14901961],\n",
       "        [0.13333334],\n",
       "        [0.        ],\n",
       "        [0.0627451 ],\n",
       "        [0.38039216],\n",
       "        [0.        ],\n",
       "        [0.13333334],\n",
       "        [0.16862746],\n",
       "        [0.35686275],\n",
       "        [0.        ],\n",
       "        [0.03921569],\n",
       "        [0.17254902],\n",
       "        [0.06666667],\n",
       "        [0.25490198],\n",
       "        [0.5921569 ],\n",
       "        [0.        ],\n",
       "        [0.        ],\n",
       "        [0.        ],\n",
       "        [0.        ],\n",
       "        [0.        ]],\n",
       "\n",
       "       [[0.        ],\n",
       "        [0.        ],\n",
       "        [0.        ],\n",
       "        [0.        ],\n",
       "        [0.        ],\n",
       "        [0.3764706 ],\n",
       "        [0.12156863],\n",
       "        [0.38431373],\n",
       "        [0.69411767],\n",
       "        [0.6156863 ],\n",
       "        [0.45882353],\n",
       "        [0.6117647 ],\n",
       "        [0.91764706],\n",
       "        [0.43529412],\n",
       "        [0.56078434],\n",
       "        [0.64705884],\n",
       "        [0.79607844],\n",
       "        [0.27058825],\n",
       "        [0.41960785],\n",
       "        [0.5568628 ],\n",
       "        [0.48235294],\n",
       "        [0.32156864],\n",
       "        [0.29803923],\n",
       "        [0.        ],\n",
       "        [0.        ],\n",
       "        [0.        ],\n",
       "        [0.        ],\n",
       "        [0.        ]],\n",
       "\n",
       "       [[0.        ],\n",
       "        [0.        ],\n",
       "        [0.        ],\n",
       "        [0.        ],\n",
       "        [0.        ],\n",
       "        [0.63529414],\n",
       "        [0.24705882],\n",
       "        [0.19607843],\n",
       "        [0.3254902 ],\n",
       "        [0.2784314 ],\n",
       "        [0.10588235],\n",
       "        [0.22745098],\n",
       "        [0.5176471 ],\n",
       "        [0.1764706 ],\n",
       "        [0.3137255 ],\n",
       "        [0.33333334],\n",
       "        [0.50980395],\n",
       "        [0.19215687],\n",
       "        [0.36078432],\n",
       "        [0.46666667],\n",
       "        [0.48235294],\n",
       "        [0.32156864],\n",
       "        [0.40784314],\n",
       "        [0.07843138],\n",
       "        [0.        ],\n",
       "        [0.        ],\n",
       "        [0.        ],\n",
       "        [0.        ]],\n",
       "\n",
       "       [[0.        ],\n",
       "        [0.        ],\n",
       "        [0.        ],\n",
       "        [0.        ],\n",
       "        [0.        ],\n",
       "        [0.6901961 ],\n",
       "        [0.36078432],\n",
       "        [0.15686275],\n",
       "        [0.22745098],\n",
       "        [0.25882354],\n",
       "        [0.04313726],\n",
       "        [0.16862746],\n",
       "        [0.49803922],\n",
       "        [0.03137255],\n",
       "        [0.23137255],\n",
       "        [0.19607843],\n",
       "        [0.48235294],\n",
       "        [0.24313726],\n",
       "        [0.29411766],\n",
       "        [0.32941177],\n",
       "        [0.08235294],\n",
       "        [0.40784314],\n",
       "        [0.54901963],\n",
       "        [0.15294118],\n",
       "        [0.        ],\n",
       "        [0.        ],\n",
       "        [0.        ],\n",
       "        [0.        ]],\n",
       "\n",
       "       [[0.        ],\n",
       "        [0.        ],\n",
       "        [0.        ],\n",
       "        [0.        ],\n",
       "        [0.        ],\n",
       "        [0.627451  ],\n",
       "        [0.42745098],\n",
       "        [0.44705883],\n",
       "        [0.3647059 ],\n",
       "        [0.4       ],\n",
       "        [0.16470589],\n",
       "        [0.29803923],\n",
       "        [0.62352943],\n",
       "        [0.15686275],\n",
       "        [0.39215687],\n",
       "        [0.32156864],\n",
       "        [0.6156863 ],\n",
       "        [0.09411765],\n",
       "        [0.19607843],\n",
       "        [0.38431373],\n",
       "        [0.32941177],\n",
       "        [0.63529414],\n",
       "        [0.59607846],\n",
       "        [0.18039216],\n",
       "        [0.        ],\n",
       "        [0.        ],\n",
       "        [0.        ],\n",
       "        [0.        ]],\n",
       "\n",
       "       [[0.        ],\n",
       "        [0.        ],\n",
       "        [0.        ],\n",
       "        [0.        ],\n",
       "        [0.        ],\n",
       "        [0.42745098],\n",
       "        [0.05490196],\n",
       "        [0.28235295],\n",
       "        [0.41568628],\n",
       "        [0.4862745 ],\n",
       "        [0.2627451 ],\n",
       "        [0.3647059 ],\n",
       "        [0.67058825],\n",
       "        [0.21960784],\n",
       "        [0.44313726],\n",
       "        [0.40392157],\n",
       "        [0.69411767],\n",
       "        [0.20392157],\n",
       "        [0.34901962],\n",
       "        [0.42352942],\n",
       "        [0.4627451 ],\n",
       "        [0.43137255],\n",
       "        [0.36862746],\n",
       "        [0.10980392],\n",
       "        [0.        ],\n",
       "        [0.        ],\n",
       "        [0.        ],\n",
       "        [0.        ]],\n",
       "\n",
       "       [[0.        ],\n",
       "        [0.        ],\n",
       "        [0.        ],\n",
       "        [0.        ],\n",
       "        [0.1764706 ],\n",
       "        [0.77254903],\n",
       "        [0.07843138],\n",
       "        [0.2901961 ],\n",
       "        [0.43137255],\n",
       "        [0.42745098],\n",
       "        [0.21568628],\n",
       "        [0.30588236],\n",
       "        [0.69411767],\n",
       "        [0.24313726],\n",
       "        [0.4627451 ],\n",
       "        [0.40392157],\n",
       "        [0.61960787],\n",
       "        [0.14509805],\n",
       "        [0.33333334],\n",
       "        [0.41568628],\n",
       "        [0.4392157 ],\n",
       "        [0.14901961],\n",
       "        [0.24313726],\n",
       "        [0.3647059 ],\n",
       "        [0.        ],\n",
       "        [0.        ],\n",
       "        [0.        ],\n",
       "        [0.        ]],\n",
       "\n",
       "       [[0.        ],\n",
       "        [0.        ],\n",
       "        [0.        ],\n",
       "        [0.        ],\n",
       "        [0.21960784],\n",
       "        [0.8666667 ],\n",
       "        [0.45490196],\n",
       "        [0.74509805],\n",
       "        [0.24705882],\n",
       "        [0.09803922],\n",
       "        [0.00784314],\n",
       "        [0.02745098],\n",
       "        [0.4117647 ],\n",
       "        [0.01960784],\n",
       "        [0.23137255],\n",
       "        [0.14901961],\n",
       "        [0.33333334],\n",
       "        [0.        ],\n",
       "        [0.05882353],\n",
       "        [0.1254902 ],\n",
       "        [0.8117647 ],\n",
       "        [0.6       ],\n",
       "        [0.78431374],\n",
       "        [0.58431375],\n",
       "        [0.        ],\n",
       "        [0.        ],\n",
       "        [0.        ],\n",
       "        [0.        ]],\n",
       "\n",
       "       [[0.        ],\n",
       "        [0.        ],\n",
       "        [0.        ],\n",
       "        [0.        ],\n",
       "        [0.05490196],\n",
       "        [0.34117648],\n",
       "        [0.06666667],\n",
       "        [0.37254903],\n",
       "        [0.57254905],\n",
       "        [0.5137255 ],\n",
       "        [0.40392157],\n",
       "        [0.39607844],\n",
       "        [0.7647059 ],\n",
       "        [0.2784314 ],\n",
       "        [0.41568628],\n",
       "        [0.5137255 ],\n",
       "        [0.7529412 ],\n",
       "        [0.26666668],\n",
       "        [0.38039216],\n",
       "        [0.43137255],\n",
       "        [0.80784315],\n",
       "        [0.30980393],\n",
       "        [0.34509805],\n",
       "        [0.18039216],\n",
       "        [0.        ],\n",
       "        [0.        ],\n",
       "        [0.        ],\n",
       "        [0.        ]],\n",
       "\n",
       "       [[0.        ],\n",
       "        [0.        ],\n",
       "        [0.        ],\n",
       "        [0.        ],\n",
       "        [0.2       ],\n",
       "        [0.49019608],\n",
       "        [0.32941177],\n",
       "        [0.45882353],\n",
       "        [0.58431375],\n",
       "        [0.5254902 ],\n",
       "        [0.4392157 ],\n",
       "        [0.42745098],\n",
       "        [0.8784314 ],\n",
       "        [0.44705883],\n",
       "        [0.6039216 ],\n",
       "        [0.6313726 ],\n",
       "        [0.75686276],\n",
       "        [0.28627452],\n",
       "        [0.49803922],\n",
       "        [0.5686275 ],\n",
       "        [0.6431373 ],\n",
       "        [0.21960784],\n",
       "        [0.3647059 ],\n",
       "        [0.36078432],\n",
       "        [0.        ],\n",
       "        [0.        ],\n",
       "        [0.        ],\n",
       "        [0.        ]],\n",
       "\n",
       "       [[0.        ],\n",
       "        [0.        ],\n",
       "        [0.        ],\n",
       "        [0.        ],\n",
       "        [0.34509805],\n",
       "        [0.45882353],\n",
       "        [0.34901962],\n",
       "        [0.79607844],\n",
       "        [0.2627451 ],\n",
       "        [0.09411765],\n",
       "        [0.03137255],\n",
       "        [0.03921569],\n",
       "        [0.3882353 ],\n",
       "        [0.03529412],\n",
       "        [0.22745098],\n",
       "        [0.19607843],\n",
       "        [0.3254902 ],\n",
       "        [0.        ],\n",
       "        [0.0627451 ],\n",
       "        [0.13333334],\n",
       "        [0.69411767],\n",
       "        [0.4117647 ],\n",
       "        [0.4509804 ],\n",
       "        [0.43137255],\n",
       "        [0.0627451 ],\n",
       "        [0.        ],\n",
       "        [0.        ],\n",
       "        [0.        ]],\n",
       "\n",
       "       [[0.        ],\n",
       "        [0.        ],\n",
       "        [0.        ],\n",
       "        [0.        ],\n",
       "        [0.54509807],\n",
       "        [0.4745098 ],\n",
       "        [0.42352942],\n",
       "        [0.9490196 ],\n",
       "        [0.24705882],\n",
       "        [0.3529412 ],\n",
       "        [0.2       ],\n",
       "        [0.24705882],\n",
       "        [0.63529414],\n",
       "        [0.19607843],\n",
       "        [0.3764706 ],\n",
       "        [0.4392157 ],\n",
       "        [0.5137255 ],\n",
       "        [0.08235294],\n",
       "        [0.30588236],\n",
       "        [0.28235295],\n",
       "        [0.5764706 ],\n",
       "        [0.6039216 ],\n",
       "        [0.49803922],\n",
       "        [0.5764706 ],\n",
       "        [0.14509805],\n",
       "        [0.        ],\n",
       "        [0.        ],\n",
       "        [0.        ]],\n",
       "\n",
       "       [[0.        ],\n",
       "        [0.        ],\n",
       "        [0.        ],\n",
       "        [0.        ],\n",
       "        [0.32156864],\n",
       "        [0.10196079],\n",
       "        [0.27450982],\n",
       "        [0.7137255 ],\n",
       "        [0.18039216],\n",
       "        [0.41960785],\n",
       "        [0.22352941],\n",
       "        [0.25490198],\n",
       "        [0.6392157 ],\n",
       "        [0.20784314],\n",
       "        [0.3372549 ],\n",
       "        [0.45882353],\n",
       "        [0.52156866],\n",
       "        [0.09803922],\n",
       "        [0.3254902 ],\n",
       "        [0.28235295],\n",
       "        [0.5294118 ],\n",
       "        [0.6313726 ],\n",
       "        [0.32156864],\n",
       "        [0.37254903],\n",
       "        [0.05882353],\n",
       "        [0.        ],\n",
       "        [0.        ],\n",
       "        [0.        ]],\n",
       "\n",
       "       [[0.        ],\n",
       "        [0.        ],\n",
       "        [0.        ],\n",
       "        [0.        ],\n",
       "        [0.50980395],\n",
       "        [0.18039216],\n",
       "        [0.4627451 ],\n",
       "        [0.60784316],\n",
       "        [0.2784314 ],\n",
       "        [0.5294118 ],\n",
       "        [0.3254902 ],\n",
       "        [0.3764706 ],\n",
       "        [0.75686276],\n",
       "        [0.31764707],\n",
       "        [0.46666667],\n",
       "        [0.5764706 ],\n",
       "        [0.6117647 ],\n",
       "        [0.1882353 ],\n",
       "        [0.44313726],\n",
       "        [0.36862746],\n",
       "        [0.38039216],\n",
       "        [0.54901963],\n",
       "        [0.21176471],\n",
       "        [0.33333334],\n",
       "        [0.1254902 ],\n",
       "        [0.        ],\n",
       "        [0.        ],\n",
       "        [0.        ]],\n",
       "\n",
       "       [[0.        ],\n",
       "        [0.        ],\n",
       "        [0.        ],\n",
       "        [0.        ],\n",
       "        [0.8039216 ],\n",
       "        [0.5137255 ],\n",
       "        [0.9490196 ],\n",
       "        [0.67058825],\n",
       "        [0.07843138],\n",
       "        [0.27058825],\n",
       "        [0.07450981],\n",
       "        [0.1882353 ],\n",
       "        [0.54509807],\n",
       "        [0.14901961],\n",
       "        [0.3254902 ],\n",
       "        [0.40784314],\n",
       "        [0.42352942],\n",
       "        [0.00392157],\n",
       "        [0.25882354],\n",
       "        [0.19215687],\n",
       "        [0.27450982],\n",
       "        [0.9372549 ],\n",
       "        [0.7058824 ],\n",
       "        [0.80784315],\n",
       "        [0.33333334],\n",
       "        [0.        ],\n",
       "        [0.        ],\n",
       "        [0.        ]],\n",
       "\n",
       "       [[0.        ],\n",
       "        [0.        ],\n",
       "        [0.        ],\n",
       "        [0.        ],\n",
       "        [0.25882354],\n",
       "        [0.03529412],\n",
       "        [0.56078434],\n",
       "        [0.42352942],\n",
       "        [0.14117648],\n",
       "        [0.2901961 ],\n",
       "        [0.04313726],\n",
       "        [0.1254902 ],\n",
       "        [0.4509804 ],\n",
       "        [0.04313726],\n",
       "        [0.15686275],\n",
       "        [0.25882354],\n",
       "        [0.3137255 ],\n",
       "        [0.        ],\n",
       "        [0.14509805],\n",
       "        [0.1764706 ],\n",
       "        [0.29803923],\n",
       "        [0.54509807],\n",
       "        [0.30980393],\n",
       "        [0.31764707],\n",
       "        [0.08235294],\n",
       "        [0.        ],\n",
       "        [0.        ],\n",
       "        [0.        ]],\n",
       "\n",
       "       [[0.        ],\n",
       "        [0.        ],\n",
       "        [0.        ],\n",
       "        [0.        ],\n",
       "        [0.39215687],\n",
       "        [0.22745098],\n",
       "        [0.57254905],\n",
       "        [0.27058825],\n",
       "        [0.40392157],\n",
       "        [0.7254902 ],\n",
       "        [0.4862745 ],\n",
       "        [0.5882353 ],\n",
       "        [0.9607843 ],\n",
       "        [0.5176471 ],\n",
       "        [0.6313726 ],\n",
       "        [0.7921569 ],\n",
       "        [0.8235294 ],\n",
       "        [0.41568628],\n",
       "        [0.6039216 ],\n",
       "        [0.6745098 ],\n",
       "        [0.40392157],\n",
       "        [0.627451  ],\n",
       "        [0.4       ],\n",
       "        [0.42352942],\n",
       "        [0.14509805],\n",
       "        [0.        ],\n",
       "        [0.        ],\n",
       "        [0.        ]],\n",
       "\n",
       "       [[0.        ],\n",
       "        [0.        ],\n",
       "        [0.        ],\n",
       "        [0.        ],\n",
       "        [0.43529412],\n",
       "        [0.30980393],\n",
       "        [0.654902  ],\n",
       "        [0.06666667],\n",
       "        [0.07450981],\n",
       "        [0.25882354],\n",
       "        [0.02352941],\n",
       "        [0.20784314],\n",
       "        [0.5529412 ],\n",
       "        [0.17254902],\n",
       "        [0.34117648],\n",
       "        [0.43529412],\n",
       "        [0.44705883],\n",
       "        [0.0627451 ],\n",
       "        [0.21176471],\n",
       "        [0.28235295],\n",
       "        [0.        ],\n",
       "        [0.57254905],\n",
       "        [0.44705883],\n",
       "        [0.49019608],\n",
       "        [0.18039216],\n",
       "        [0.        ],\n",
       "        [0.        ],\n",
       "        [0.        ]],\n",
       "\n",
       "       [[0.        ],\n",
       "        [0.        ],\n",
       "        [0.        ],\n",
       "        [0.        ],\n",
       "        [0.4862745 ],\n",
       "        [0.41960785],\n",
       "        [0.79607844],\n",
       "        [0.02745098],\n",
       "        [0.30588236],\n",
       "        [0.31764707],\n",
       "        [0.03921569],\n",
       "        [0.3019608 ],\n",
       "        [0.39215687],\n",
       "        [0.16862746],\n",
       "        [0.3019608 ],\n",
       "        [0.25882354],\n",
       "        [0.39215687],\n",
       "        [0.        ],\n",
       "        [0.1254902 ],\n",
       "        [0.3019608 ],\n",
       "        [0.09803922],\n",
       "        [0.52156866],\n",
       "        [0.5647059 ],\n",
       "        [0.6117647 ],\n",
       "        [0.21176471],\n",
       "        [0.        ],\n",
       "        [0.        ],\n",
       "        [0.        ]],\n",
       "\n",
       "       [[0.        ],\n",
       "        [0.        ],\n",
       "        [0.        ],\n",
       "        [0.        ],\n",
       "        [0.30980393],\n",
       "        [0.09019608],\n",
       "        [0.57254905],\n",
       "        [0.00784314],\n",
       "        [0.35686275],\n",
       "        [0.3372549 ],\n",
       "        [0.09803922],\n",
       "        [0.52156866],\n",
       "        [0.44705883],\n",
       "        [0.4392157 ],\n",
       "        [0.48235294],\n",
       "        [0.3529412 ],\n",
       "        [0.60784316],\n",
       "        [0.12156863],\n",
       "        [0.23921569],\n",
       "        [0.42745098],\n",
       "        [0.15294118],\n",
       "        [0.2784314 ],\n",
       "        [0.44313726],\n",
       "        [0.3882353 ],\n",
       "        [0.07450981],\n",
       "        [0.        ],\n",
       "        [0.        ],\n",
       "        [0.        ]],\n",
       "\n",
       "       [[0.        ],\n",
       "        [0.        ],\n",
       "        [0.        ],\n",
       "        [0.        ],\n",
       "        [0.19215687],\n",
       "        [0.3529412 ],\n",
       "        [0.6901961 ],\n",
       "        [0.        ],\n",
       "        [0.5411765 ],\n",
       "        [0.4392157 ],\n",
       "        [0.13725491],\n",
       "        [0.6509804 ],\n",
       "        [0.45490196],\n",
       "        [0.44705883],\n",
       "        [0.5019608 ],\n",
       "        [0.3882353 ],\n",
       "        [0.6431373 ],\n",
       "        [0.17254902],\n",
       "        [0.2784314 ],\n",
       "        [0.5411765 ],\n",
       "        [0.15686275],\n",
       "        [0.2509804 ],\n",
       "        [0.53333336],\n",
       "        [0.3372549 ],\n",
       "        [0.00784314],\n",
       "        [0.        ],\n",
       "        [0.        ],\n",
       "        [0.        ]],\n",
       "\n",
       "       [[0.        ],\n",
       "        [0.        ],\n",
       "        [0.        ],\n",
       "        [0.        ],\n",
       "        [0.01568628],\n",
       "        [0.61960787],\n",
       "        [0.8980392 ],\n",
       "        [0.        ],\n",
       "        [0.17254902],\n",
       "        [0.39215687],\n",
       "        [0.1254902 ],\n",
       "        [0.69803923],\n",
       "        [0.38039216],\n",
       "        [0.5176471 ],\n",
       "        [0.49803922],\n",
       "        [0.42745098],\n",
       "        [0.68235296],\n",
       "        [0.16470589],\n",
       "        [0.3019608 ],\n",
       "        [0.4745098 ],\n",
       "        [0.        ],\n",
       "        [0.3372549 ],\n",
       "        [0.70980394],\n",
       "        [0.40784314],\n",
       "        [0.00392157],\n",
       "        [0.        ],\n",
       "        [0.        ],\n",
       "        [0.        ]],\n",
       "\n",
       "       [[0.        ],\n",
       "        [0.        ],\n",
       "        [0.        ],\n",
       "        [0.        ],\n",
       "        [0.        ],\n",
       "        [0.29803923],\n",
       "        [0.52156866],\n",
       "        [0.        ],\n",
       "        [0.        ],\n",
       "        [0.        ],\n",
       "        [0.        ],\n",
       "        [0.3137255 ],\n",
       "        [0.11372549],\n",
       "        [0.4       ],\n",
       "        [0.29411766],\n",
       "        [0.16862746],\n",
       "        [0.32941177],\n",
       "        [0.        ],\n",
       "        [0.03921569],\n",
       "        [0.        ],\n",
       "        [0.        ],\n",
       "        [0.13725491],\n",
       "        [0.32941177],\n",
       "        [0.21568628],\n",
       "        [0.        ],\n",
       "        [0.        ],\n",
       "        [0.        ],\n",
       "        [0.        ]]], dtype=float32)"
      ]
     },
     "execution_count": 90,
     "metadata": {},
     "output_type": "execute_result"
    }
   ],
   "source": [
    "X_test_s[7]"
   ]
  },
  {
   "cell_type": "code",
   "execution_count": 92,
   "metadata": {},
   "outputs": [
    {
     "data": {
      "image/png": "[encoded data removed]",
      "text/plain": [
       "<Figure size 640x480 with 1 Axes>"
      ]
     },
     "metadata": {},
     "output_type": "display_data"
    }
   ],
   "source": [
    "plt.imshow(X_test_s[7])\n",
    "plt.show()"
   ]
  },
  {
   "cell_type": "code",
   "execution_count": 93,
   "metadata": {},
   "outputs": [
    {
     "data": {
      "text/plain": [
       "6"
      ]
     },
     "execution_count": 93,
     "metadata": {},
     "output_type": "execute_result"
    }
   ],
   "source": [
    "y_test[7]"
   ]
  },
  {
   "cell_type": "code",
   "execution_count": 94,
   "metadata": {},
   "outputs": [
    {
     "data": {
      "text/plain": [
       "'Shirt'"
      ]
     },
     "execution_count": 94,
     "metadata": {},
     "output_type": "execute_result"
    }
   ],
   "source": [
    "classes[y_test[7]]"
   ]
  },
  {
   "cell_type": "code",
   "execution_count": 95,
   "metadata": {},
   "outputs": [],
   "source": [
    "X_predict = X_test_s[7]"
   ]
  },
  {
   "cell_type": "code",
   "execution_count": 96,
   "metadata": {},
   "outputs": [
    {
     "data": {
      "text/plain": [
       "(28, 28, 1)"
      ]
     },
     "execution_count": 96,
     "metadata": {},
     "output_type": "execute_result"
    }
   ],
   "source": [
    "X_test_s[7].shape"
   ]
  },
  {
   "cell_type": "code",
   "execution_count": 97,
   "metadata": {},
   "outputs": [
    {
     "name": "stdout",
     "output_type": "stream",
     "text": [
      "1/1 [==============================] - 0s 17ms/step\n"
     ]
    },
    {
     "data": {
      "text/plain": [
       "array([[5.2302624e-14, 7.9611543e-14, 6.2408433e-12, 7.0062778e-10,\n",
       "        2.1844397e-10, 1.3845386e-15, 1.0000000e+00, 2.0116372e-13,\n",
       "        5.8271811e-11, 7.3231888e-17]], dtype=float32)"
      ]
     },
     "execution_count": 97,
     "metadata": {},
     "output_type": "execute_result"
    }
   ],
   "source": [
    "predicted_value = model_dropout.predict(np.expand_dims(X_test_s[7], 0))\n",
    "predicted_value"
   ]
  },
  {
   "cell_type": "code",
   "execution_count": 98,
   "metadata": {},
   "outputs": [
    {
     "data": {
      "text/plain": [
       "6"
      ]
     },
     "execution_count": 98,
     "metadata": {},
     "output_type": "execute_result"
    }
   ],
   "source": [
    "np.argmax(predicted_value)"
   ]
  },
  {
   "cell_type": "code",
   "execution_count": 99,
   "metadata": {},
   "outputs": [
    {
     "name": "stdout",
     "output_type": "stream",
     "text": [
      "Predicted value:  Shirt \n",
      "Real value : Shirt\n"
     ]
    },
    {
     "data": {
      "image/png": "[encoded data removed]",
      "text/plain": [
       "<Figure size 640x480 with 1 Axes>"
      ]
     },
     "metadata": {},
     "output_type": "display_data"
    }
   ],
   "source": [
    "\n",
    "print('Predicted value: ', classes[np.argmax(predicted_value)],\n",
    "      '\\nReal value :', classes[y_test[7]])\n",
    "plt.imshow(X_test_s[7]);"
   ]
  },
  {
   "cell_type": "markdown",
   "metadata": {},
   "source": [
    "predection was correct "
   ]
  },
  {
   "cell_type": "markdown",
   "metadata": {},
   "source": [
    "References:\n",
    "- https://machinelearningmastery.com/how-to-develop-a-cnn-from-scratch-for-fashion-mnist-clothing-classification/"
   ]
  },
  {
   "cell_type": "markdown",
   "metadata": {},
   "source": [
    "# End of Assignment"
   ]
  },
  {
   "cell_type": "markdown",
   "metadata": {},
   "source": [
    "___\n",
    "\n",
    "<p style=\"text-align: center;\"><img src=\"https://docs.google.com/uc?id=1lY0Uj5R04yMY3-ZppPWxqCr5pvBLYPnV\" class=\"img-fluid\" alt=\"CLRSWY\"></p>\n",
    "\n",
    "___"
   ]
  }
 ],
 "metadata": {
  "kernelspec": {
   "display_name": "Python 3 (ipykernel)",
   "language": "python",
   "name": "python3"
  },
  "language_info": {
   "codemirror_mode": {
    "name": "ipython",
    "version": 3
   },
   "file_extension": ".py",
   "mimetype": "text/x-python",
   "name": "python",
   "nbconvert_exporter": "python",
   "pygments_lexer": "ipython3",
   "version": "3.10.12"
  },
  "toc": {
   "base_numbering": 1,
   "nav_menu": {},
   "number_sections": false,
   "sideBar": true,
   "skip_h1_title": false,
   "title_cell": "Table of Contents",
   "title_sidebar": "Contents",
   "toc_cell": false,
   "toc_position": {},
   "toc_section_display": true,
   "toc_window_display": true
  }
 },
 "nbformat": 4,
 "nbformat_minor": 2
}
